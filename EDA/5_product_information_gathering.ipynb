{
 "cells": [
  {
   "cell_type": "markdown",
   "metadata": {},
   "source": [
    "This notebook loads the 7 months (from October 2019 to April 2020) of data only focusing on the purchase events to obtain the product information for all products purchased during the 7 months. "
   ]
  },
  {
   "cell_type": "code",
   "execution_count": 1,
   "metadata": {},
   "outputs": [],
   "source": [
    "# Loading basic needed libraries\n",
    "import pandas as pd\n",
    "import gc\n",
    "\n",
    "# Loading libraries for S3 bucket connection\n",
    "import boto3\n",
    "import io\n",
    "from io import StringIO,BytesIO, TextIOWrapper\n",
    "import gzip\n",
    "\n",
    "client = boto3.client('s3') \n",
    "resource = boto3.resource('s3') "
   ]
  },
  {
   "cell_type": "markdown",
   "metadata": {},
   "source": [
    "#### Loading and preparing data"
   ]
  },
  {
   "cell_type": "code",
   "execution_count": 2,
   "metadata": {},
   "outputs": [
    {
     "data": {
      "text/plain": [
       "event_type           1\n",
       "product_id       16737\n",
       "category_id        215\n",
       "category_code      120\n",
       "brand             1052\n",
       "price            18390\n",
       "dtype: int64"
      ]
     },
     "execution_count": 2,
     "metadata": {},
     "output_type": "execute_result"
    }
   ],
   "source": [
    "# Reading csv file from S3 - Selecting specific columns\n",
    "df_oct = pd.read_csv('s3://predictive-maintenance-bucket/data/2019-Oct.csv', usecols=['event_type','category_code','category_id','brand', 'product_id', 'price'])\n",
    "# Preliminary Cleaning\n",
    "# Only keeping records that contain the category_code and brand in order to make more meaningful recommendations\n",
    "df_oct = df_oct.dropna(subset=['category_code', 'brand'])\n",
    "df_oct = df_oct.loc[df_oct['event_type'] == 'purchase']\n",
    "df_oct.nunique()"
   ]
  },
  {
   "cell_type": "code",
   "execution_count": 3,
   "metadata": {},
   "outputs": [
    {
     "data": {
      "text/plain": [
       "event_type           1\n",
       "product_id       20772\n",
       "category_id        240\n",
       "category_code      126\n",
       "brand             1236\n",
       "price            17335\n",
       "dtype: int64"
      ]
     },
     "execution_count": 3,
     "metadata": {},
     "output_type": "execute_result"
    }
   ],
   "source": [
    "# Reading csv file from S3 - Selecting specific columns\n",
    "df_nov = pd.read_csv('s3://predictive-maintenance-bucket/data/2019-Nov.csv', usecols=['event_type','category_code','category_id','brand', 'product_id', 'price'])\n",
    "# Preliminary Cleaning\n",
    "# Only keeping records that contain the category_code and brand in order to make more meaningful recommendations\n",
    "df_nov = df_nov.dropna(subset=['category_code', 'brand'])\n",
    "df_nov = df_nov.loc[df_nov['event_type'] == 'purchase']\n",
    "df_nov.nunique()"
   ]
  },
  {
   "cell_type": "code",
   "execution_count": 4,
   "metadata": {},
   "outputs": [],
   "source": [
    "# Concatanating dfs together step by step to avoid the memory overload of loading and concatanating all 7 at a time\n",
    "dfs = [df_oct, df_nov]\n",
    "full_data = pd.concat(dfs)"
   ]
  },
  {
   "cell_type": "code",
   "execution_count": 5,
   "metadata": {},
   "outputs": [
    {
     "data": {
      "text/plain": [
       "118"
      ]
     },
     "execution_count": 5,
     "metadata": {},
     "output_type": "execute_result"
    }
   ],
   "source": [
    "# Deleting unneeded dfs and clearing memory using the gc library\n",
    "del df_oct\n",
    "del df_nov\n",
    "gc.collect()"
   ]
  },
  {
   "cell_type": "code",
   "execution_count": 6,
   "metadata": {},
   "outputs": [
    {
     "data": {
      "text/plain": [
       "event_type           1\n",
       "product_id       37504\n",
       "category_id        786\n",
       "category_code      134\n",
       "brand             2643\n",
       "price            21880\n",
       "dtype: int64"
      ]
     },
     "execution_count": 6,
     "metadata": {},
     "output_type": "execute_result"
    }
   ],
   "source": [
    "# Reading csv file from S3 - Selecting specific columns\n",
    "df_dec = pd.read_csv('s3://predictive-maintenance-bucket/data/2019-Dec.csv', usecols=['event_type','category_code','category_id','brand', 'product_id', 'price'])\n",
    "# Preliminary Cleaning\n",
    "# Only keeping records that contain the category_code and brand in order to make more meaningful recommendations\n",
    "df_dec = df_dec.dropna(subset=['category_code', 'brand'])\n",
    "df_dec = df_dec.loc[df_dec['event_type'] == 'purchase']\n",
    "df_dec.nunique()"
   ]
  },
  {
   "cell_type": "code",
   "execution_count": 7,
   "metadata": {},
   "outputs": [],
   "source": [
    "# Concatanating dfs together step by step to avoid the memory overload of loading and concatanating all 7 at a time\n",
    "dfs = [full_data, df_dec]\n",
    "full_data = pd.concat(dfs)"
   ]
  },
  {
   "cell_type": "code",
   "execution_count": 8,
   "metadata": {},
   "outputs": [
    {
     "data": {
      "text/plain": [
       "479"
      ]
     },
     "execution_count": 8,
     "metadata": {},
     "output_type": "execute_result"
    }
   ],
   "source": [
    "# Deleting unneeded dfs and clearing memory using the gc library\n",
    "del df_dec\n",
    "gc.collect()"
   ]
  },
  {
   "cell_type": "code",
   "execution_count": 9,
   "metadata": {},
   "outputs": [
    {
     "data": {
      "text/plain": [
       "event_type           1\n",
       "product_id       31523\n",
       "category_id        805\n",
       "category_code      134\n",
       "brand             2554\n",
       "price            29890\n",
       "dtype: int64"
      ]
     },
     "execution_count": 9,
     "metadata": {},
     "output_type": "execute_result"
    }
   ],
   "source": [
    "# Reading csv file from S3 - Selecting specific columns\n",
    "df_jan = pd.read_csv('s3://predictive-maintenance-bucket/data/2020-Jan.csv', usecols=['event_type','category_code','category_id','brand', 'product_id', 'price'])\n",
    "# Preliminary Cleaning\n",
    "# Only keeping records that contain the category_code and brand in order to make more meaningful recommendations\n",
    "df_jan = df_jan.dropna(subset=['category_code', 'brand'])\n",
    "df_jan = df_jan.loc[df_jan['event_type'] == 'purchase']\n",
    "df_jan.nunique()"
   ]
  },
  {
   "cell_type": "code",
   "execution_count": 10,
   "metadata": {},
   "outputs": [],
   "source": [
    "# Concatanating dfs together step by step to avoid the memory overload of loading and concatanating all 7 at a time\n",
    "dfs = [full_data, df_jan]\n",
    "full_data = pd.concat(dfs)"
   ]
  },
  {
   "cell_type": "code",
   "execution_count": 11,
   "metadata": {},
   "outputs": [
    {
     "data": {
      "text/plain": [
       "474"
      ]
     },
     "execution_count": 11,
     "metadata": {},
     "output_type": "execute_result"
    }
   ],
   "source": [
    "# Deleting unneeded dfs and clearing memory using the gc library\n",
    "del df_jan\n",
    "gc.collect()"
   ]
  },
  {
   "cell_type": "code",
   "execution_count": 12,
   "metadata": {},
   "outputs": [
    {
     "data": {
      "text/plain": [
       "event_type           1\n",
       "product_id       33207\n",
       "category_id        740\n",
       "category_code      135\n",
       "brand             2230\n",
       "price            22874\n",
       "dtype: int64"
      ]
     },
     "execution_count": 12,
     "metadata": {},
     "output_type": "execute_result"
    }
   ],
   "source": [
    "# Reading csv file from S3 - Selecting specific columns\n",
    "df_feb = pd.read_csv('s3://predictive-maintenance-bucket/data/2020-Feb.csv', usecols=['event_type','category_code','category_id','brand', 'product_id', 'price'])\n",
    "# Preliminary Cleaning\n",
    "# Only keeping records that contain the category_code and brand in order to make more meaningful recommendations\n",
    "df_feb = df_feb.dropna(subset=['category_code', 'brand'])\n",
    "df_feb = df_feb.loc[df_feb['event_type'] == 'purchase']\n",
    "df_feb.nunique()"
   ]
  },
  {
   "cell_type": "code",
   "execution_count": 13,
   "metadata": {},
   "outputs": [],
   "source": [
    "# Concatanating dfs together step by step to avoid the memory overload of loading and concatanating all 7 at a time\n",
    "dfs = [full_data, df_feb]\n",
    "full_data = pd.concat(dfs)"
   ]
  },
  {
   "cell_type": "code",
   "execution_count": 14,
   "metadata": {},
   "outputs": [
    {
     "data": {
      "text/plain": [
       "439"
      ]
     },
     "execution_count": 14,
     "metadata": {},
     "output_type": "execute_result"
    }
   ],
   "source": [
    "# Deleting unneeded dfs and clearing memory using the gc library\n",
    "del df_feb\n",
    "gc.collect()"
   ]
  },
  {
   "cell_type": "code",
   "execution_count": 15,
   "metadata": {},
   "outputs": [
    {
     "data": {
      "text/plain": [
       "event_type           1\n",
       "product_id       37166\n",
       "category_id        725\n",
       "category_code      133\n",
       "brand             2344\n",
       "price            21352\n",
       "dtype: int64"
      ]
     },
     "execution_count": 15,
     "metadata": {},
     "output_type": "execute_result"
    }
   ],
   "source": [
    "# Reading csv file from S3 - Selecting specific columns\n",
    "df_march = pd.read_csv('s3://predictive-maintenance-bucket/data/2020-Mar.csv', usecols=['event_type','category_code','category_id','brand', 'product_id', 'price'])\n",
    "# Preliminary Cleaning\n",
    "# Only keeping records that contain the category_code and brand in order to make more meaningful recommendations\n",
    "df_march = df_march.dropna(subset=['category_code', 'brand'])\n",
    "df_march = df_march.loc[df_march['event_type'] == 'purchase']\n",
    "df_march.nunique()"
   ]
  },
  {
   "cell_type": "code",
   "execution_count": 16,
   "metadata": {},
   "outputs": [],
   "source": [
    "# Concatanating dfs together step by step to avoid the memory overload of loading and concatanating all 7 at a time\n",
    "dfs = [full_data, df_march]\n",
    "full_data = pd.concat(dfs)"
   ]
  },
  {
   "cell_type": "code",
   "execution_count": 17,
   "metadata": {},
   "outputs": [
    {
     "data": {
      "text/plain": [
       "29"
      ]
     },
     "execution_count": 17,
     "metadata": {},
     "output_type": "execute_result"
    }
   ],
   "source": [
    "# Deleting unneeded dfs and clearing memory using the gc library\n",
    "del df_march\n",
    "gc.collect()"
   ]
  },
  {
   "cell_type": "code",
   "execution_count": 18,
   "metadata": {},
   "outputs": [
    {
     "data": {
      "text/plain": [
       "event_type           1\n",
       "product_id       39294\n",
       "category_id        749\n",
       "category_code      135\n",
       "brand             2313\n",
       "price            21481\n",
       "dtype: int64"
      ]
     },
     "execution_count": 18,
     "metadata": {},
     "output_type": "execute_result"
    }
   ],
   "source": [
    "# Reading csv file from S3 - Selecting specific columns\n",
    "df_apr = pd.read_csv('s3://predictive-maintenance-bucket/data/2020-Apr.csv', usecols=['event_type','category_code','category_id','brand', 'product_id', 'price'])\n",
    "# Preliminary Cleaning\n",
    "# Only keeping records that contain the category_code and brand in order to make more meaningful recommendations\n",
    "df_apr = df_apr.dropna(subset=['category_code', 'brand'])\n",
    "df_apr = df_apr.loc[df_apr['event_type'] == 'purchase']\n",
    "df_apr.nunique()"
   ]
  },
  {
   "cell_type": "code",
   "execution_count": 19,
   "metadata": {},
   "outputs": [],
   "source": [
    "# Concatanating dfs together step by step to avoid the memory overload of loading and concatanating all 7 at a time\n",
    "dfs = [full_data, df_apr]\n",
    "full_data = pd.concat(dfs)"
   ]
  },
  {
   "cell_type": "code",
   "execution_count": 20,
   "metadata": {},
   "outputs": [
    {
     "data": {
      "text/plain": [
       "359"
      ]
     },
     "execution_count": 20,
     "metadata": {},
     "output_type": "execute_result"
    }
   ],
   "source": [
    "# Deleting unneeded dfs and clearing memory using the gc library\n",
    "del df_apr\n",
    "gc.collect()"
   ]
  },
  {
   "cell_type": "code",
   "execution_count": 21,
   "metadata": {},
   "outputs": [
    {
     "data": {
      "text/html": [
       "<div>\n",
       "<style scoped>\n",
       "    .dataframe tbody tr th:only-of-type {\n",
       "        vertical-align: middle;\n",
       "    }\n",
       "\n",
       "    .dataframe tbody tr th {\n",
       "        vertical-align: top;\n",
       "    }\n",
       "\n",
       "    .dataframe thead th {\n",
       "        text-align: right;\n",
       "    }\n",
       "</style>\n",
       "<table border=\"1\" class=\"dataframe\">\n",
       "  <thead>\n",
       "    <tr style=\"text-align: right;\">\n",
       "      <th></th>\n",
       "      <th>category_code</th>\n",
       "      <th>category_id</th>\n",
       "      <th>brand</th>\n",
       "      <th>product_id</th>\n",
       "      <th>price</th>\n",
       "    </tr>\n",
       "  </thead>\n",
       "  <tbody>\n",
       "    <tr>\n",
       "      <th>162</th>\n",
       "      <td>electronics.smartphone</td>\n",
       "      <td>2053013555631882655</td>\n",
       "      <td>samsung</td>\n",
       "      <td>1004856</td>\n",
       "      <td>130.76</td>\n",
       "    </tr>\n",
       "    <tr>\n",
       "      <th>308</th>\n",
       "      <td>electronics.smartphone</td>\n",
       "      <td>2053013555631882655</td>\n",
       "      <td>apple</td>\n",
       "      <td>1002532</td>\n",
       "      <td>642.69</td>\n",
       "    </tr>\n",
       "    <tr>\n",
       "      <th>442</th>\n",
       "      <td>furniture.bathroom.toilet</td>\n",
       "      <td>2053013557418656265</td>\n",
       "      <td>santeri</td>\n",
       "      <td>13800054</td>\n",
       "      <td>54.42</td>\n",
       "    </tr>\n",
       "    <tr>\n",
       "      <th>574</th>\n",
       "      <td>electronics.audio.headphone</td>\n",
       "      <td>2053013554658804075</td>\n",
       "      <td>apple</td>\n",
       "      <td>4804055</td>\n",
       "      <td>189.91</td>\n",
       "    </tr>\n",
       "    <tr>\n",
       "      <th>603</th>\n",
       "      <td>electronics.audio.headphone</td>\n",
       "      <td>2053013554658804075</td>\n",
       "      <td>apple</td>\n",
       "      <td>4804056</td>\n",
       "      <td>161.98</td>\n",
       "    </tr>\n",
       "  </tbody>\n",
       "</table>\n",
       "</div>"
      ],
      "text/plain": [
       "                   category_code          category_id    brand  product_id  \\\n",
       "162       electronics.smartphone  2053013555631882655  samsung     1004856   \n",
       "308       electronics.smartphone  2053013555631882655    apple     1002532   \n",
       "442    furniture.bathroom.toilet  2053013557418656265  santeri    13800054   \n",
       "574  electronics.audio.headphone  2053013554658804075    apple     4804055   \n",
       "603  electronics.audio.headphone  2053013554658804075    apple     4804056   \n",
       "\n",
       "      price  \n",
       "162  130.76  \n",
       "308  642.69  \n",
       "442   54.42  \n",
       "574  189.91  \n",
       "603  161.98  "
      ]
     },
     "execution_count": 21,
     "metadata": {},
     "output_type": "execute_result"
    }
   ],
   "source": [
    "full_data = full_data[['category_code','category_id','brand', 'product_id', 'price']]\n",
    "full_data = full_data.drop_duplicates(subset=['category_code','category_id','brand', 'product_id', 'price'])\n",
    "full_data.head()"
   ]
  },
  {
   "cell_type": "code",
   "execution_count": 22,
   "metadata": {},
   "outputs": [
    {
     "data": {
      "text/plain": [
       "category_code      139\n",
       "category_id        932\n",
       "brand             4081\n",
       "product_id       96037\n",
       "price            67748\n",
       "dtype: int64"
      ]
     },
     "execution_count": 22,
     "metadata": {},
     "output_type": "execute_result"
    }
   ],
   "source": [
    "full_data.nunique()"
   ]
  },
  {
   "cell_type": "code",
   "execution_count": 23,
   "metadata": {},
   "outputs": [],
   "source": [
    "# Saving results in S3\n",
    "full_data.to_csv('s3://myaws-capstone-bucket/eCommerce_product_data.csv', index=False)"
   ]
  },
  {
   "cell_type": "code",
   "execution_count": null,
   "metadata": {},
   "outputs": [],
   "source": []
  }
 ],
 "metadata": {
  "kernelspec": {
   "display_name": "conda_pytorch_p36",
   "language": "python",
   "name": "conda_pytorch_p36"
  },
  "language_info": {
   "codemirror_mode": {
    "name": "ipython",
    "version": 3
   },
   "file_extension": ".py",
   "mimetype": "text/x-python",
   "name": "python",
   "nbconvert_exporter": "python",
   "pygments_lexer": "ipython3",
   "version": "3.6.13"
  }
 },
 "nbformat": 4,
 "nbformat_minor": 4
}
