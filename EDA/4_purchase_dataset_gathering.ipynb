{
 "cells": [
  {
   "cell_type": "markdown",
   "metadata": {},
   "source": [
    "This notebook loads the 7 months (from October 2019 to April 2020) of data only focusing on the purchase events for each user, taking their event_time, category_code and brand. At the end we will have one full dataframe containing the purchases of each user with their date. \n",
    "\n",
    "The resulting dataframe will be used for Basket Market Analysis along with other product recommendation models based on sequences of purchase such as RNN and CNN recommendation models and Neural Collaborative Filtering model."
   ]
  },
  {
   "cell_type": "code",
   "execution_count": 1,
   "metadata": {},
   "outputs": [],
   "source": [
    "# Loading basic needed libraries\n",
    "import pandas as pd\n",
    "import gc\n",
    "\n",
    "# Loading libraries for S3 bucket connection\n",
    "import boto3\n",
    "import io\n",
    "from io import StringIO,BytesIO, TextIOWrapper\n",
    "import gzip\n",
    "\n",
    "client = boto3.client('s3') \n",
    "resource = boto3.resource('s3') "
   ]
  },
  {
   "cell_type": "markdown",
   "metadata": {},
   "source": [
    "#### Loading and preparing data"
   ]
  },
  {
   "cell_type": "code",
   "execution_count": 2,
   "metadata": {},
   "outputs": [
    {
     "data": {
      "text/plain": [
       "event_time       477551\n",
       "event_type            1\n",
       "product_id        16737\n",
       "category_id         215\n",
       "category_code       120\n",
       "brand              1052\n",
       "user_id          263445\n",
       "user_session     466799\n",
       "dtype: int64"
      ]
     },
     "execution_count": 2,
     "metadata": {},
     "output_type": "execute_result"
    }
   ],
   "source": [
    "# Reading csv file from S3 - Selecting specific columns\n",
    "df_oct = pd.read_csv('s3://predictive-maintenance-bucket/data/2019-Oct.csv', usecols=['user_id', 'user_session', 'event_time', 'category_code','category_id','brand', 'product_id', 'event_type'])\n",
    "# Preliminary Cleaning\n",
    "# Only keeping records that contain the category_code and brand in order to make more meaningful recommendations\n",
    "df_oct = df_oct.dropna(subset=['category_code', 'brand'])\n",
    "df_oct = df_oct.loc[df_oct['event_type'] == 'purchase']\n",
    "df_oct.nunique()"
   ]
  },
  {
   "cell_type": "code",
   "execution_count": 3,
   "metadata": {},
   "outputs": [
    {
     "data": {
      "text/plain": [
       "event_time       483369\n",
       "event_type            1\n",
       "product_id        20772\n",
       "category_id         240\n",
       "category_code       126\n",
       "brand              1236\n",
       "user_id          330394\n",
       "user_session     558494\n",
       "dtype: int64"
      ]
     },
     "execution_count": 3,
     "metadata": {},
     "output_type": "execute_result"
    }
   ],
   "source": [
    "# Reading csv file from S3 - Selecting specific columns\n",
    "df_nov = pd.read_csv('s3://predictive-maintenance-bucket/data/2019-Nov.csv', usecols=['user_id', 'user_session', 'event_time', 'category_code','category_id', 'brand', 'product_id', 'event_type'])\n",
    "# Preliminary Cleaning\n",
    "# Only keeping records that contain the category_code and brand in order to make more meaningful recommendations\n",
    "df_nov = df_nov.dropna(subset=['category_code', 'brand'])\n",
    "df_nov = df_nov.loc[df_nov['event_type'] == 'purchase']\n",
    "df_nov.nunique()"
   ]
  },
  {
   "cell_type": "code",
   "execution_count": 4,
   "metadata": {},
   "outputs": [],
   "source": [
    "# Concatanating dfs together step by step to avoid the memory overload of loading and concatanating all 7 at a time\n",
    "dfs = [df_oct, df_nov]\n",
    "full_data = pd.concat(dfs)"
   ]
  },
  {
   "cell_type": "code",
   "execution_count": 5,
   "metadata": {},
   "outputs": [
    {
     "data": {
      "text/plain": [
       "98"
      ]
     },
     "execution_count": 5,
     "metadata": {},
     "output_type": "execute_result"
    }
   ],
   "source": [
    "# Deleting unneeded dfs and clearing memory using the gc library\n",
    "del df_oct\n",
    "del df_nov\n",
    "gc.collect()"
   ]
  },
  {
   "cell_type": "code",
   "execution_count": 6,
   "metadata": {},
   "outputs": [
    {
     "data": {
      "text/plain": [
       "event_time       779313\n",
       "event_type            1\n",
       "product_id        37504\n",
       "category_id         786\n",
       "category_code       134\n",
       "brand              2643\n",
       "user_id          444825\n",
       "user_session     844153\n",
       "dtype: int64"
      ]
     },
     "execution_count": 6,
     "metadata": {},
     "output_type": "execute_result"
    }
   ],
   "source": [
    "# Reading csv file from S3 - Selecting specific columns\n",
    "df_dec = pd.read_csv('s3://predictive-maintenance-bucket/data/2019-Dec.csv', usecols=['user_id', 'user_session', 'event_time', 'category_code', 'category_id', 'brand', 'product_id', 'event_type'])\n",
    "# Preliminary Cleaning\n",
    "# Only keeping records that contain the category_code and brand in order to make more meaningful recommendations\n",
    "df_dec = df_dec.dropna(subset=['category_code', 'brand'])\n",
    "df_dec = df_dec.loc[df_dec['event_type'] == 'purchase']\n",
    "df_dec.nunique()"
   ]
  },
  {
   "cell_type": "code",
   "execution_count": 7,
   "metadata": {},
   "outputs": [],
   "source": [
    "# Concatanating dfs together step by step to avoid the memory overload of loading and concatanating all 7 at a time\n",
    "dfs = [full_data, df_dec]\n",
    "full_data = pd.concat(dfs)"
   ]
  },
  {
   "cell_type": "code",
   "execution_count": 8,
   "metadata": {},
   "outputs": [
    {
     "data": {
      "text/plain": [
       "464"
      ]
     },
     "execution_count": 8,
     "metadata": {},
     "output_type": "execute_result"
    }
   ],
   "source": [
    "# Deleting unneeded dfs and clearing memory using the gc library\n",
    "del df_dec\n",
    "gc.collect()"
   ]
  },
  {
   "cell_type": "code",
   "execution_count": 9,
   "metadata": {},
   "outputs": [
    {
     "data": {
      "text/plain": [
       "event_time       611861\n",
       "event_type            1\n",
       "product_id        31523\n",
       "category_id         805\n",
       "category_code       134\n",
       "brand              2554\n",
       "user_id          323918\n",
       "user_session     616833\n",
       "dtype: int64"
      ]
     },
     "execution_count": 9,
     "metadata": {},
     "output_type": "execute_result"
    }
   ],
   "source": [
    "# Reading csv file from S3 - Selecting specific columns\n",
    "df_jan = pd.read_csv('s3://predictive-maintenance-bucket/data/2020-Jan.csv', usecols=['user_id', 'user_session', 'event_time', 'category_code', 'category_id','brand', 'product_id', 'event_type'])\n",
    "# Preliminary Cleaning\n",
    "# Only keeping records that contain the category_code and brand in order to make more meaningful recommendations\n",
    "df_jan = df_jan.dropna(subset=['category_code', 'brand'])\n",
    "df_jan = df_jan.loc[df_jan['event_type'] == 'purchase']\n",
    "df_jan.nunique()"
   ]
  },
  {
   "cell_type": "code",
   "execution_count": 10,
   "metadata": {},
   "outputs": [],
   "source": [
    "# Concatanating dfs together step by step to avoid the memory overload of loading and concatanating all 7 at a time\n",
    "dfs = [full_data, df_jan]\n",
    "full_data = pd.concat(dfs)"
   ]
  },
  {
   "cell_type": "code",
   "execution_count": 11,
   "metadata": {},
   "outputs": [
    {
     "data": {
      "text/plain": [
       "224"
      ]
     },
     "execution_count": 11,
     "metadata": {},
     "output_type": "execute_result"
    }
   ],
   "source": [
    "# Deleting unneeded dfs and clearing memory using the gc library\n",
    "del df_jan\n",
    "gc.collect()"
   ]
  },
  {
   "cell_type": "code",
   "execution_count": 12,
   "metadata": {},
   "outputs": [
    {
     "data": {
      "text/plain": [
       "event_time       710536\n",
       "event_type            1\n",
       "product_id        33207\n",
       "category_id         740\n",
       "category_code       135\n",
       "brand              2230\n",
       "user_id          349081\n",
       "user_session     662989\n",
       "dtype: int64"
      ]
     },
     "execution_count": 12,
     "metadata": {},
     "output_type": "execute_result"
    }
   ],
   "source": [
    "# Reading csv file from S3 - Selecting specific columns\n",
    "df_feb = pd.read_csv('s3://predictive-maintenance-bucket/data/2020-Feb.csv', usecols=['user_id', 'user_session', 'event_time', 'category_code', 'category_id', 'brand', 'product_id', 'event_type'])\n",
    "# Preliminary Cleaning\n",
    "# Only keeping records that contain the category_code and brand in order to make more meaningful recommendations\n",
    "df_feb = df_feb.dropna(subset=['category_code', 'brand'])\n",
    "df_feb = df_feb.loc[df_feb['event_type'] == 'purchase']\n",
    "df_feb.nunique()"
   ]
  },
  {
   "cell_type": "code",
   "execution_count": 13,
   "metadata": {},
   "outputs": [],
   "source": [
    "# Concatanating dfs together step by step to avoid the memory overload of loading and concatanating all 7 at a time\n",
    "dfs = [full_data, df_feb]\n",
    "full_data = pd.concat(dfs)"
   ]
  },
  {
   "cell_type": "code",
   "execution_count": 14,
   "metadata": {},
   "outputs": [
    {
     "data": {
      "text/plain": [
       "179"
      ]
     },
     "execution_count": 14,
     "metadata": {},
     "output_type": "execute_result"
    }
   ],
   "source": [
    "# Deleting unneeded dfs and clearing memory using the gc library\n",
    "del df_feb\n",
    "gc.collect()"
   ]
  },
  {
   "cell_type": "code",
   "execution_count": 15,
   "metadata": {},
   "outputs": [
    {
     "data": {
      "text/plain": [
       "event_time       697345\n",
       "event_type            1\n",
       "product_id        37166\n",
       "category_id         725\n",
       "category_code       133\n",
       "brand              2344\n",
       "user_id          393040\n",
       "user_session     723857\n",
       "dtype: int64"
      ]
     },
     "execution_count": 15,
     "metadata": {},
     "output_type": "execute_result"
    }
   ],
   "source": [
    "# Reading csv file from S3 - Selecting specific columns\n",
    "df_march = pd.read_csv('s3://predictive-maintenance-bucket/data/2020-Mar.csv', usecols=['user_id', 'user_session', 'event_time', 'category_code', 'category_id', 'brand', 'product_id', 'event_type'])\n",
    "# Preliminary Cleaning\n",
    "# Only keeping records that contain the category_code and brand in order to make more meaningful recommendations\n",
    "df_march = df_march.dropna(subset=['category_code', 'brand'])\n",
    "df_march = df_march.loc[df_march['event_type'] == 'purchase']\n",
    "df_march.nunique()"
   ]
  },
  {
   "cell_type": "code",
   "execution_count": 16,
   "metadata": {},
   "outputs": [],
   "source": [
    "# Concatanating dfs together step by step to avoid the memory overload of loading and concatanating all 7 at a time\n",
    "dfs = [full_data, df_march]\n",
    "full_data = pd.concat(dfs)"
   ]
  },
  {
   "cell_type": "code",
   "execution_count": 17,
   "metadata": {},
   "outputs": [
    {
     "data": {
      "text/plain": [
       "304"
      ]
     },
     "execution_count": 17,
     "metadata": {},
     "output_type": "execute_result"
    }
   ],
   "source": [
    "# Deleting unneeded dfs and clearing memory using the gc library\n",
    "del df_march\n",
    "gc.collect()"
   ]
  },
  {
   "cell_type": "code",
   "execution_count": 18,
   "metadata": {},
   "outputs": [
    {
     "data": {
      "text/plain": [
       "event_time       655585\n",
       "event_type            1\n",
       "product_id        39294\n",
       "category_id         749\n",
       "category_code       135\n",
       "brand              2313\n",
       "user_id          425603\n",
       "user_session     673460\n",
       "dtype: int64"
      ]
     },
     "execution_count": 18,
     "metadata": {},
     "output_type": "execute_result"
    }
   ],
   "source": [
    "# Reading csv file from S3 - Selecting specific columns\n",
    "df_apr = pd.read_csv('s3://predictive-maintenance-bucket/data/2020-Apr.csv', usecols=['user_id', 'user_session', 'event_time', 'category_code', 'category_id', 'brand', 'product_id', 'event_type'])\n",
    "# Preliminary Cleaning\n",
    "# Only keeping records that contain the category_code and brand in order to make more meaningful recommendations\n",
    "df_apr = df_apr.dropna(subset=['category_code', 'brand'])\n",
    "df_apr = df_apr.loc[df_apr['event_type'] == 'purchase']\n",
    "df_apr.nunique()"
   ]
  },
  {
   "cell_type": "code",
   "execution_count": 19,
   "metadata": {},
   "outputs": [],
   "source": [
    "# Concatanating dfs together step by step to avoid the memory overload of loading and concatanating all 7 at a time\n",
    "dfs = [full_data, df_apr]\n",
    "full_data = pd.concat(dfs)"
   ]
  },
  {
   "cell_type": "code",
   "execution_count": 20,
   "metadata": {},
   "outputs": [
    {
     "data": {
      "text/plain": [
       "409"
      ]
     },
     "execution_count": 20,
     "metadata": {},
     "output_type": "execute_result"
    }
   ],
   "source": [
    "# Deleting unneeded dfs and clearing memory using the gc library\n",
    "del df_apr\n",
    "gc.collect()"
   ]
  },
  {
   "cell_type": "code",
   "execution_count": 24,
   "metadata": {},
   "outputs": [
    {
     "data": {
      "text/html": [
       "<div>\n",
       "<style scoped>\n",
       "    .dataframe tbody tr th:only-of-type {\n",
       "        vertical-align: middle;\n",
       "    }\n",
       "\n",
       "    .dataframe tbody tr th {\n",
       "        vertical-align: top;\n",
       "    }\n",
       "\n",
       "    .dataframe thead th {\n",
       "        text-align: right;\n",
       "    }\n",
       "</style>\n",
       "<table border=\"1\" class=\"dataframe\">\n",
       "  <thead>\n",
       "    <tr style=\"text-align: right;\">\n",
       "      <th></th>\n",
       "      <th>user_id</th>\n",
       "      <th>user_session</th>\n",
       "      <th>event_time</th>\n",
       "      <th>category_code</th>\n",
       "      <th>category_id</th>\n",
       "      <th>brand</th>\n",
       "      <th>product_id</th>\n",
       "      <th>category</th>\n",
       "    </tr>\n",
       "  </thead>\n",
       "  <tbody>\n",
       "    <tr>\n",
       "      <th>162</th>\n",
       "      <td>543272936</td>\n",
       "      <td>8187d148-3c41-46d4-b0c0-9c08cd9dc564</td>\n",
       "      <td>2019-10-01 00:02:14 UTC</td>\n",
       "      <td>electronics.smartphone</td>\n",
       "      <td>2053013555631882655</td>\n",
       "      <td>samsung</td>\n",
       "      <td>1004856</td>\n",
       "      <td>2053013555631882655_electronics.smartphone</td>\n",
       "    </tr>\n",
       "    <tr>\n",
       "      <th>308</th>\n",
       "      <td>551377651</td>\n",
       "      <td>3c80f0d6-e9ec-4181-8c5c-837a30be2d68</td>\n",
       "      <td>2019-10-01 00:04:37 UTC</td>\n",
       "      <td>electronics.smartphone</td>\n",
       "      <td>2053013555631882655</td>\n",
       "      <td>apple</td>\n",
       "      <td>1002532</td>\n",
       "      <td>2053013555631882655_electronics.smartphone</td>\n",
       "    </tr>\n",
       "    <tr>\n",
       "      <th>442</th>\n",
       "      <td>555332717</td>\n",
       "      <td>1dea3ee2-2ded-42e8-8e7a-4e2ad6ae942f</td>\n",
       "      <td>2019-10-01 00:07:07 UTC</td>\n",
       "      <td>furniture.bathroom.toilet</td>\n",
       "      <td>2053013557418656265</td>\n",
       "      <td>santeri</td>\n",
       "      <td>13800054</td>\n",
       "      <td>2053013557418656265_furniture.bathroom.toilet</td>\n",
       "    </tr>\n",
       "    <tr>\n",
       "      <th>574</th>\n",
       "      <td>524601178</td>\n",
       "      <td>2af9b570-0942-4dcd-8f25-4d84fba82553</td>\n",
       "      <td>2019-10-01 00:09:26 UTC</td>\n",
       "      <td>electronics.audio.headphone</td>\n",
       "      <td>2053013554658804075</td>\n",
       "      <td>apple</td>\n",
       "      <td>4804055</td>\n",
       "      <td>2053013554658804075_electronics.audio.headphone</td>\n",
       "    </tr>\n",
       "    <tr>\n",
       "      <th>603</th>\n",
       "      <td>551377651</td>\n",
       "      <td>3c80f0d6-e9ec-4181-8c5c-837a30be2d68</td>\n",
       "      <td>2019-10-01 00:09:54 UTC</td>\n",
       "      <td>electronics.audio.headphone</td>\n",
       "      <td>2053013554658804075</td>\n",
       "      <td>apple</td>\n",
       "      <td>4804056</td>\n",
       "      <td>2053013554658804075_electronics.audio.headphone</td>\n",
       "    </tr>\n",
       "  </tbody>\n",
       "</table>\n",
       "</div>"
      ],
      "text/plain": [
       "       user_id                          user_session               event_time  \\\n",
       "162  543272936  8187d148-3c41-46d4-b0c0-9c08cd9dc564  2019-10-01 00:02:14 UTC   \n",
       "308  551377651  3c80f0d6-e9ec-4181-8c5c-837a30be2d68  2019-10-01 00:04:37 UTC   \n",
       "442  555332717  1dea3ee2-2ded-42e8-8e7a-4e2ad6ae942f  2019-10-01 00:07:07 UTC   \n",
       "574  524601178  2af9b570-0942-4dcd-8f25-4d84fba82553  2019-10-01 00:09:26 UTC   \n",
       "603  551377651  3c80f0d6-e9ec-4181-8c5c-837a30be2d68  2019-10-01 00:09:54 UTC   \n",
       "\n",
       "                   category_code          category_id    brand  product_id  \\\n",
       "162       electronics.smartphone  2053013555631882655  samsung     1004856   \n",
       "308       electronics.smartphone  2053013555631882655    apple     1002532   \n",
       "442    furniture.bathroom.toilet  2053013557418656265  santeri    13800054   \n",
       "574  electronics.audio.headphone  2053013554658804075    apple     4804055   \n",
       "603  electronics.audio.headphone  2053013554658804075    apple     4804056   \n",
       "\n",
       "                                            category  \n",
       "162       2053013555631882655_electronics.smartphone  \n",
       "308       2053013555631882655_electronics.smartphone  \n",
       "442    2053013557418656265_furniture.bathroom.toilet  \n",
       "574  2053013554658804075_electronics.audio.headphone  \n",
       "603  2053013554658804075_electronics.audio.headphone  "
      ]
     },
     "execution_count": 24,
     "metadata": {},
     "output_type": "execute_result"
    }
   ],
   "source": [
    "full_data = full_data[['user_id','user_session','event_time','category_code', 'category_id', 'brand', 'product_id']]\n",
    "full_data['category'] = full_data['category_id'].astype(str) + '_' + full_data['category_code']# Creating category column\n",
    "full_data.head()"
   ]
  },
  {
   "cell_type": "code",
   "execution_count": 25,
   "metadata": {},
   "outputs": [
    {
     "data": {
      "text/plain": [
       "user_id          1817173\n",
       "user_session     4544395\n",
       "event_time       4415560\n",
       "category_code        139\n",
       "category_id          932\n",
       "brand               4081\n",
       "product_id         96037\n",
       "category             932\n",
       "dtype: int64"
      ]
     },
     "execution_count": 25,
     "metadata": {},
     "output_type": "execute_result"
    }
   ],
   "source": [
    "full_data.nunique()"
   ]
  },
  {
   "cell_type": "code",
   "execution_count": 26,
   "metadata": {},
   "outputs": [],
   "source": [
    "# Saving results in S3\n",
    "full_data.to_csv('s3://myaws-capstone-bucket/eCommerce_purchase_data.csv', index=False)"
   ]
  },
  {
   "cell_type": "code",
   "execution_count": null,
   "metadata": {},
   "outputs": [],
   "source": []
  }
 ],
 "metadata": {
  "kernelspec": {
   "display_name": "conda_pytorch_p36",
   "language": "python",
   "name": "conda_pytorch_p36"
  },
  "language_info": {
   "codemirror_mode": {
    "name": "ipython",
    "version": 3
   },
   "file_extension": ".py",
   "mimetype": "text/x-python",
   "name": "python",
   "nbconvert_exporter": "python",
   "pygments_lexer": "ipython3",
   "version": "3.6.13"
  }
 },
 "nbformat": 4,
 "nbformat_minor": 4
}
