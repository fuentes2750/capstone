{
 "cells": [
  {
   "cell_type": "markdown",
   "id": "18151449",
   "metadata": {},
   "source": [
    "This code uses the training, validation and test sets created on the notebook: Implicit_Rating_Calculation_category.ipynb to create an Collaborative Filtering (CF) model using Alternating Least Squares (ALS) from Pyspark."
   ]
  },
  {
   "cell_type": "code",
   "execution_count": 1,
   "id": "3a77675d",
   "metadata": {},
   "outputs": [
    {
     "name": "stdout",
     "output_type": "stream",
     "text": [
      "Starting Spark application\n"
     ]
    },
    {
     "data": {
      "text/html": [
       "<table>\n",
       "<tr><th>ID</th><th>YARN Application ID</th><th>Kind</th><th>State</th><th>Spark UI</th><th>Driver log</th><th>User</th><th>Current session?</th></tr><tr><td>1747</td><td>application_1570493391423_71703</td><td>pyspark</td><td>idle</td><td><a target=\"_blank\" href=\"http://ip-172-21-40-211.analytics.neimanmarcuscloud.net:20888/proxy/application_1570493391423_71703/\">Link</a></td><td><a target=\"_blank\" href=\"http://ip-172-21-43-72.analytics.neimanmarcuscloud.net:8042/node/containerlogs/container_1570493391423_71703_01_000001/livy\">Link</a></td><td>None</td><td>✔</td></tr></table>"
      ],
      "text/plain": [
       "<IPython.core.display.HTML object>"
      ]
     },
     "metadata": {},
     "output_type": "display_data"
    },
    {
     "data": {
      "application/vnd.jupyter.widget-view+json": {
       "model_id": "",
       "version_major": 2,
       "version_minor": 0
      },
      "text/plain": [
       "FloatProgress(value=0.0, bar_style='info', description='Progress:', layout=Layout(height='25px', width='50%'),…"
      ]
     },
     "metadata": {},
     "output_type": "display_data"
    },
    {
     "name": "stdout",
     "output_type": "stream",
     "text": [
      "SparkSession available as 'spark'.\n"
     ]
    },
    {
     "data": {
      "application/vnd.jupyter.widget-view+json": {
       "model_id": "",
       "version_major": 2,
       "version_minor": 0
      },
      "text/plain": [
       "FloatProgress(value=0.0, bar_style='info', description='Progress:', layout=Layout(height='25px', width='50%'),…"
      ]
     },
     "metadata": {},
     "output_type": "display_data"
    }
   ],
   "source": [
    "# Loading needed pyspark libraries\n",
    "from pyspark.ml.recommendation import ALS\n",
    "from pyspark.ml.evaluation import RegressionEvaluator\n",
    "from pyspark.sql import functions as F\n",
    "from pyspark.sql.types import IntegerType\n",
    "from pyspark.ml.tuning import CrossValidator, ParamGridBuilder, TrainValidationSplit\n",
    "from pyspark.ml.feature import StringIndexer"
   ]
  },
  {
   "cell_type": "code",
   "execution_count": 2,
   "id": "9ea34716",
   "metadata": {},
   "outputs": [
    {
     "data": {
      "application/vnd.jupyter.widget-view+json": {
       "model_id": "",
       "version_major": 2,
       "version_minor": 0
      },
      "text/plain": [
       "FloatProgress(value=0.0, bar_style='info', description='Progress:', layout=Layout(height='25px', width='50%'),…"
      ]
     },
     "metadata": {},
     "output_type": "display_data"
    }
   ],
   "source": [
    "# Initializing spark context and setting up checkpoint directory\n",
    "sc = spark.sparkContext\n",
    "sc.setCheckpointDir(\"s3a://myaws-capstone-bucket/data/modeling/checkpointdir\")"
   ]
  },
  {
   "cell_type": "code",
   "execution_count": 3,
   "id": "daeb3267",
   "metadata": {},
   "outputs": [
    {
     "data": {
      "application/vnd.jupyter.widget-view+json": {
       "model_id": "",
       "version_major": 2,
       "version_minor": 0
      },
      "text/plain": [
       "FloatProgress(value=0.0, bar_style='info', description='Progress:', layout=Layout(height='25px', width='50%'),…"
      ]
     },
     "metadata": {},
     "output_type": "display_data"
    },
    {
     "name": "stdout",
     "output_type": "stream",
     "text": [
      "+---------+--------------------+-------------------+---------------+-----+\n",
      "|  user_id|            category|        category_id|implicit_rating|catID|\n",
      "+---------+--------------------+-------------------+---------------+-----+\n",
      "|512823699|22327321097960168...|2232732109796016868|              2|  803|\n",
      "|543131199|22327321350541151...|2232732135054115162|              2|  916|\n",
      "|519321120|20530135556318826...|2053013555631882655|              2|  107|\n",
      "|567347471|22327321010634757...|2232732101063475749|              2|  725|\n",
      "|566466570|20530135563113599...|2053013556311359947|              2|  126|\n",
      "|513413314|20530135616632921...|2053013561663292159|              1|  274|\n",
      "|616301238|22327320930775207...|2232732093077520756|              2|  668|\n",
      "|642449975|20530135531656317...|2053013553165631753|              3|   40|\n",
      "|572148514|20530135659834255...|2053013565983425517|              2|  375|\n",
      "|537109818|22327320922973801...|2232732092297380188|              2|  662|\n",
      "|515850364|20530135660337571...|2053013566033757167|              2|  376|\n",
      "|591340837|22327321046538000...|2232732104653800053|              1|  761|\n",
      "|557393580|22327320922973801...|2232732092297380188|              3|  662|\n",
      "|625535612|22327320917185662...|2232732091718566220|              2|  657|\n",
      "|515007268|20530135546588040...|2053013554658804075|              1|   84|\n",
      "|555852666|22327321058114279...|2232732105811427975|              2|  767|\n",
      "|561651406|22327320994360857...|2232732099436085763|              2|  710|\n",
      "|558292515|22327321038317164...|2232732103831716449|              2|  751|\n",
      "|541557116|22327321056352672...|2232732105635267203|              2|  766|\n",
      "|620997283|22327320930775207...|2232732093077520756|              2|  668|\n",
      "+---------+--------------------+-------------------+---------------+-----+\n",
      "only showing top 20 rows"
     ]
    }
   ],
   "source": [
    "# Reading train, validation and test datasets for implicit_cat data\n",
    "train_file ='s3://myaws-capstone-bucket/data/modeling/input/implicit_cat_rating_train.csv'\n",
    "df_train =spark.read.option(\"header\",\"true\").csv(train_file)\n",
    "\n",
    "val_train_file ='s3://myaws-capstone-bucket/data/modeling/input/implicit_cat_rating_val_train.csv'\n",
    "df_train_val =spark.read.option(\"header\",\"true\").csv(val_train_file)\n",
    "\n",
    "test_file ='s3://myaws-capstone-bucket/data/modeling/input/implicit_cat_rating_test.csv'\n",
    "df_test =spark.read.option(\"header\",\"true\").csv(test_file)\n",
    "\n",
    "val_test_file ='s3://myaws-capstone-bucket/data/modeling/input/implicit_cat_rating_val_test.csv'\n",
    "df_test_val =spark.read.option(\"header\",\"true\").csv(val_test_file)\n",
    "\n",
    "df_train.show()"
   ]
  },
  {
   "cell_type": "code",
   "execution_count": 4,
   "id": "fade6143",
   "metadata": {},
   "outputs": [
    {
     "data": {
      "application/vnd.jupyter.widget-view+json": {
       "model_id": "",
       "version_major": 2,
       "version_minor": 0
      },
      "text/plain": [
       "FloatProgress(value=0.0, bar_style='info', description='Progress:', layout=Layout(height='25px', width='50%'),…"
      ]
     },
     "metadata": {},
     "output_type": "display_data"
    },
    {
     "name": "stdout",
     "output_type": "stream",
     "text": [
      "+---------+--------------------+-------------------+---------------+-----+\n",
      "|  user_id|            category|        category_id|implicit_rating|catID|\n",
      "+---------+--------------------+-------------------+---------------+-----+\n",
      "|514958895|20530135530565798...|2053013553056579841|              2|   36|\n",
      "|555710084|22327320930775207...|2232732093077520756|              3|  668|\n",
      "|608957617|22327320953927766...|2232732095392776612|              1|  679|\n",
      "|558103411|20530135659834255...|2053013565983425517|              2|  375|\n",
      "|534158155|20530135602372287...|2053013560237228724|              2|  241|\n",
      "|625373582|22327320930775207...|2232732093077520756|              2|  668|\n",
      "|642802709|22327320930775207...|2232732093077520756|              2|  668|\n",
      "|597183225|20530135638359417...|2053013563835941749|              2|  328|\n",
      "|560866052|20530135552627838...|2053013555262783879|              2|   97|\n",
      "|566739264|22327320930775207...|2232732093077520756|              2|  668|\n",
      "|517640654|22327321024140416...|2232732102414041665|              2|  737|\n",
      "|530803836|22327320930775207...|2232732093077520756|              2|  668|\n",
      "|545803490|22327320930775207...|2232732093077520756|              2|  668|\n",
      "|517140402|20530135544155344...|2053013554415534427|              2|   76|\n",
      "|519097756|20530135556318826...|2053013555631882655|              2|  107|\n",
      "|574725767|22327320797060792...|2232732079706079299|              3|  605|\n",
      "|559511541|20530135530565798...|2053013553056579841|              1|   36|\n",
      "|518161047|20530135530314140...|2053013553031414015|              2|   35|\n",
      "|522798818|20530135638359417...|2053013563835941749|              2|  328|\n",
      "|554147563|20530135546588040...|2053013554658804075|              2|   84|\n",
      "+---------+--------------------+-------------------+---------------+-----+\n",
      "only showing top 20 rows"
     ]
    }
   ],
   "source": [
    "# Splitting product column to obtain numeric id since PySpark expects all columns for model to be integer type\n",
    "\n",
    "# Transforming user_id and catID and rating to integer types since PySpark expects all columns for model to be integer type\n",
    "df_train = df_train.withColumn(\"user_id\", df_train[\"user_id\"].cast(IntegerType()))\n",
    "df_train = df_train.withColumn(\"catID\", df_train[\"catID\"].cast(IntegerType()))\n",
    "df_train = df_train.withColumn(\"implicit_rating\", df_train[\"implicit_rating\"].cast(IntegerType()))\n",
    "\n",
    "df_train.show()"
   ]
  },
  {
   "cell_type": "code",
   "execution_count": 5,
   "id": "0c8ef998",
   "metadata": {},
   "outputs": [
    {
     "data": {
      "application/vnd.jupyter.widget-view+json": {
       "model_id": "",
       "version_major": 2,
       "version_minor": 0
      },
      "text/plain": [
       "FloatProgress(value=0.0, bar_style='info', description='Progress:', layout=Layout(height='25px', width='50%'),…"
      ]
     },
     "metadata": {},
     "output_type": "display_data"
    },
    {
     "name": "stdout",
     "output_type": "stream",
     "text": [
      "[('user_id', 'int'), ('category', 'string'), ('category_id', 'string'), ('implicit_rating', 'int'), ('catID', 'int')]"
     ]
    }
   ],
   "source": [
    "# Checking type of columns\n",
    "df_train.dtypes"
   ]
  },
  {
   "cell_type": "code",
   "execution_count": 6,
   "id": "c5fe15b1",
   "metadata": {},
   "outputs": [
    {
     "data": {
      "application/vnd.jupyter.widget-view+json": {
       "model_id": "",
       "version_major": 2,
       "version_minor": 0
      },
      "text/plain": [
       "FloatProgress(value=0.0, bar_style='info', description='Progress:', layout=Layout(height='25px', width='50%'),…"
      ]
     },
     "metadata": {},
     "output_type": "display_data"
    }
   ],
   "source": [
    "# Repeating process for validation and testing dataframes\n",
    "\n",
    "\n",
    "# Transforming user_id and catID and rating to integer types since PySpark expects all columns for model to be integer type\n",
    "df_train_val = df_train_val.withColumn(\"user_id\", df_train_val[\"user_id\"].cast(IntegerType()))\n",
    "df_train_val = df_train_val.withColumn(\"catID\", df_train_val[\"catID\"].cast(IntegerType()))\n",
    "df_train_val = df_train_val.withColumn(\"implicit_rating\", df_train_val[\"implicit_rating\"].cast(IntegerType()))\n",
    "\n",
    "# Transforming user_id and catID and rating to integer types since PySpark expects all columns for model to be integer type\n",
    "df_test = df_test.withColumn(\"user_id\", df_test[\"user_id\"].cast(IntegerType()))\n",
    "df_test = df_test.withColumn(\"catID\", df_test[\"catID\"].cast(IntegerType()))\n",
    "df_test = df_test.withColumn(\"implicit_rating\", df_test[\"implicit_rating\"].cast(IntegerType()))\n",
    "\n",
    "# Transforming user_id and catID, and rating to integer types since PySpark expects all columns for model to be integer type\n",
    "df_test_val = df_test_val.withColumn(\"user_id\", df_test_val[\"user_id\"].cast(IntegerType()))\n",
    "df_test_val = df_test_val.withColumn(\"catID\", df_test_val[\"catID\"].cast(IntegerType()))\n",
    "df_test_val = df_test_val.withColumn(\"implicit_rating\", df_test_val[\"implicit_rating\"].cast(IntegerType()))"
   ]
  },
  {
   "cell_type": "code",
   "execution_count": 7,
   "id": "eaada86b",
   "metadata": {},
   "outputs": [
    {
     "data": {
      "application/vnd.jupyter.widget-view+json": {
       "model_id": "",
       "version_major": 2,
       "version_minor": 0
      },
      "text/plain": [
       "FloatProgress(value=0.0, bar_style='info', description='Progress:', layout=Layout(height='25px', width='50%'),…"
      ]
     },
     "metadata": {},
     "output_type": "display_data"
    },
    {
     "name": "stdout",
     "output_type": "stream",
     "text": [
      "+---------+--------------------+-------------------+---------------+-----+\n",
      "|  user_id|            category|        category_id|implicit_rating|catID|\n",
      "+---------+--------------------+-------------------+---------------+-----+\n",
      "|643746492|20530135661428090...|2053013566142809077|              2|  378|\n",
      "|568638108|20530135556318826...|2053013555631882655|              2|  107|\n",
      "|575511213|20530135546588040...|2053013554658804075|              2|   84|\n",
      "|590989339|20530135553215041...|2053013555321504139|              1|   99|\n",
      "|600770607|20530135605308300...|2053013560530830019|              2|  249|\n",
      "|515252388|22327320930775207...|2232732093077520756|              2|  668|\n",
      "|619320693|22327320790098248...|2232732079009824823|              2|  602|\n",
      "|512405566|20530135550950117...|2053013555095011711|              1|   93|\n",
      "|524877776|22327320930775207...|2232732093077520756|              2|  668|\n",
      "|596125073|22327320735740077...|2232732073574007777|              1|  594|\n",
      "|545955421|22327320930775207...|2232732093077520756|              2|  668|\n",
      "|614154170|20530135547259129...|2053013554725912943|              3|   86|\n",
      "|572417691|22327320917185662...|2232732091718566220|              2|  657|\n",
      "|572211649|20530135598681299...|2053013559868129947|              2|  228|\n",
      "|609131127|20530135552208408...|2053013555220840837|              2|   96|\n",
      "|539109327|20530135544155344...|2053013554415534427|              2|   76|\n",
      "|514051700|20530135546588040...|2053013554658804075|              3|   84|\n",
      "|537726825|22327320913914105...|2232732091391410500|              1|  656|\n",
      "|559741095|22327321031019075...|2232732103101907535|              2|  743|\n",
      "|537445719|22327321038317164...|2232732103831716449|              2|  751|\n",
      "+---------+--------------------+-------------------+---------------+-----+\n",
      "only showing top 20 rows"
     ]
    }
   ],
   "source": [
    "df_train_val.show()"
   ]
  },
  {
   "cell_type": "code",
   "execution_count": 8,
   "id": "2ca572f1",
   "metadata": {},
   "outputs": [
    {
     "data": {
      "application/vnd.jupyter.widget-view+json": {
       "model_id": "",
       "version_major": 2,
       "version_minor": 0
      },
      "text/plain": [
       "FloatProgress(value=0.0, bar_style='info', description='Progress:', layout=Layout(height='25px', width='50%'),…"
      ]
     },
     "metadata": {},
     "output_type": "display_data"
    }
   ],
   "source": [
    "# Building a generic ALS CF model \n",
    "als = ALS(userCol=\"user_id\", itemCol=\"catID\", ratingCol=\"implicit_rating\",\n",
    "          coldStartStrategy=\"drop\", nonnegative = True, implicitPrefs = False)\n",
    "\n",
    "# Performing hyperparameter tuning with ParamGrid that will try for each of the different parameter combinations\n",
    "param_grid = ParamGridBuilder().addGrid(als.rank, [1, 5, 10]).addGrid(als.maxIter, [5, 10, 20]).addGrid(als.regParam, [0.05, 0.1, 0.5]).build()\n",
    "\n",
    "# Evaluator to evaluate the performance of the model\n",
    "evaluator = RegressionEvaluator(metricName=\"rmse\", labelCol=\"implicit_rating\", predictionCol=\"prediction\")\n",
    "\n",
    "# Using CrossValidator to perform cross validation \n",
    "cv = CrossValidator(estimator = als,\n",
    "estimatorParamMaps = param_grid,\n",
    "evaluator = evaluator,\n",
    "numFolds = 5)# Performing 5 folds\n",
    "\n",
    "# Running the CV on the validation training dataset\n",
    "model = cv.fit(df_train_val)\n",
    "\n",
    "# Extracting the best model from cross validation\n",
    "best_model = model.bestModel\n",
    "\n",
    "# Make predictions on the validation test set and evaluate using RMSE\n",
    "predictions = best_model.transform(df_test_val)\n",
    "rmse = evaluator.evaluate(predictions)"
   ]
  },
  {
   "cell_type": "code",
   "execution_count": 9,
   "id": "15edc8e3",
   "metadata": {},
   "outputs": [
    {
     "data": {
      "application/vnd.jupyter.widget-view+json": {
       "model_id": "",
       "version_major": 2,
       "version_minor": 0
      },
      "text/plain": [
       "FloatProgress(value=0.0, bar_style='info', description='Progress:', layout=Layout(height='25px', width='50%'),…"
      ]
     },
     "metadata": {},
     "output_type": "display_data"
    },
    {
     "name": "stdout",
     "output_type": "stream",
     "text": [
      "Best Model Parameters\n",
      "RMSE: 0.7171618259224922\n",
      " Rank: 1\n",
      " Max Iter: 20\n",
      " RegParam: 0.1"
     ]
    }
   ],
   "source": [
    "# Obtaining the evaluation metrics and model parameters\n",
    "print (\"Best Model Parameters\")\n",
    "print (\"RMSE: \" + str(rmse))\n",
    "print (\" Rank: \" + str(best_model.rank))\n",
    "print (\" Max Iter: \" + str(best_model._java_obj.parent().getMaxIter()))\n",
    "print (\" RegParam: \" + str(best_model._java_obj.parent().getRegParam())) "
   ]
  },
  {
   "cell_type": "code",
   "execution_count": 10,
   "id": "23591ca4",
   "metadata": {},
   "outputs": [
    {
     "data": {
      "application/vnd.jupyter.widget-view+json": {
       "model_id": "",
       "version_major": 2,
       "version_minor": 0
      },
      "text/plain": [
       "FloatProgress(value=0.0, bar_style='info', description='Progress:', layout=Layout(height='25px', width='50%'),…"
      ]
     },
     "metadata": {},
     "output_type": "display_data"
    },
    {
     "name": "stdout",
     "output_type": "stream",
     "text": [
      "Root-mean-square error = 0.6956542505471972"
     ]
    }
   ],
   "source": [
    "# Building the recommendation model using ALS best parameter model\n",
    "als = ALS(maxIter=20, rank= 1, regParam=0.1, implicitPrefs=False,coldStartStrategy=\"drop\",\n",
    "          userCol='user_id', itemCol='catID', ratingCol='implicit_rating')\n",
    "\n",
    "model = als.fit(df_train)\n",
    "predictions = model.transform(df_test)\n",
    "rmse = evaluator.evaluate(predictions)\n",
    "print(\"Root-mean-square error = \" + str(rmse))"
   ]
  },
  {
   "cell_type": "code",
   "execution_count": 11,
   "id": "4460561e",
   "metadata": {},
   "outputs": [
    {
     "data": {
      "application/vnd.jupyter.widget-view+json": {
       "model_id": "",
       "version_major": 2,
       "version_minor": 0
      },
      "text/plain": [
       "FloatProgress(value=0.0, bar_style='info', description='Progress:', layout=Layout(height='25px', width='50%'),…"
      ]
     },
     "metadata": {},
     "output_type": "display_data"
    }
   ],
   "source": [
    "# Generating top 10 recommendations for each user\n",
    "recommendations = model.recommendForAllUsers(10)"
   ]
  },
  {
   "cell_type": "code",
   "execution_count": 12,
   "id": "b241d0c0",
   "metadata": {},
   "outputs": [
    {
     "data": {
      "application/vnd.jupyter.widget-view+json": {
       "model_id": "",
       "version_major": 2,
       "version_minor": 0
      },
      "text/plain": [
       "FloatProgress(value=0.0, bar_style='info', description='Progress:', layout=Layout(height='25px', width='50%'),…"
      ]
     },
     "metadata": {},
     "output_type": "display_data"
    },
    {
     "name": "stdout",
     "output_type": "stream",
     "text": [
      "root\n",
      " |-- user_id: integer (nullable = false)\n",
      " |-- recommendations: array (nullable = true)\n",
      " |    |-- element: struct (containsNull = true)\n",
      " |    |    |-- catID: integer (nullable = true)\n",
      " |    |    |-- rating: float (nullable = true)"
     ]
    }
   ],
   "source": [
    "# Viewing recommendations df schema to know which columns to select when formatting the df\n",
    "recommendations.printSchema()"
   ]
  },
  {
   "cell_type": "code",
   "execution_count": 13,
   "id": "dbfd5aa3",
   "metadata": {},
   "outputs": [
    {
     "data": {
      "application/vnd.jupyter.widget-view+json": {
       "model_id": "",
       "version_major": 2,
       "version_minor": 0
      },
      "text/plain": [
       "FloatProgress(value=0.0, bar_style='info', description='Progress:', layout=Layout(height='25px', width='50%'),…"
      ]
     },
     "metadata": {},
     "output_type": "display_data"
    },
    {
     "name": "stdout",
     "output_type": "stream",
     "text": [
      "+---------+-----+---+---------+\n",
      "|  user_id|catID|pos|   rating|\n",
      "+---------+-----+---+---------+\n",
      "|468371772|  416|  0|3.1851895|\n",
      "|468371772|  570|  1|2.8981311|\n",
      "|468371772|  668|  2|2.3996842|\n",
      "|468371772|  577|  3| 2.312127|\n",
      "|468371772|  742|  4|2.2705405|\n",
      "|468371772|  117|  5|2.2208114|\n",
      "|468371772|  662|  6|2.1889753|\n",
      "|468371772|  714|  7|2.1717632|\n",
      "|468371772|  725|  8|2.1682422|\n",
      "|468371772|  657|  9|2.1342862|\n",
      "|512372691|  416|  0|2.4433029|\n",
      "|512372691|  570|  1|2.2231054|\n",
      "|512372691|  668|  2|1.8407556|\n",
      "|512372691|  577|  3|1.7735921|\n",
      "|512372691|  742|  4|1.7416917|\n",
      "|512372691|  117|  5|1.7035456|\n",
      "|512372691|  662|  6|1.6791246|\n",
      "|512372691|  714|  7|1.6659214|\n",
      "|512372691|  725|  8|1.6632206|\n",
      "|512372691|  657|  9|1.6371735|\n",
      "+---------+-----+---+---------+\n",
      "only showing top 20 rows"
     ]
    }
   ],
   "source": [
    "# Formatting results\n",
    "recommendations_output = recommendations.select('user_id',F.posexplode('recommendations')).select('user_id','col.catID','pos','col.rating').checkpoint()\n",
    "recommendations_output.show()"
   ]
  },
  {
   "cell_type": "code",
   "execution_count": 14,
   "id": "fa2879f0",
   "metadata": {},
   "outputs": [
    {
     "data": {
      "application/vnd.jupyter.widget-view+json": {
       "model_id": "",
       "version_major": 2,
       "version_minor": 0
      },
      "text/plain": [
       "FloatProgress(value=0.0, bar_style='info', description='Progress:', layout=Layout(height='25px', width='50%'),…"
      ]
     },
     "metadata": {},
     "output_type": "display_data"
    }
   ],
   "source": [
    "# Saving results to S3 - Using coalesce function to merge all the small files Spark creates into one so that there is only one final file\n",
    "recommendations_output.coalesce(1).write.option(\"quote\",\"\\u0000\").csv(\"s3a://myaws-capstone-bucket/data/modeling/ALS/results\",mode=\"overwrite\",sep=',')"
   ]
  },
  {
   "cell_type": "code",
   "execution_count": null,
   "id": "bce7a3e3",
   "metadata": {},
   "outputs": [],
   "source": []
  }
 ],
 "metadata": {
  "kernelspec": {
   "display_name": "Sparkmagic (PySpark)",
   "language": "python",
   "name": "pysparkkernel"
  },
  "language_info": {
   "codemirror_mode": {
    "name": "python",
    "version": 3
   },
   "file_extension": ".py",
   "mimetype": "text/x-python",
   "name": "pyspark",
   "pygments_lexer": "python3"
  }
 },
 "nbformat": 4,
 "nbformat_minor": 5
}
