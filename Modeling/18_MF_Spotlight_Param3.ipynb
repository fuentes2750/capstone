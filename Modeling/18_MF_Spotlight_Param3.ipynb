{
 "cells": [
  {
   "cell_type": "markdown",
   "id": "vulnerable-insurance",
   "metadata": {},
   "source": [
    "This notebook uses the package spotlight found at: https://github.com/maciejkula/spotlight, to create an Matrix factorization (MF) recommendation system using BilinearNet. Information on the model can be found here: https://github.com/maciejkula/spotlight/tree/master/examples/movielens_explicit \n",
    "\n",
    "Also using as reference the following article: https://towardsdatascience.com/how-to-build-powerful-deep-recommender-systems-using-spotlight-ec11198c173c"
   ]
  },
  {
   "cell_type": "markdown",
   "id": "athletic-planet",
   "metadata": {},
   "source": [
    "This code uses the training, validation and test sets created on the notebook: Implicit_Rating_Calculation_category.ipynb to train and test the model."
   ]
  },
  {
   "cell_type": "markdown",
   "id": "configured-divorce",
   "metadata": {},
   "source": [
    "#### Installing the Spotlight library "
   ]
  },
  {
   "cell_type": "markdown",
   "id": "advance-gender",
   "metadata": {},
   "source": [
    "!conda install -c maciejkula -c pytorch spotlight --y"
   ]
  },
  {
   "cell_type": "markdown",
   "id": "declared-navigator",
   "metadata": {},
   "source": [
    "!conda install -c maciejkula -c pytorch -c peterjc123 spotlight=0.1.4"
   ]
  },
  {
   "cell_type": "code",
   "execution_count": 17,
   "id": "automotive-characteristic",
   "metadata": {},
   "outputs": [
    {
     "name": "stdout",
     "output_type": "stream",
     "text": [
      "Collecting git+https://github.com/maciejkula/spotlight.git@master\n",
      "  Cloning https://github.com/maciejkula/spotlight.git (to revision master) to /tmp/pip-req-build-lruakrob\n",
      "  Running command git clone -q https://github.com/maciejkula/spotlight.git /tmp/pip-req-build-lruakrob\n",
      "Requirement already satisfied: torch>=0.4.0 in /home/ec2-user/anaconda3/envs/python3/lib/python3.6/site-packages (from spotlight==0.1.6) (1.8.1)\n",
      "Requirement already satisfied: typing-extensions in /home/ec2-user/anaconda3/envs/python3/lib/python3.6/site-packages (from torch>=0.4.0->spotlight==0.1.6) (3.7.4.3)\n",
      "Requirement already satisfied: dataclasses in /home/ec2-user/anaconda3/envs/python3/lib/python3.6/site-packages (from torch>=0.4.0->spotlight==0.1.6) (0.8)\n",
      "Requirement already satisfied: numpy in /home/ec2-user/anaconda3/envs/python3/lib/python3.6/site-packages (from torch>=0.4.0->spotlight==0.1.6) (1.19.5)\n"
     ]
    }
   ],
   "source": [
    "!pip install git+https://github.com/maciejkula/spotlight.git@master --upgrade "
   ]
  },
  {
   "cell_type": "code",
   "execution_count": 18,
   "id": "adolescent-michael",
   "metadata": {},
   "outputs": [],
   "source": [
    "# Loading needed libraries\n",
    "import numpy as np\n",
    "import pandas as pd\n",
    "import datetime as dt\n",
    "from datetime import date\n",
    "import torch\n",
    "from sklearn.preprocessing import LabelEncoder\n",
    "import gc\n",
    "\n",
    "# Spotlight Libraries\n",
    "from spotlight.factorization.explicit import ExplicitFactorizationModel\n",
    "from spotlight.interactions import Interactions\n",
    "from spotlight.cross_validation import random_train_test_split\n",
    "from spotlight.evaluation import rmse_score\n",
    "\n",
    "\n",
    "# Loading libraries for S3 bucket connection\n",
    "import boto3\n",
    "import io\n",
    "from io import StringIO,BytesIO, TextIOWrapper\n",
    "import gzip\n",
    "\n",
    "client = boto3.client('s3') \n",
    "resource = boto3.resource('s3') "
   ]
  },
  {
   "cell_type": "markdown",
   "id": "unexpected-hurricane",
   "metadata": {},
   "source": [
    "The expected data input should contain the user ids, the product ids, implicit rating and the timestamps (which are optional)"
   ]
  },
  {
   "cell_type": "markdown",
   "id": "ongoing-package",
   "metadata": {},
   "source": [
    "#### Data Preparation"
   ]
  },
  {
   "cell_type": "code",
   "execution_count": 19,
   "id": "authentic-interstate",
   "metadata": {},
   "outputs": [],
   "source": [
    "# Reading Training,validation and testing dfs - Using the created T_implicit_cat data with timestamp\n",
    "train_df = pd.read_csv('s3://myaws-capstone-bucket/data/modeling/input/T_implicit_cat_rating_train.csv')\n",
    "val_train_df = pd.read_csv('s3://myaws-capstone-bucket/data/modeling/input/T_implicit_cat_rating_val_train.csv')\n",
    "test_df = pd.read_csv('s3://myaws-capstone-bucket/data/modeling/input/T_implicit_cat_rating_test.csv')\n",
    "val_test_df = pd.read_csv('s3://myaws-capstone-bucket/data/modeling/input/T_implicit_cat_rating_val_test.csv')"
   ]
  },
  {
   "cell_type": "code",
   "execution_count": 20,
   "id": "moving-village",
   "metadata": {},
   "outputs": [
    {
     "data": {
      "text/html": [
       "<div>\n",
       "<style scoped>\n",
       "    .dataframe tbody tr th:only-of-type {\n",
       "        vertical-align: middle;\n",
       "    }\n",
       "\n",
       "    .dataframe tbody tr th {\n",
       "        vertical-align: top;\n",
       "    }\n",
       "\n",
       "    .dataframe thead th {\n",
       "        text-align: right;\n",
       "    }\n",
       "</style>\n",
       "<table border=\"1\" class=\"dataframe\">\n",
       "  <thead>\n",
       "    <tr style=\"text-align: right;\">\n",
       "      <th></th>\n",
       "      <th>user_id</th>\n",
       "      <th>category</th>\n",
       "      <th>category_id</th>\n",
       "      <th>implicit_rating</th>\n",
       "      <th>catID</th>\n",
       "      <th>event_time</th>\n",
       "      <th>event_date</th>\n",
       "      <th>timestamp</th>\n",
       "    </tr>\n",
       "  </thead>\n",
       "  <tbody>\n",
       "    <tr>\n",
       "      <th>0</th>\n",
       "      <td>128968633</td>\n",
       "      <td>2232732102103663163_furniture.bedroom.blanket</td>\n",
       "      <td>2232732102103663163</td>\n",
       "      <td>2</td>\n",
       "      <td>734</td>\n",
       "      <td>2019-12-31 10:09:41 UTC</td>\n",
       "      <td>2019-12-31 10:09:41</td>\n",
       "      <td>1577786981</td>\n",
       "    </tr>\n",
       "    <tr>\n",
       "      <th>1</th>\n",
       "      <td>128968633</td>\n",
       "      <td>2232732108613223108_sport.trainer</td>\n",
       "      <td>2232732108613223108</td>\n",
       "      <td>2</td>\n",
       "      <td>788</td>\n",
       "      <td>2019-12-31 11:30:56 UTC</td>\n",
       "      <td>2019-12-31 11:30:56</td>\n",
       "      <td>1577791856</td>\n",
       "    </tr>\n",
       "    <tr>\n",
       "      <th>2</th>\n",
       "      <td>128968633</td>\n",
       "      <td>2232732108613223108_sport.trainer</td>\n",
       "      <td>2232732108613223108</td>\n",
       "      <td>2</td>\n",
       "      <td>788</td>\n",
       "      <td>2019-12-31 15:30:09 UTC</td>\n",
       "      <td>2019-12-31 15:30:09</td>\n",
       "      <td>1577806209</td>\n",
       "    </tr>\n",
       "    <tr>\n",
       "      <th>3</th>\n",
       "      <td>192078182</td>\n",
       "      <td>2232732093077520756_construction.tools.light</td>\n",
       "      <td>2232732093077520756</td>\n",
       "      <td>2</td>\n",
       "      <td>668</td>\n",
       "      <td>2020-03-11 05:47:37 UTC</td>\n",
       "      <td>2020-03-11 05:47:37</td>\n",
       "      <td>1583905657</td>\n",
       "    </tr>\n",
       "    <tr>\n",
       "      <th>4</th>\n",
       "      <td>192078182</td>\n",
       "      <td>2232732101063475749_appliances.environment.vacuum</td>\n",
       "      <td>2232732101063475749</td>\n",
       "      <td>2</td>\n",
       "      <td>725</td>\n",
       "      <td>2020-01-17 12:51:40 UTC</td>\n",
       "      <td>2020-01-17 12:51:40</td>\n",
       "      <td>1579265500</td>\n",
       "    </tr>\n",
       "  </tbody>\n",
       "</table>\n",
       "</div>"
      ],
      "text/plain": [
       "     user_id                                           category  \\\n",
       "0  128968633      2232732102103663163_furniture.bedroom.blanket   \n",
       "1  128968633                  2232732108613223108_sport.trainer   \n",
       "2  128968633                  2232732108613223108_sport.trainer   \n",
       "3  192078182       2232732093077520756_construction.tools.light   \n",
       "4  192078182  2232732101063475749_appliances.environment.vacuum   \n",
       "\n",
       "           category_id  implicit_rating  catID               event_time  \\\n",
       "0  2232732102103663163                2    734  2019-12-31 10:09:41 UTC   \n",
       "1  2232732108613223108                2    788  2019-12-31 11:30:56 UTC   \n",
       "2  2232732108613223108                2    788  2019-12-31 15:30:09 UTC   \n",
       "3  2232732093077520756                2    668  2020-03-11 05:47:37 UTC   \n",
       "4  2232732101063475749                2    725  2020-01-17 12:51:40 UTC   \n",
       "\n",
       "           event_date   timestamp  \n",
       "0 2019-12-31 10:09:41  1577786981  \n",
       "1 2019-12-31 11:30:56  1577791856  \n",
       "2 2019-12-31 15:30:09  1577806209  \n",
       "3 2020-03-11 05:47:37  1583905657  \n",
       "4 2020-01-17 12:51:40  1579265500  "
      ]
     },
     "execution_count": 20,
     "metadata": {},
     "output_type": "execute_result"
    }
   ],
   "source": [
    "# Transforming event_time columns into timestamp  \n",
    "train_df['event_date'] = train_df['event_time'].str[:19]# Grabbing only timestamp portion from original event_time column\n",
    "train_df['event_date'] = train_df['event_date'].astype('datetime64[ns]')\n",
    "train_df['timestamp'] = train_df['event_date'].values.astype(np.int64)//10**9\n",
    "train_df['timestamp'] = train_df['timestamp'].astype(np.int32)\n",
    "train_df.head()"
   ]
  },
  {
   "cell_type": "code",
   "execution_count": 21,
   "id": "typical-elite",
   "metadata": {},
   "outputs": [],
   "source": [
    "# Transform category and user ids to needed format\n",
    "\n",
    "# instantiating the labelencoder object\n",
    "le = LabelEncoder()\n",
    "\n",
    "train_df['catID'] = train_df['catID'].astype(np.int32)\n",
    "train_df['userID'] = le.fit_transform(train_df['user_id'])\n",
    "train_df['userID'] = train_df['userID'].astype(np.int32)"
   ]
  },
  {
   "cell_type": "code",
   "execution_count": 22,
   "id": "nuclear-combination",
   "metadata": {},
   "outputs": [
    {
     "data": {
      "text/html": [
       "<div>\n",
       "<style scoped>\n",
       "    .dataframe tbody tr th:only-of-type {\n",
       "        vertical-align: middle;\n",
       "    }\n",
       "\n",
       "    .dataframe tbody tr th {\n",
       "        vertical-align: top;\n",
       "    }\n",
       "\n",
       "    .dataframe thead th {\n",
       "        text-align: right;\n",
       "    }\n",
       "</style>\n",
       "<table border=\"1\" class=\"dataframe\">\n",
       "  <thead>\n",
       "    <tr style=\"text-align: right;\">\n",
       "      <th></th>\n",
       "      <th>user_id</th>\n",
       "      <th>category</th>\n",
       "      <th>category_id</th>\n",
       "      <th>implicit_rating</th>\n",
       "      <th>catID</th>\n",
       "      <th>event_time</th>\n",
       "      <th>event_date</th>\n",
       "      <th>timestamp</th>\n",
       "      <th>userID</th>\n",
       "    </tr>\n",
       "  </thead>\n",
       "  <tbody>\n",
       "    <tr>\n",
       "      <th>0</th>\n",
       "      <td>128968633</td>\n",
       "      <td>2232732102103663163_furniture.bedroom.blanket</td>\n",
       "      <td>2232732102103663163</td>\n",
       "      <td>2</td>\n",
       "      <td>734</td>\n",
       "      <td>2019-12-31 10:09:41 UTC</td>\n",
       "      <td>2019-12-31 10:09:41</td>\n",
       "      <td>1577786981</td>\n",
       "      <td>0</td>\n",
       "    </tr>\n",
       "    <tr>\n",
       "      <th>1</th>\n",
       "      <td>128968633</td>\n",
       "      <td>2232732108613223108_sport.trainer</td>\n",
       "      <td>2232732108613223108</td>\n",
       "      <td>2</td>\n",
       "      <td>788</td>\n",
       "      <td>2019-12-31 11:30:56 UTC</td>\n",
       "      <td>2019-12-31 11:30:56</td>\n",
       "      <td>1577791856</td>\n",
       "      <td>0</td>\n",
       "    </tr>\n",
       "    <tr>\n",
       "      <th>2</th>\n",
       "      <td>128968633</td>\n",
       "      <td>2232732108613223108_sport.trainer</td>\n",
       "      <td>2232732108613223108</td>\n",
       "      <td>2</td>\n",
       "      <td>788</td>\n",
       "      <td>2019-12-31 15:30:09 UTC</td>\n",
       "      <td>2019-12-31 15:30:09</td>\n",
       "      <td>1577806209</td>\n",
       "      <td>0</td>\n",
       "    </tr>\n",
       "    <tr>\n",
       "      <th>3</th>\n",
       "      <td>192078182</td>\n",
       "      <td>2232732093077520756_construction.tools.light</td>\n",
       "      <td>2232732093077520756</td>\n",
       "      <td>2</td>\n",
       "      <td>668</td>\n",
       "      <td>2020-03-11 05:47:37 UTC</td>\n",
       "      <td>2020-03-11 05:47:37</td>\n",
       "      <td>1583905657</td>\n",
       "      <td>2</td>\n",
       "    </tr>\n",
       "    <tr>\n",
       "      <th>4</th>\n",
       "      <td>192078182</td>\n",
       "      <td>2232732101063475749_appliances.environment.vacuum</td>\n",
       "      <td>2232732101063475749</td>\n",
       "      <td>2</td>\n",
       "      <td>725</td>\n",
       "      <td>2020-01-17 12:51:40 UTC</td>\n",
       "      <td>2020-01-17 12:51:40</td>\n",
       "      <td>1579265500</td>\n",
       "      <td>2</td>\n",
       "    </tr>\n",
       "  </tbody>\n",
       "</table>\n",
       "</div>"
      ],
      "text/plain": [
       "     user_id                                           category  \\\n",
       "0  128968633      2232732102103663163_furniture.bedroom.blanket   \n",
       "1  128968633                  2232732108613223108_sport.trainer   \n",
       "2  128968633                  2232732108613223108_sport.trainer   \n",
       "3  192078182       2232732093077520756_construction.tools.light   \n",
       "4  192078182  2232732101063475749_appliances.environment.vacuum   \n",
       "\n",
       "           category_id  implicit_rating  catID               event_time  \\\n",
       "0  2232732102103663163                2    734  2019-12-31 10:09:41 UTC   \n",
       "1  2232732108613223108                2    788  2019-12-31 11:30:56 UTC   \n",
       "2  2232732108613223108                2    788  2019-12-31 15:30:09 UTC   \n",
       "3  2232732093077520756                2    668  2020-03-11 05:47:37 UTC   \n",
       "4  2232732101063475749                2    725  2020-01-17 12:51:40 UTC   \n",
       "\n",
       "           event_date   timestamp  userID  \n",
       "0 2019-12-31 10:09:41  1577786981       0  \n",
       "1 2019-12-31 11:30:56  1577791856       0  \n",
       "2 2019-12-31 15:30:09  1577806209       0  \n",
       "3 2020-03-11 05:47:37  1583905657       2  \n",
       "4 2020-01-17 12:51:40  1579265500       2  "
      ]
     },
     "execution_count": 22,
     "metadata": {},
     "output_type": "execute_result"
    }
   ],
   "source": [
    "train_df.head()"
   ]
  },
  {
   "cell_type": "code",
   "execution_count": 23,
   "id": "serious-property",
   "metadata": {},
   "outputs": [
    {
     "data": {
      "text/plain": [
       "user_id             839183\n",
       "category               910\n",
       "category_id            910\n",
       "implicit_rating          5\n",
       "catID                  910\n",
       "event_time         3047065\n",
       "event_date         3047065\n",
       "timestamp          3047065\n",
       "userID              839183\n",
       "dtype: int64"
      ]
     },
     "execution_count": 23,
     "metadata": {},
     "output_type": "execute_result"
    }
   ],
   "source": [
    "train_df.nunique()"
   ]
  },
  {
   "cell_type": "code",
   "execution_count": 24,
   "id": "twelve-shark",
   "metadata": {},
   "outputs": [
    {
     "data": {
      "text/plain": [
       "user_id                     int64\n",
       "category                   object\n",
       "category_id                 int64\n",
       "implicit_rating             int64\n",
       "catID                       int32\n",
       "event_time                 object\n",
       "event_date         datetime64[ns]\n",
       "timestamp                   int32\n",
       "userID                      int32\n",
       "dtype: object"
      ]
     },
     "execution_count": 24,
     "metadata": {},
     "output_type": "execute_result"
    }
   ],
   "source": [
    "train_df.dtypes"
   ]
  },
  {
   "cell_type": "code",
   "execution_count": 25,
   "id": "processed-basin",
   "metadata": {},
   "outputs": [],
   "source": [
    "# Applying the same to all other dfs\n",
    "val_train_df['event_date'] = val_train_df['event_time'].str[:19]# Grabbing only timestamp portion from original event_time column\n",
    "val_train_df['event_date'] = val_train_df['event_date'].astype('datetime64[ns]')\n",
    "val_train_df['timestamp'] = val_train_df['event_date'].values.astype(np.int64)//10**9\n",
    "val_train_df['timestamp'] = val_train_df['timestamp'].astype('str')\n",
    "\n",
    "val_test_df['event_date'] = val_test_df['event_time'].str[:19]# Grabbing only timestamp portion from original event_time column\n",
    "val_test_df['event_date'] = val_test_df['event_date'].astype('datetime64[ns]')\n",
    "val_test_df['timestamp'] = val_test_df['event_date'].values.astype(np.int64)//10**9\n",
    "val_test_df['timestamp'] = val_test_df['timestamp'].astype('str')\n",
    "\n",
    "test_df['event_date'] = test_df['event_time'].str[:19]# Grabbing only timestamp portion from original event_time column\n",
    "test_df['event_date'] = test_df['event_date'].astype('datetime64[ns]')\n",
    "test_df['timestamp'] = test_df['event_date'].values.astype(np.int64)//10**9\n",
    "test_df['timestamp'] = test_df['timestamp'].astype('str')"
   ]
  },
  {
   "cell_type": "code",
   "execution_count": 26,
   "id": "greek-freeze",
   "metadata": {},
   "outputs": [],
   "source": [
    "# Transform product and user ids to needed format\n",
    "val_train_df['catID'] = val_train_df['catID'].astype(np.int32)\n",
    "val_train_df['userID'] = le.fit_transform(val_train_df['user_id'])\n",
    "val_train_df['userID'] = val_train_df['userID'].astype(np.int32)"
   ]
  },
  {
   "cell_type": "code",
   "execution_count": 27,
   "id": "acquired-marker",
   "metadata": {},
   "outputs": [
    {
     "data": {
      "text/plain": [
       "user_id             727477\n",
       "category               910\n",
       "category_id            910\n",
       "implicit_rating          5\n",
       "catID                  910\n",
       "event_time         2693000\n",
       "event_date         2693000\n",
       "timestamp          2693000\n",
       "userID              727477\n",
       "dtype: int64"
      ]
     },
     "execution_count": 27,
     "metadata": {},
     "output_type": "execute_result"
    }
   ],
   "source": [
    "val_train_df.nunique()"
   ]
  },
  {
   "cell_type": "code",
   "execution_count": 28,
   "id": "bearing-cologne",
   "metadata": {},
   "outputs": [],
   "source": [
    "# Transform product and user ids to needed format\n",
    "val_test_df['catID'] = val_test_df['catID'].astype(np.int32)\n",
    "val_test_df['userID'] = le.fit_transform(val_test_df['user_id'])\n",
    "val_test_df['userID'] = val_test_df['userID'].astype(np.int32)"
   ]
  },
  {
   "cell_type": "code",
   "execution_count": 29,
   "id": "worldwide-artist",
   "metadata": {},
   "outputs": [],
   "source": [
    "# Transform product and user ids to needed format\n",
    "test_df['catID'] = test_df['catID'].astype(np.int32)\n",
    "test_df['userID'] = le.fit_transform(test_df['user_id'])\n",
    "test_df['userID'] = test_df['userID'].astype(np.int32)"
   ]
  },
  {
   "cell_type": "code",
   "execution_count": 30,
   "id": "numeric-symbol",
   "metadata": {},
   "outputs": [],
   "source": [
    "# Creating interaction Spotlight objects since Spotlight model expects this specific type of object\n",
    "train=Interactions(user_ids=train_df['userID'].to_numpy(),item_ids=train_df['catID'].to_numpy(),ratings=train_df['implicit_rating'].to_numpy(),timestamps=train_df['timestamp'].to_numpy())\n",
    "\n",
    "test=Interactions(user_ids=test_df['userID'].to_numpy(),item_ids=test_df['catID'].to_numpy(),ratings=test_df['implicit_rating'].to_numpy(),timestamps=test_df['timestamp'].to_numpy())\n",
    "\n",
    "val_train=Interactions(user_ids=val_train_df['userID'].to_numpy(),item_ids=val_train_df['catID'].to_numpy(),ratings=val_train_df['implicit_rating'].to_numpy(),timestamps=val_train_df['timestamp'].to_numpy())\n",
    "\n",
    "val_test=Interactions(user_ids=val_test_df['userID'].to_numpy(),item_ids=val_test_df['catID'].to_numpy(),ratings=val_test_df['implicit_rating'].to_numpy(),timestamps=val_test_df['timestamp'].to_numpy())"
   ]
  },
  {
   "cell_type": "code",
   "execution_count": 31,
   "id": "american-anthony",
   "metadata": {},
   "outputs": [
    {
     "data": {
      "text/plain": [
       "<Interactions dataset (839183 users x 927 items x 3559313 interactions)>"
      ]
     },
     "execution_count": 31,
     "metadata": {},
     "output_type": "execute_result"
    }
   ],
   "source": [
    "train"
   ]
  },
  {
   "cell_type": "code",
   "execution_count": 32,
   "id": "suburban-stock",
   "metadata": {},
   "outputs": [
    {
     "name": "stdout",
     "output_type": "stream",
     "text": [
      "Epoch 0: loss 1.9493621122242049\n",
      "Epoch 1: loss 1.9326980954852766\n"
     ]
    }
   ],
   "source": [
    "model = ExplicitFactorizationModel(loss='regression',\n",
    "                                   embedding_dim=64,  # latent dimensionality\n",
    "                                   n_iter=2,  # number of epochs of training\n",
    "                                   batch_size=128,  # minibatch size\n",
    "                                   l2=0.1,  # strength of L2 regularization\n",
    "                                   learning_rate=0.01,\n",
    "                                   use_cuda=1)\n",
    "\n",
    "model.fit(train, verbose=True)# Training model"
   ]
  },
  {
   "cell_type": "code",
   "execution_count": 33,
   "id": "aboriginal-cache",
   "metadata": {},
   "outputs": [],
   "source": [
    "torch.save(model, 'MF_Spotlight.pt')# saving model"
   ]
  },
  {
   "cell_type": "code",
   "execution_count": 34,
   "id": "personalized-nature",
   "metadata": {},
   "outputs": [],
   "source": [
    "model = torch.load('MF_Spotlight.pt')# loading model"
   ]
  },
  {
   "cell_type": "code",
   "execution_count": 35,
   "id": "separated-signature",
   "metadata": {},
   "outputs": [],
   "source": [
    "test_csr = test.tocsr()# converting test df to sparse row format"
   ]
  },
  {
   "cell_type": "code",
   "execution_count": 36,
   "id": "chronic-carrier",
   "metadata": {},
   "outputs": [],
   "source": [
    "# Making predictions with model test\n",
    "results=[]\n",
    "for userID, row in enumerate(test_csr):\n",
    "    predictions = model.predict(userID)\n",
    "    results.append(predictions.argsort()[-10:][::-1])"
   ]
  },
  {
   "cell_type": "code",
   "execution_count": 37,
   "id": "raising-writer",
   "metadata": {},
   "outputs": [
    {
     "data": {
      "text/html": [
       "<div>\n",
       "<style scoped>\n",
       "    .dataframe tbody tr th:only-of-type {\n",
       "        vertical-align: middle;\n",
       "    }\n",
       "\n",
       "    .dataframe tbody tr th {\n",
       "        vertical-align: top;\n",
       "    }\n",
       "\n",
       "    .dataframe thead th {\n",
       "        text-align: right;\n",
       "    }\n",
       "</style>\n",
       "<table border=\"1\" class=\"dataframe\">\n",
       "  <thead>\n",
       "    <tr style=\"text-align: right;\">\n",
       "      <th></th>\n",
       "      <th>0</th>\n",
       "      <th>1</th>\n",
       "      <th>2</th>\n",
       "      <th>3</th>\n",
       "      <th>4</th>\n",
       "      <th>5</th>\n",
       "      <th>6</th>\n",
       "      <th>7</th>\n",
       "      <th>8</th>\n",
       "      <th>9</th>\n",
       "    </tr>\n",
       "  </thead>\n",
       "  <tbody>\n",
       "    <tr>\n",
       "      <th>0</th>\n",
       "      <td>668</td>\n",
       "      <td>107</td>\n",
       "      <td>605</td>\n",
       "      <td>84</td>\n",
       "      <td>714</td>\n",
       "      <td>743</td>\n",
       "      <td>725</td>\n",
       "      <td>76</td>\n",
       "      <td>662</td>\n",
       "      <td>86</td>\n",
       "    </tr>\n",
       "    <tr>\n",
       "      <th>1</th>\n",
       "      <td>668</td>\n",
       "      <td>107</td>\n",
       "      <td>605</td>\n",
       "      <td>84</td>\n",
       "      <td>714</td>\n",
       "      <td>743</td>\n",
       "      <td>725</td>\n",
       "      <td>76</td>\n",
       "      <td>662</td>\n",
       "      <td>86</td>\n",
       "    </tr>\n",
       "    <tr>\n",
       "      <th>2</th>\n",
       "      <td>668</td>\n",
       "      <td>107</td>\n",
       "      <td>605</td>\n",
       "      <td>84</td>\n",
       "      <td>714</td>\n",
       "      <td>743</td>\n",
       "      <td>725</td>\n",
       "      <td>76</td>\n",
       "      <td>662</td>\n",
       "      <td>86</td>\n",
       "    </tr>\n",
       "    <tr>\n",
       "      <th>3</th>\n",
       "      <td>668</td>\n",
       "      <td>107</td>\n",
       "      <td>605</td>\n",
       "      <td>84</td>\n",
       "      <td>714</td>\n",
       "      <td>743</td>\n",
       "      <td>725</td>\n",
       "      <td>76</td>\n",
       "      <td>662</td>\n",
       "      <td>86</td>\n",
       "    </tr>\n",
       "    <tr>\n",
       "      <th>4</th>\n",
       "      <td>668</td>\n",
       "      <td>107</td>\n",
       "      <td>605</td>\n",
       "      <td>84</td>\n",
       "      <td>714</td>\n",
       "      <td>743</td>\n",
       "      <td>725</td>\n",
       "      <td>76</td>\n",
       "      <td>662</td>\n",
       "      <td>86</td>\n",
       "    </tr>\n",
       "  </tbody>\n",
       "</table>\n",
       "</div>"
      ],
      "text/plain": [
       "     0    1    2   3    4    5    6   7    8   9\n",
       "0  668  107  605  84  714  743  725  76  662  86\n",
       "1  668  107  605  84  714  743  725  76  662  86\n",
       "2  668  107  605  84  714  743  725  76  662  86\n",
       "3  668  107  605  84  714  743  725  76  662  86\n",
       "4  668  107  605  84  714  743  725  76  662  86"
      ]
     },
     "execution_count": 37,
     "metadata": {},
     "output_type": "execute_result"
    }
   ],
   "source": [
    "# Converting prediction of model into a df\n",
    "predictions_df = pd.DataFrame(data=results)\n",
    "predictions_df.head()"
   ]
  },
  {
   "cell_type": "code",
   "execution_count": 38,
   "id": "limited-leone",
   "metadata": {},
   "outputs": [],
   "source": [
    "# Storing Df with userID\n",
    "results=[]\n",
    "for userID, row in enumerate(test_csr):\n",
    "    results.append(userID)\n",
    "\n",
    "user_df = pd.DataFrame(data=results)\n",
    "user_df.columns = ['userID']"
   ]
  },
  {
   "cell_type": "code",
   "execution_count": 39,
   "id": "equal-harris",
   "metadata": {},
   "outputs": [
    {
     "data": {
      "text/html": [
       "<div>\n",
       "<style scoped>\n",
       "    .dataframe tbody tr th:only-of-type {\n",
       "        vertical-align: middle;\n",
       "    }\n",
       "\n",
       "    .dataframe tbody tr th {\n",
       "        vertical-align: top;\n",
       "    }\n",
       "\n",
       "    .dataframe thead th {\n",
       "        text-align: right;\n",
       "    }\n",
       "</style>\n",
       "<table border=\"1\" class=\"dataframe\">\n",
       "  <thead>\n",
       "    <tr style=\"text-align: right;\">\n",
       "      <th></th>\n",
       "      <th>0</th>\n",
       "      <th>1</th>\n",
       "      <th>2</th>\n",
       "      <th>3</th>\n",
       "      <th>4</th>\n",
       "      <th>5</th>\n",
       "      <th>6</th>\n",
       "      <th>7</th>\n",
       "      <th>8</th>\n",
       "      <th>9</th>\n",
       "      <th>userID</th>\n",
       "    </tr>\n",
       "  </thead>\n",
       "  <tbody>\n",
       "    <tr>\n",
       "      <th>0</th>\n",
       "      <td>668</td>\n",
       "      <td>107</td>\n",
       "      <td>605</td>\n",
       "      <td>84</td>\n",
       "      <td>714</td>\n",
       "      <td>743</td>\n",
       "      <td>725</td>\n",
       "      <td>76</td>\n",
       "      <td>662</td>\n",
       "      <td>86</td>\n",
       "      <td>0</td>\n",
       "    </tr>\n",
       "    <tr>\n",
       "      <th>1</th>\n",
       "      <td>668</td>\n",
       "      <td>107</td>\n",
       "      <td>605</td>\n",
       "      <td>84</td>\n",
       "      <td>714</td>\n",
       "      <td>743</td>\n",
       "      <td>725</td>\n",
       "      <td>76</td>\n",
       "      <td>662</td>\n",
       "      <td>86</td>\n",
       "      <td>1</td>\n",
       "    </tr>\n",
       "    <tr>\n",
       "      <th>2</th>\n",
       "      <td>668</td>\n",
       "      <td>107</td>\n",
       "      <td>605</td>\n",
       "      <td>84</td>\n",
       "      <td>714</td>\n",
       "      <td>743</td>\n",
       "      <td>725</td>\n",
       "      <td>76</td>\n",
       "      <td>662</td>\n",
       "      <td>86</td>\n",
       "      <td>2</td>\n",
       "    </tr>\n",
       "    <tr>\n",
       "      <th>3</th>\n",
       "      <td>668</td>\n",
       "      <td>107</td>\n",
       "      <td>605</td>\n",
       "      <td>84</td>\n",
       "      <td>714</td>\n",
       "      <td>743</td>\n",
       "      <td>725</td>\n",
       "      <td>76</td>\n",
       "      <td>662</td>\n",
       "      <td>86</td>\n",
       "      <td>3</td>\n",
       "    </tr>\n",
       "    <tr>\n",
       "      <th>4</th>\n",
       "      <td>668</td>\n",
       "      <td>107</td>\n",
       "      <td>605</td>\n",
       "      <td>84</td>\n",
       "      <td>714</td>\n",
       "      <td>743</td>\n",
       "      <td>725</td>\n",
       "      <td>76</td>\n",
       "      <td>662</td>\n",
       "      <td>86</td>\n",
       "      <td>4</td>\n",
       "    </tr>\n",
       "  </tbody>\n",
       "</table>\n",
       "</div>"
      ],
      "text/plain": [
       "     0    1    2   3    4    5    6   7    8   9  userID\n",
       "0  668  107  605  84  714  743  725  76  662  86       0\n",
       "1  668  107  605  84  714  743  725  76  662  86       1\n",
       "2  668  107  605  84  714  743  725  76  662  86       2\n",
       "3  668  107  605  84  714  743  725  76  662  86       3\n",
       "4  668  107  605  84  714  743  725  76  662  86       4"
      ]
     },
     "execution_count": 39,
     "metadata": {},
     "output_type": "execute_result"
    }
   ],
   "source": [
    "predictions_df['userID']= user_df['userID']# mapping userID to predictions_df\n",
    "predictions_df.head()"
   ]
  },
  {
   "cell_type": "code",
   "execution_count": 40,
   "id": "scenic-enclosure",
   "metadata": {},
   "outputs": [
    {
     "data": {
      "text/html": [
       "<div>\n",
       "<style scoped>\n",
       "    .dataframe tbody tr th:only-of-type {\n",
       "        vertical-align: middle;\n",
       "    }\n",
       "\n",
       "    .dataframe tbody tr th {\n",
       "        vertical-align: top;\n",
       "    }\n",
       "\n",
       "    .dataframe thead th {\n",
       "        text-align: right;\n",
       "    }\n",
       "</style>\n",
       "<table border=\"1\" class=\"dataframe\">\n",
       "  <thead>\n",
       "    <tr style=\"text-align: right;\">\n",
       "      <th></th>\n",
       "      <th>userID</th>\n",
       "      <th>Category_Rank</th>\n",
       "      <th>catID</th>\n",
       "    </tr>\n",
       "  </thead>\n",
       "  <tbody>\n",
       "    <tr>\n",
       "      <th>0</th>\n",
       "      <td>0</td>\n",
       "      <td>0</td>\n",
       "      <td>668</td>\n",
       "    </tr>\n",
       "    <tr>\n",
       "      <th>1</th>\n",
       "      <td>1</td>\n",
       "      <td>0</td>\n",
       "      <td>668</td>\n",
       "    </tr>\n",
       "    <tr>\n",
       "      <th>2</th>\n",
       "      <td>2</td>\n",
       "      <td>0</td>\n",
       "      <td>668</td>\n",
       "    </tr>\n",
       "    <tr>\n",
       "      <th>3</th>\n",
       "      <td>3</td>\n",
       "      <td>0</td>\n",
       "      <td>668</td>\n",
       "    </tr>\n",
       "    <tr>\n",
       "      <th>4</th>\n",
       "      <td>4</td>\n",
       "      <td>0</td>\n",
       "      <td>668</td>\n",
       "    </tr>\n",
       "  </tbody>\n",
       "</table>\n",
       "</div>"
      ],
      "text/plain": [
       "   userID Category_Rank  catID\n",
       "0       0             0    668\n",
       "1       1             0    668\n",
       "2       2             0    668\n",
       "3       3             0    668\n",
       "4       4             0    668"
      ]
     },
     "execution_count": 40,
     "metadata": {},
     "output_type": "execute_result"
    }
   ],
   "source": [
    "predictions_df = predictions_df.groupby('userID').tail(1)# Handling cases with multiple sequences to only grab latest one\n",
    "# Rearranging recs from rows to columns\n",
    "predictions_df = predictions_df.melt(id_vars=[\"userID\"], var_name=\"Category_Rank\", value_name=\"catID\")\n",
    "predictions_df.head()"
   ]
  },
  {
   "cell_type": "code",
   "execution_count": 41,
   "id": "exciting-pepper",
   "metadata": {},
   "outputs": [],
   "source": [
    "cat_mapping = test_df[['catID','category','category_id']]\n",
    "cat_mapping = cat_mapping.drop_duplicates(subset=['catID','category','category_id'])\n",
    "\n",
    "user_mapping = test_df[['userID','user_id']]\n",
    "user_mapping = user_mapping.drop_duplicates(subset=['userID','user_id'])"
   ]
  },
  {
   "cell_type": "code",
   "execution_count": 42,
   "id": "precise-envelope",
   "metadata": {},
   "outputs": [
    {
     "data": {
      "text/html": [
       "<div>\n",
       "<style scoped>\n",
       "    .dataframe tbody tr th:only-of-type {\n",
       "        vertical-align: middle;\n",
       "    }\n",
       "\n",
       "    .dataframe tbody tr th {\n",
       "        vertical-align: top;\n",
       "    }\n",
       "\n",
       "    .dataframe thead th {\n",
       "        text-align: right;\n",
       "    }\n",
       "</style>\n",
       "<table border=\"1\" class=\"dataframe\">\n",
       "  <thead>\n",
       "    <tr style=\"text-align: right;\">\n",
       "      <th></th>\n",
       "      <th>userID</th>\n",
       "      <th>Category_Rank</th>\n",
       "      <th>catID</th>\n",
       "      <th>category</th>\n",
       "      <th>category_id</th>\n",
       "      <th>user_id</th>\n",
       "    </tr>\n",
       "  </thead>\n",
       "  <tbody>\n",
       "    <tr>\n",
       "      <th>0</th>\n",
       "      <td>0</td>\n",
       "      <td>0</td>\n",
       "      <td>668</td>\n",
       "      <td>2232732093077520756_construction.tools.light</td>\n",
       "      <td>2232732093077520756</td>\n",
       "      <td>128968633</td>\n",
       "    </tr>\n",
       "    <tr>\n",
       "      <th>1</th>\n",
       "      <td>0</td>\n",
       "      <td>1</td>\n",
       "      <td>107</td>\n",
       "      <td>2053013555631882655_electronics.smartphone</td>\n",
       "      <td>2053013555631882655</td>\n",
       "      <td>128968633</td>\n",
       "    </tr>\n",
       "    <tr>\n",
       "      <th>2</th>\n",
       "      <td>0</td>\n",
       "      <td>2</td>\n",
       "      <td>605</td>\n",
       "      <td>2232732079706079299_sport.bicycle</td>\n",
       "      <td>2232732079706079299</td>\n",
       "      <td>128968633</td>\n",
       "    </tr>\n",
       "    <tr>\n",
       "      <th>3</th>\n",
       "      <td>0</td>\n",
       "      <td>3</td>\n",
       "      <td>84</td>\n",
       "      <td>2053013554658804075_electronics.audio.headphone</td>\n",
       "      <td>2053013554658804075</td>\n",
       "      <td>128968633</td>\n",
       "    </tr>\n",
       "    <tr>\n",
       "      <th>4</th>\n",
       "      <td>0</td>\n",
       "      <td>4</td>\n",
       "      <td>714</td>\n",
       "      <td>2232732099754852875_appliances.personal.massager</td>\n",
       "      <td>2232732099754852875</td>\n",
       "      <td>128968633</td>\n",
       "    </tr>\n",
       "    <tr>\n",
       "      <th>5</th>\n",
       "      <td>0</td>\n",
       "      <td>5</td>\n",
       "      <td>743</td>\n",
       "      <td>2232732103101907535_electronics.clocks</td>\n",
       "      <td>2232732103101907535</td>\n",
       "      <td>128968633</td>\n",
       "    </tr>\n",
       "    <tr>\n",
       "      <th>6</th>\n",
       "      <td>0</td>\n",
       "      <td>6</td>\n",
       "      <td>725</td>\n",
       "      <td>2232732101063475749_appliances.environment.vacuum</td>\n",
       "      <td>2232732101063475749</td>\n",
       "      <td>128968633</td>\n",
       "    </tr>\n",
       "    <tr>\n",
       "      <th>7</th>\n",
       "      <td>0</td>\n",
       "      <td>7</td>\n",
       "      <td>76</td>\n",
       "      <td>2053013554415534427_electronics.video.tv</td>\n",
       "      <td>2053013554415534427</td>\n",
       "      <td>128968633</td>\n",
       "    </tr>\n",
       "    <tr>\n",
       "      <th>8</th>\n",
       "      <td>0</td>\n",
       "      <td>8</td>\n",
       "      <td>662</td>\n",
       "      <td>2232732092297380188_appliances.kitchen.washer</td>\n",
       "      <td>2232732092297380188</td>\n",
       "      <td>128968633</td>\n",
       "    </tr>\n",
       "    <tr>\n",
       "      <th>9</th>\n",
       "      <td>0</td>\n",
       "      <td>9</td>\n",
       "      <td>86</td>\n",
       "      <td>2053013554725912943_appliances.kitchen.coffee_...</td>\n",
       "      <td>2053013554725912943</td>\n",
       "      <td>128968633</td>\n",
       "    </tr>\n",
       "  </tbody>\n",
       "</table>\n",
       "</div>"
      ],
      "text/plain": [
       "   userID Category_Rank  catID  \\\n",
       "0       0             0    668   \n",
       "1       0             1    107   \n",
       "2       0             2    605   \n",
       "3       0             3     84   \n",
       "4       0             4    714   \n",
       "5       0             5    743   \n",
       "6       0             6    725   \n",
       "7       0             7     76   \n",
       "8       0             8    662   \n",
       "9       0             9     86   \n",
       "\n",
       "                                            category          category_id  \\\n",
       "0       2232732093077520756_construction.tools.light  2232732093077520756   \n",
       "1         2053013555631882655_electronics.smartphone  2053013555631882655   \n",
       "2                  2232732079706079299_sport.bicycle  2232732079706079299   \n",
       "3    2053013554658804075_electronics.audio.headphone  2053013554658804075   \n",
       "4   2232732099754852875_appliances.personal.massager  2232732099754852875   \n",
       "5             2232732103101907535_electronics.clocks  2232732103101907535   \n",
       "6  2232732101063475749_appliances.environment.vacuum  2232732101063475749   \n",
       "7           2053013554415534427_electronics.video.tv  2053013554415534427   \n",
       "8      2232732092297380188_appliances.kitchen.washer  2232732092297380188   \n",
       "9  2053013554725912943_appliances.kitchen.coffee_...  2053013554725912943   \n",
       "\n",
       "     user_id  \n",
       "0  128968633  \n",
       "1  128968633  \n",
       "2  128968633  \n",
       "3  128968633  \n",
       "4  128968633  \n",
       "5  128968633  \n",
       "6  128968633  \n",
       "7  128968633  \n",
       "8  128968633  \n",
       "9  128968633  "
      ]
     },
     "execution_count": 42,
     "metadata": {},
     "output_type": "execute_result"
    }
   ],
   "source": [
    "# Merging predictions_df to obtain the correct user and category\n",
    "predictions_df = pd.merge(predictions_df, cat_mapping,  how='inner', on='catID')\n",
    "predictions_df = pd.merge(predictions_df, user_mapping,  how='inner', on='userID')\n",
    "#Dropping duplicates\n",
    "predictions_df = predictions_df.drop_duplicates(['user_id','catID','category','category_id'])\n",
    "predictions_df.head(10)"
   ]
  },
  {
   "cell_type": "code",
   "execution_count": 43,
   "id": "amazing-breath",
   "metadata": {},
   "outputs": [
    {
     "data": {
      "text/plain": [
       "userID           548860\n",
       "Category_Rank        10\n",
       "catID                10\n",
       "category             10\n",
       "category_id          10\n",
       "user_id          548860\n",
       "dtype: int64"
      ]
     },
     "execution_count": 43,
     "metadata": {},
     "output_type": "execute_result"
    }
   ],
   "source": [
    "# Saving Results in S3\n",
    "predictions_df.to_csv('s3://myaws-capstone-bucket/data/modeling/output/MF_Spotlight_Param3.csv',index=False)\n",
    "predictions_df.nunique()"
   ]
  },
  {
   "cell_type": "code",
   "execution_count": null,
   "id": "cardiovascular-florence",
   "metadata": {},
   "outputs": [],
   "source": []
  }
 ],
 "metadata": {
  "kernelspec": {
   "display_name": "conda_python3",
   "language": "python",
   "name": "conda_python3"
  },
  "language_info": {
   "codemirror_mode": {
    "name": "ipython",
    "version": 3
   },
   "file_extension": ".py",
   "mimetype": "text/x-python",
   "name": "python",
   "nbconvert_exporter": "python",
   "pygments_lexer": "ipython3",
   "version": "3.6.13"
  }
 },
 "nbformat": 4,
 "nbformat_minor": 5
}
