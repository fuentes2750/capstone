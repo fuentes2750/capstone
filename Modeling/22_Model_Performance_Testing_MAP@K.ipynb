{
 "cells": [
  {
   "cell_type": "markdown",
   "id": "australian-fleece",
   "metadata": {},
   "source": [
    "This code makes use of the MAP@K Rank Accuracy Metric to evaluate the created models "
   ]
  },
  {
   "cell_type": "code",
   "execution_count": 1,
   "id": "departmental-clearance",
   "metadata": {},
   "outputs": [
    {
     "name": "stdout",
     "output_type": "stream",
     "text": [
      "Requirement already satisfied: ml_metrics in /home/ec2-user/anaconda3/envs/python3/lib/python3.6/site-packages (0.1.4)\r\n",
      "Requirement already satisfied: pandas in /home/ec2-user/anaconda3/envs/python3/lib/python3.6/site-packages (from ml_metrics) (1.1.5)\r\n",
      "Requirement already satisfied: numpy in /home/ec2-user/anaconda3/envs/python3/lib/python3.6/site-packages (from ml_metrics) (1.19.5)\r\n",
      "Requirement already satisfied: python-dateutil>=2.7.3 in /home/ec2-user/anaconda3/envs/python3/lib/python3.6/site-packages (from pandas->ml_metrics) (2.8.1)\r\n",
      "Requirement already satisfied: pytz>=2017.2 in /home/ec2-user/anaconda3/envs/python3/lib/python3.6/site-packages (from pandas->ml_metrics) (2021.1)\r\n",
      "Requirement already satisfied: six>=1.5 in /home/ec2-user/anaconda3/envs/python3/lib/python3.6/site-packages (from python-dateutil>=2.7.3->pandas->ml_metrics) (1.15.0)\r\n"
     ]
    }
   ],
   "source": [
    "! pip install ml_metrics"
   ]
  },
  {
   "cell_type": "code",
   "execution_count": 2,
   "id": "iraqi-jerusalem",
   "metadata": {},
   "outputs": [],
   "source": [
    "# Loading basic needed libraries\n",
    "import pandas as pd\n",
    "import numpy as np\n",
    "import gc\n",
    "import ml_metrics as metrics\n",
    "\n",
    "# Loading libraries for S3 bucket connection\n",
    "import boto3\n",
    "import io\n",
    "from io import StringIO,BytesIO, TextIOWrapper\n",
    "import gzip\n",
    "\n",
    "client = boto3.client('s3') \n",
    "resource = boto3.resource('s3') "
   ]
  },
  {
   "cell_type": "markdown",
   "id": "muslim-devon",
   "metadata": {},
   "source": [
    "#### Reading the testing dataset\n",
    "\n",
    "- All models will be tested for accuracy and compared with the same test dataset so that the results are comparable"
   ]
  },
  {
   "cell_type": "code",
   "execution_count": 3,
   "id": "chinese-aging",
   "metadata": {},
   "outputs": [
    {
     "data": {
      "text/html": [
       "<div>\n",
       "<style scoped>\n",
       "    .dataframe tbody tr th:only-of-type {\n",
       "        vertical-align: middle;\n",
       "    }\n",
       "\n",
       "    .dataframe tbody tr th {\n",
       "        vertical-align: top;\n",
       "    }\n",
       "\n",
       "    .dataframe thead th {\n",
       "        text-align: right;\n",
       "    }\n",
       "</style>\n",
       "<table border=\"1\" class=\"dataframe\">\n",
       "  <thead>\n",
       "    <tr style=\"text-align: right;\">\n",
       "      <th></th>\n",
       "      <th>user_id</th>\n",
       "      <th>category</th>\n",
       "      <th>category_id</th>\n",
       "      <th>implicit_rating</th>\n",
       "      <th>catID</th>\n",
       "    </tr>\n",
       "  </thead>\n",
       "  <tbody>\n",
       "    <tr>\n",
       "      <th>0</th>\n",
       "      <td>512823699</td>\n",
       "      <td>2232732109796016868_apparel.shirt</td>\n",
       "      <td>2232732109796016868</td>\n",
       "      <td>2</td>\n",
       "      <td>803</td>\n",
       "    </tr>\n",
       "    <tr>\n",
       "      <th>1</th>\n",
       "      <td>543131199</td>\n",
       "      <td>2232732135054115162_apparel.trousers</td>\n",
       "      <td>2232732135054115162</td>\n",
       "      <td>2</td>\n",
       "      <td>916</td>\n",
       "    </tr>\n",
       "    <tr>\n",
       "      <th>2</th>\n",
       "      <td>519321120</td>\n",
       "      <td>2053013555631882655_electronics.smartphone</td>\n",
       "      <td>2053013555631882655</td>\n",
       "      <td>2</td>\n",
       "      <td>107</td>\n",
       "    </tr>\n",
       "    <tr>\n",
       "      <th>3</th>\n",
       "      <td>567347471</td>\n",
       "      <td>2232732101063475749_appliances.environment.vacuum</td>\n",
       "      <td>2232732101063475749</td>\n",
       "      <td>2</td>\n",
       "      <td>725</td>\n",
       "    </tr>\n",
       "    <tr>\n",
       "      <th>4</th>\n",
       "      <td>566466570</td>\n",
       "      <td>2053013556311359947_construction.tools.drill</td>\n",
       "      <td>2053013556311359947</td>\n",
       "      <td>2</td>\n",
       "      <td>126</td>\n",
       "    </tr>\n",
       "  </tbody>\n",
       "</table>\n",
       "</div>"
      ],
      "text/plain": [
       "     user_id                                           category  \\\n",
       "0  512823699                  2232732109796016868_apparel.shirt   \n",
       "1  543131199               2232732135054115162_apparel.trousers   \n",
       "2  519321120         2053013555631882655_electronics.smartphone   \n",
       "3  567347471  2232732101063475749_appliances.environment.vacuum   \n",
       "4  566466570       2053013556311359947_construction.tools.drill   \n",
       "\n",
       "           category_id  implicit_rating  catID  \n",
       "0  2232732109796016868                2    803  \n",
       "1  2232732135054115162                2    916  \n",
       "2  2053013555631882655                2    107  \n",
       "3  2232732101063475749                2    725  \n",
       "4  2053013556311359947                2    126  "
      ]
     },
     "execution_count": 3,
     "metadata": {},
     "output_type": "execute_result"
    }
   ],
   "source": [
    "test_df = pd.read_csv('s3://myaws-capstone-bucket/data/modeling/input/implicit_cat_rating_test.csv')\n",
    "test_df.head()"
   ]
  },
  {
   "cell_type": "code",
   "execution_count": 4,
   "id": "described-narrow",
   "metadata": {},
   "outputs": [
    {
     "data": {
      "text/plain": [
       "(786081, 5)"
      ]
     },
     "execution_count": 4,
     "metadata": {},
     "output_type": "execute_result"
    }
   ],
   "source": [
    "test_df.shape"
   ]
  },
  {
   "cell_type": "code",
   "execution_count": 5,
   "id": "broad-convergence",
   "metadata": {},
   "outputs": [
    {
     "data": {
      "text/plain": [
       "user_id            548860\n",
       "category              916\n",
       "category_id           916\n",
       "implicit_rating         5\n",
       "catID                 916\n",
       "dtype: int64"
      ]
     },
     "execution_count": 5,
     "metadata": {},
     "output_type": "execute_result"
    }
   ],
   "source": [
    "test_df.nunique()"
   ]
  },
  {
   "cell_type": "code",
   "execution_count": 6,
   "id": "reported-greene",
   "metadata": {},
   "outputs": [
    {
     "data": {
      "text/html": [
       "<div>\n",
       "<style scoped>\n",
       "    .dataframe tbody tr th:only-of-type {\n",
       "        vertical-align: middle;\n",
       "    }\n",
       "\n",
       "    .dataframe tbody tr th {\n",
       "        vertical-align: top;\n",
       "    }\n",
       "\n",
       "    .dataframe thead th {\n",
       "        text-align: right;\n",
       "    }\n",
       "</style>\n",
       "<table border=\"1\" class=\"dataframe\">\n",
       "  <thead>\n",
       "    <tr style=\"text-align: right;\">\n",
       "      <th></th>\n",
       "      <th>user_id</th>\n",
       "      <th>category</th>\n",
       "      <th>category_id</th>\n",
       "      <th>implicit_rating</th>\n",
       "      <th>catID</th>\n",
       "      <th>category_rank</th>\n",
       "    </tr>\n",
       "  </thead>\n",
       "  <tbody>\n",
       "    <tr>\n",
       "      <th>465153</th>\n",
       "      <td>128968633</td>\n",
       "      <td>2232732093077520756_construction.tools.light</td>\n",
       "      <td>2232732093077520756</td>\n",
       "      <td>3</td>\n",
       "      <td>668</td>\n",
       "      <td>1</td>\n",
       "    </tr>\n",
       "    <tr>\n",
       "      <th>87773</th>\n",
       "      <td>128968633</td>\n",
       "      <td>2053013552351936731_appliances.environment.air...</td>\n",
       "      <td>2053013552351936731</td>\n",
       "      <td>2</td>\n",
       "      <td>16</td>\n",
       "      <td>2</td>\n",
       "    </tr>\n",
       "    <tr>\n",
       "      <th>706020</th>\n",
       "      <td>145611266</td>\n",
       "      <td>2053013552259662037_computers.components.power...</td>\n",
       "      <td>2053013552259662037</td>\n",
       "      <td>2</td>\n",
       "      <td>13</td>\n",
       "      <td>1</td>\n",
       "    </tr>\n",
       "    <tr>\n",
       "      <th>119371</th>\n",
       "      <td>200985178</td>\n",
       "      <td>2053013555631882655_electronics.smartphone</td>\n",
       "      <td>2053013555631882655</td>\n",
       "      <td>1</td>\n",
       "      <td>107</td>\n",
       "      <td>1</td>\n",
       "    </tr>\n",
       "    <tr>\n",
       "      <th>159886</th>\n",
       "      <td>221480173</td>\n",
       "      <td>2232732093077520756_construction.tools.light</td>\n",
       "      <td>2232732093077520756</td>\n",
       "      <td>2</td>\n",
       "      <td>668</td>\n",
       "      <td>1</td>\n",
       "    </tr>\n",
       "  </tbody>\n",
       "</table>\n",
       "</div>"
      ],
      "text/plain": [
       "          user_id                                           category  \\\n",
       "465153  128968633       2232732093077520756_construction.tools.light   \n",
       "87773   128968633  2053013552351936731_appliances.environment.air...   \n",
       "706020  145611266  2053013552259662037_computers.components.power...   \n",
       "119371  200985178         2053013555631882655_electronics.smartphone   \n",
       "159886  221480173       2232732093077520756_construction.tools.light   \n",
       "\n",
       "                category_id  implicit_rating  catID  category_rank  \n",
       "465153  2232732093077520756                3    668              1  \n",
       "87773   2053013552351936731                2     16              2  \n",
       "706020  2053013552259662037                2     13              1  \n",
       "119371  2053013555631882655                1    107              1  \n",
       "159886  2232732093077520756                2    668              1  "
      ]
     },
     "execution_count": 6,
     "metadata": {},
     "output_type": "execute_result"
    }
   ],
   "source": [
    "# Creating rank columns for implicit rating\n",
    "test_df['category_rank'] = test_df.sort_values(['implicit_rating'],ascending=False).groupby('user_id').cumcount()+1\n",
    "test_df = test_df.sort_values(['user_id','category_rank'],ascending=True)\n",
    "test_df.head()"
   ]
  },
  {
   "cell_type": "code",
   "execution_count": 7,
   "id": "pursuant-monster",
   "metadata": {},
   "outputs": [
    {
     "data": {
      "text/plain": [
       "user_id    548860\n",
       "dtype: int64"
      ]
     },
     "execution_count": 7,
     "metadata": {},
     "output_type": "execute_result"
    }
   ],
   "source": [
    "users_2_test = test_df[['user_id']]\n",
    "users_2_test = users_2_test.drop_duplicates(subset=['user_id'])\n",
    "users_2_test.nunique()"
   ]
  },
  {
   "cell_type": "markdown",
   "id": "indian-objective",
   "metadata": {},
   "source": [
    "#### Testing Popularity Based Recommender"
   ]
  },
  {
   "cell_type": "code",
   "execution_count": 8,
   "id": "million-signature",
   "metadata": {},
   "outputs": [
    {
     "data": {
      "text/html": [
       "<div>\n",
       "<style scoped>\n",
       "    .dataframe tbody tr th:only-of-type {\n",
       "        vertical-align: middle;\n",
       "    }\n",
       "\n",
       "    .dataframe tbody tr th {\n",
       "        vertical-align: top;\n",
       "    }\n",
       "\n",
       "    .dataframe thead th {\n",
       "        text-align: right;\n",
       "    }\n",
       "</style>\n",
       "<table border=\"1\" class=\"dataframe\">\n",
       "  <thead>\n",
       "    <tr style=\"text-align: right;\">\n",
       "      <th></th>\n",
       "      <th>user_id</th>\n",
       "      <th>cluster</th>\n",
       "      <th>category</th>\n",
       "      <th>purchase_rank</th>\n",
       "    </tr>\n",
       "  </thead>\n",
       "  <tbody>\n",
       "    <tr>\n",
       "      <th>0</th>\n",
       "      <td>512823699</td>\n",
       "      <td>2</td>\n",
       "      <td>2053013555631882655_electronics.smartphone</td>\n",
       "      <td>1</td>\n",
       "    </tr>\n",
       "    <tr>\n",
       "      <th>1</th>\n",
       "      <td>512823699</td>\n",
       "      <td>2</td>\n",
       "      <td>2232732093077520756_construction.tools.light</td>\n",
       "      <td>2</td>\n",
       "    </tr>\n",
       "    <tr>\n",
       "      <th>2</th>\n",
       "      <td>512823699</td>\n",
       "      <td>2</td>\n",
       "      <td>2232732079706079299_sport.bicycle</td>\n",
       "      <td>3</td>\n",
       "    </tr>\n",
       "    <tr>\n",
       "      <th>3</th>\n",
       "      <td>512823699</td>\n",
       "      <td>2</td>\n",
       "      <td>2053013554658804075_electronics.audio.headphone</td>\n",
       "      <td>4</td>\n",
       "    </tr>\n",
       "    <tr>\n",
       "      <th>4</th>\n",
       "      <td>512823699</td>\n",
       "      <td>2</td>\n",
       "      <td>2232732103831716449_apparel.shoes</td>\n",
       "      <td>5</td>\n",
       "    </tr>\n",
       "  </tbody>\n",
       "</table>\n",
       "</div>"
      ],
      "text/plain": [
       "     user_id  cluster                                         category  \\\n",
       "0  512823699        2       2053013555631882655_electronics.smartphone   \n",
       "1  512823699        2     2232732093077520756_construction.tools.light   \n",
       "2  512823699        2                2232732079706079299_sport.bicycle   \n",
       "3  512823699        2  2053013554658804075_electronics.audio.headphone   \n",
       "4  512823699        2                2232732103831716449_apparel.shoes   \n",
       "\n",
       "   purchase_rank  \n",
       "0              1  \n",
       "1              2  \n",
       "2              3  \n",
       "3              4  \n",
       "4              5  "
      ]
     },
     "execution_count": 8,
     "metadata": {},
     "output_type": "execute_result"
    }
   ],
   "source": [
    "pop_recs = pd.read_csv('s3://myaws-capstone-bucket/data/modeling/output/popular_recs.csv')\n",
    "pop_recs.head()"
   ]
  },
  {
   "cell_type": "code",
   "execution_count": 9,
   "id": "iraqi-scottish",
   "metadata": {},
   "outputs": [
    {
     "data": {
      "text/plain": [
       "user_id          548860\n",
       "cluster               6\n",
       "category             24\n",
       "purchase_rank        10\n",
       "dtype: int64"
      ]
     },
     "execution_count": 9,
     "metadata": {},
     "output_type": "execute_result"
    }
   ],
   "source": [
    "pop_recs.nunique()"
   ]
  },
  {
   "cell_type": "code",
   "execution_count": 10,
   "id": "banned-boxing",
   "metadata": {},
   "outputs": [
    {
     "data": {
      "text/plain": [
       "(5488600, 4)"
      ]
     },
     "execution_count": 10,
     "metadata": {},
     "output_type": "execute_result"
    }
   ],
   "source": [
    "pop_recs.shape"
   ]
  },
  {
   "cell_type": "code",
   "execution_count": 11,
   "id": "copyrighted-cardiff",
   "metadata": {},
   "outputs": [
    {
     "data": {
      "text/html": [
       "<div>\n",
       "<style scoped>\n",
       "    .dataframe tbody tr th:only-of-type {\n",
       "        vertical-align: middle;\n",
       "    }\n",
       "\n",
       "    .dataframe tbody tr th {\n",
       "        vertical-align: top;\n",
       "    }\n",
       "\n",
       "    .dataframe thead th {\n",
       "        text-align: right;\n",
       "    }\n",
       "</style>\n",
       "<table border=\"1\" class=\"dataframe\">\n",
       "  <thead>\n",
       "    <tr style=\"text-align: right;\">\n",
       "      <th></th>\n",
       "      <th>user_id</th>\n",
       "      <th>cluster</th>\n",
       "      <th>category</th>\n",
       "      <th>purchase_rank</th>\n",
       "    </tr>\n",
       "  </thead>\n",
       "  <tbody>\n",
       "    <tr>\n",
       "      <th>729090</th>\n",
       "      <td>128968633</td>\n",
       "      <td>5</td>\n",
       "      <td>2232732093077520756_construction.tools.light</td>\n",
       "      <td>1</td>\n",
       "    </tr>\n",
       "    <tr>\n",
       "      <th>729091</th>\n",
       "      <td>128968633</td>\n",
       "      <td>5</td>\n",
       "      <td>2232732079706079299_sport.bicycle</td>\n",
       "      <td>2</td>\n",
       "    </tr>\n",
       "    <tr>\n",
       "      <th>729092</th>\n",
       "      <td>128968633</td>\n",
       "      <td>5</td>\n",
       "      <td>2232732101063475749_appliances.environment.vacuum</td>\n",
       "      <td>3</td>\n",
       "    </tr>\n",
       "    <tr>\n",
       "      <th>729093</th>\n",
       "      <td>128968633</td>\n",
       "      <td>5</td>\n",
       "      <td>2053013555631882655_electronics.smartphone</td>\n",
       "      <td>4</td>\n",
       "    </tr>\n",
       "    <tr>\n",
       "      <th>729094</th>\n",
       "      <td>128968633</td>\n",
       "      <td>5</td>\n",
       "      <td>2232732103831716449_apparel.shoes</td>\n",
       "      <td>5</td>\n",
       "    </tr>\n",
       "  </tbody>\n",
       "</table>\n",
       "</div>"
      ],
      "text/plain": [
       "          user_id  cluster                                           category  \\\n",
       "729090  128968633        5       2232732093077520756_construction.tools.light   \n",
       "729091  128968633        5                  2232732079706079299_sport.bicycle   \n",
       "729092  128968633        5  2232732101063475749_appliances.environment.vacuum   \n",
       "729093  128968633        5         2053013555631882655_electronics.smartphone   \n",
       "729094  128968633        5                  2232732103831716449_apparel.shoes   \n",
       "\n",
       "        purchase_rank  \n",
       "729090              1  \n",
       "729091              2  \n",
       "729092              3  \n",
       "729093              4  \n",
       "729094              5  "
      ]
     },
     "execution_count": 11,
     "metadata": {},
     "output_type": "execute_result"
    }
   ],
   "source": [
    "pop_recs = pop_recs.sort_values(['user_id','purchase_rank'],ascending=True)\n",
    "pop_recs.head()"
   ]
  },
  {
   "cell_type": "markdown",
   "id": "listed-development",
   "metadata": {},
   "source": [
    "Making sure output is as expected for mapk function \n",
    "\n",
    "Using the following article as reference: https://www.kaggle.com/wendykan/map-k-demo/notebook?select=test.csv"
   ]
  },
  {
   "cell_type": "code",
   "execution_count": 13,
   "id": "musical-unemployment",
   "metadata": {},
   "outputs": [],
   "source": [
    "#Transforming categories for both recs and actual categories to lists for each user\n",
    "predicted = pop_recs.groupby('user_id')['category'].apply(list)\n",
    "actual = test_df.groupby('user_id')['category'].apply(list)"
   ]
  },
  {
   "cell_type": "code",
   "execution_count": 14,
   "id": "irish-oxford",
   "metadata": {},
   "outputs": [
    {
     "data": {
      "text/plain": [
       "user_id\n",
       "128968633    [2232732093077520756_construction.tools.light,...\n",
       "145611266    [2053013555631882655_electronics.smartphone, 2...\n",
       "200985178    [2232732093077520756_construction.tools.light,...\n",
       "221480173    [2232732093077520756_construction.tools.light,...\n",
       "237973968    [2232732093077520756_construction.tools.light,...\n",
       "                                   ...                        \n",
       "649728050    [2232732093077520756_construction.tools.light,...\n",
       "649736039    [2232732093077520756_construction.tools.light,...\n",
       "649740417    [2232732093077520756_construction.tools.light,...\n",
       "649754834    [2232732093077520756_construction.tools.light,...\n",
       "649768788    [2232732093077520756_construction.tools.light,...\n",
       "Name: category, Length: 548860, dtype: object"
      ]
     },
     "execution_count": 14,
     "metadata": {},
     "output_type": "execute_result"
    }
   ],
   "source": [
    "predicted"
   ]
  },
  {
   "cell_type": "code",
   "execution_count": 15,
   "id": "later-sterling",
   "metadata": {},
   "outputs": [
    {
     "data": {
      "text/plain": [
       "user_id\n",
       "128968633    [2232732093077520756_construction.tools.light,...\n",
       "145611266    [2053013552259662037_computers.components.powe...\n",
       "200985178         [2053013555631882655_electronics.smartphone]\n",
       "221480173    [2232732093077520756_construction.tools.light,...\n",
       "237973968    [2232732091307524418_appliances.kitchen.refrig...\n",
       "                                   ...                        \n",
       "649728050       [2232732093077520756_construction.tools.light]\n",
       "649736039                     [2232732105635267203_kids.swing]\n",
       "649740417    [2232732089587859740_appliances.personal.hair_...\n",
       "649754834       [2232732093077520756_construction.tools.light]\n",
       "649768788       [2232732093077520756_construction.tools.light]\n",
       "Name: category, Length: 548860, dtype: object"
      ]
     },
     "execution_count": 15,
     "metadata": {},
     "output_type": "execute_result"
    }
   ],
   "source": [
    "actual"
   ]
  },
  {
   "cell_type": "code",
   "execution_count": 16,
   "id": "hungarian-blend",
   "metadata": {},
   "outputs": [
    {
     "name": "stdout",
     "output_type": "stream",
     "text": [
      "MAP@10: 0.34294623\n",
      "MAP@10: 0.33130742\n"
     ]
    }
   ],
   "source": [
    "# Obtaining mapk value from popular recs vs actual test dataset comparrison \n",
    "mapk_score = metrics.mapk(actual, predicted, 10)\n",
    "print('MAP@10:','{:.8f}'.format(mapk_score))\n",
    "\n",
    "mapk_score = metrics.mapk(actual, predicted, 5)\n",
    "print('MAP@5:','{:.8f}'.format(mapk_score))"
   ]
  },
  {
   "cell_type": "markdown",
   "id": "unlike-cleaners",
   "metadata": {},
   "source": [
    "#### Testing MF Spotlight Recommender"
   ]
  },
  {
   "cell_type": "code",
   "execution_count": 17,
   "id": "technological-funds",
   "metadata": {},
   "outputs": [
    {
     "data": {
      "text/html": [
       "<div>\n",
       "<style scoped>\n",
       "    .dataframe tbody tr th:only-of-type {\n",
       "        vertical-align: middle;\n",
       "    }\n",
       "\n",
       "    .dataframe tbody tr th {\n",
       "        vertical-align: top;\n",
       "    }\n",
       "\n",
       "    .dataframe thead th {\n",
       "        text-align: right;\n",
       "    }\n",
       "</style>\n",
       "<table border=\"1\" class=\"dataframe\">\n",
       "  <thead>\n",
       "    <tr style=\"text-align: right;\">\n",
       "      <th></th>\n",
       "      <th>userID</th>\n",
       "      <th>Category_Rank</th>\n",
       "      <th>catID</th>\n",
       "      <th>category</th>\n",
       "      <th>category_id</th>\n",
       "      <th>user_id</th>\n",
       "    </tr>\n",
       "  </thead>\n",
       "  <tbody>\n",
       "    <tr>\n",
       "      <th>0</th>\n",
       "      <td>0</td>\n",
       "      <td>0</td>\n",
       "      <td>843</td>\n",
       "      <td>2232732113948377930_sport.bicycle</td>\n",
       "      <td>2232732113948377930</td>\n",
       "      <td>128968633</td>\n",
       "    </tr>\n",
       "    <tr>\n",
       "      <th>1</th>\n",
       "      <td>0</td>\n",
       "      <td>7</td>\n",
       "      <td>668</td>\n",
       "      <td>2232732093077520756_construction.tools.light</td>\n",
       "      <td>2232732093077520756</td>\n",
       "      <td>128968633</td>\n",
       "    </tr>\n",
       "    <tr>\n",
       "      <th>2</th>\n",
       "      <td>0</td>\n",
       "      <td>6</td>\n",
       "      <td>855</td>\n",
       "      <td>2232732115005342564_apparel.shoes.keds</td>\n",
       "      <td>2232732115005342564</td>\n",
       "      <td>128968633</td>\n",
       "    </tr>\n",
       "    <tr>\n",
       "      <th>3</th>\n",
       "      <td>0</td>\n",
       "      <td>3</td>\n",
       "      <td>791</td>\n",
       "      <td>2232732108839715530_apparel.costume</td>\n",
       "      <td>2232732108839715530</td>\n",
       "      <td>128968633</td>\n",
       "    </tr>\n",
       "    <tr>\n",
       "      <th>4</th>\n",
       "      <td>0</td>\n",
       "      <td>9</td>\n",
       "      <td>862</td>\n",
       "      <td>2232732116347519880_appliances.environment.vacuum</td>\n",
       "      <td>2232732116347519880</td>\n",
       "      <td>128968633</td>\n",
       "    </tr>\n",
       "  </tbody>\n",
       "</table>\n",
       "</div>"
      ],
      "text/plain": [
       "   userID  Category_Rank  catID  \\\n",
       "0       0              0    843   \n",
       "1       0              7    668   \n",
       "2       0              6    855   \n",
       "3       0              3    791   \n",
       "4       0              9    862   \n",
       "\n",
       "                                            category          category_id  \\\n",
       "0                  2232732113948377930_sport.bicycle  2232732113948377930   \n",
       "1       2232732093077520756_construction.tools.light  2232732093077520756   \n",
       "2             2232732115005342564_apparel.shoes.keds  2232732115005342564   \n",
       "3                2232732108839715530_apparel.costume  2232732108839715530   \n",
       "4  2232732116347519880_appliances.environment.vacuum  2232732116347519880   \n",
       "\n",
       "     user_id  \n",
       "0  128968633  \n",
       "1  128968633  \n",
       "2  128968633  \n",
       "3  128968633  \n",
       "4  128968633  "
      ]
     },
     "execution_count": 17,
     "metadata": {},
     "output_type": "execute_result"
    }
   ],
   "source": [
    "MF_recs = pd.read_csv('s3://myaws-capstone-bucket/data/modeling/output/MF_Spotlight_Param1.csv')\n",
    "MF_recs.head()"
   ]
  },
  {
   "cell_type": "code",
   "execution_count": 18,
   "id": "ordered-expense",
   "metadata": {},
   "outputs": [
    {
     "data": {
      "text/plain": [
       "userID           548860\n",
       "Category_Rank        10\n",
       "catID               588\n",
       "category            588\n",
       "category_id         588\n",
       "user_id          548860\n",
       "dtype: int64"
      ]
     },
     "execution_count": 18,
     "metadata": {},
     "output_type": "execute_result"
    }
   ],
   "source": [
    "MF_recs.nunique()"
   ]
  },
  {
   "cell_type": "code",
   "execution_count": 19,
   "id": "frank-intent",
   "metadata": {},
   "outputs": [
    {
     "data": {
      "text/html": [
       "<div>\n",
       "<style scoped>\n",
       "    .dataframe tbody tr th:only-of-type {\n",
       "        vertical-align: middle;\n",
       "    }\n",
       "\n",
       "    .dataframe tbody tr th {\n",
       "        vertical-align: top;\n",
       "    }\n",
       "\n",
       "    .dataframe thead th {\n",
       "        text-align: right;\n",
       "    }\n",
       "</style>\n",
       "<table border=\"1\" class=\"dataframe\">\n",
       "  <thead>\n",
       "    <tr style=\"text-align: right;\">\n",
       "      <th></th>\n",
       "      <th>userID</th>\n",
       "      <th>Category_Rank</th>\n",
       "      <th>catID</th>\n",
       "      <th>category</th>\n",
       "      <th>category_id</th>\n",
       "      <th>user_id</th>\n",
       "    </tr>\n",
       "  </thead>\n",
       "  <tbody>\n",
       "    <tr>\n",
       "      <th>0</th>\n",
       "      <td>0</td>\n",
       "      <td>0</td>\n",
       "      <td>843</td>\n",
       "      <td>2232732113948377930_sport.bicycle</td>\n",
       "      <td>2232732113948377930</td>\n",
       "      <td>128968633</td>\n",
       "    </tr>\n",
       "    <tr>\n",
       "      <th>8</th>\n",
       "      <td>0</td>\n",
       "      <td>1</td>\n",
       "      <td>611</td>\n",
       "      <td>2232732082063278200_electronics.clocks</td>\n",
       "      <td>2232732082063278200</td>\n",
       "      <td>128968633</td>\n",
       "    </tr>\n",
       "    <tr>\n",
       "      <th>5</th>\n",
       "      <td>0</td>\n",
       "      <td>2</td>\n",
       "      <td>365</td>\n",
       "      <td>2053013565639492569_apparel.shoes</td>\n",
       "      <td>2053013565639492569</td>\n",
       "      <td>128968633</td>\n",
       "    </tr>\n",
       "    <tr>\n",
       "      <th>3</th>\n",
       "      <td>0</td>\n",
       "      <td>3</td>\n",
       "      <td>791</td>\n",
       "      <td>2232732108839715530_apparel.costume</td>\n",
       "      <td>2232732108839715530</td>\n",
       "      <td>128968633</td>\n",
       "    </tr>\n",
       "    <tr>\n",
       "      <th>9</th>\n",
       "      <td>0</td>\n",
       "      <td>4</td>\n",
       "      <td>602</td>\n",
       "      <td>2232732079009824823_kids.skates</td>\n",
       "      <td>2232732079009824823</td>\n",
       "      <td>128968633</td>\n",
       "    </tr>\n",
       "  </tbody>\n",
       "</table>\n",
       "</div>"
      ],
      "text/plain": [
       "   userID  Category_Rank  catID                                category  \\\n",
       "0       0              0    843       2232732113948377930_sport.bicycle   \n",
       "8       0              1    611  2232732082063278200_electronics.clocks   \n",
       "5       0              2    365       2053013565639492569_apparel.shoes   \n",
       "3       0              3    791     2232732108839715530_apparel.costume   \n",
       "9       0              4    602         2232732079009824823_kids.skates   \n",
       "\n",
       "           category_id    user_id  \n",
       "0  2232732113948377930  128968633  \n",
       "8  2232732082063278200  128968633  \n",
       "5  2053013565639492569  128968633  \n",
       "3  2232732108839715530  128968633  \n",
       "9  2232732079009824823  128968633  "
      ]
     },
     "execution_count": 19,
     "metadata": {},
     "output_type": "execute_result"
    }
   ],
   "source": [
    "MF_recs = MF_recs.sort_values(['user_id','Category_Rank'],ascending=True)\n",
    "MF_recs.head()"
   ]
  },
  {
   "cell_type": "code",
   "execution_count": 20,
   "id": "nearby-swift",
   "metadata": {},
   "outputs": [
    {
     "data": {
      "text/plain": [
       "(5488600, 6)"
      ]
     },
     "execution_count": 20,
     "metadata": {},
     "output_type": "execute_result"
    }
   ],
   "source": [
    "MF_recs.shape"
   ]
  },
  {
   "cell_type": "code",
   "execution_count": 21,
   "id": "trained-candle",
   "metadata": {},
   "outputs": [
    {
     "data": {
      "text/html": [
       "<div>\n",
       "<style scoped>\n",
       "    .dataframe tbody tr th:only-of-type {\n",
       "        vertical-align: middle;\n",
       "    }\n",
       "\n",
       "    .dataframe tbody tr th {\n",
       "        vertical-align: top;\n",
       "    }\n",
       "\n",
       "    .dataframe thead th {\n",
       "        text-align: right;\n",
       "    }\n",
       "</style>\n",
       "<table border=\"1\" class=\"dataframe\">\n",
       "  <thead>\n",
       "    <tr style=\"text-align: right;\">\n",
       "      <th></th>\n",
       "      <th>user_id</th>\n",
       "      <th>category</th>\n",
       "      <th>category_id</th>\n",
       "      <th>implicit_rating</th>\n",
       "      <th>catID</th>\n",
       "      <th>category_rank</th>\n",
       "    </tr>\n",
       "  </thead>\n",
       "  <tbody>\n",
       "    <tr>\n",
       "      <th>465153</th>\n",
       "      <td>128968633</td>\n",
       "      <td>2232732093077520756_construction.tools.light</td>\n",
       "      <td>2232732093077520756</td>\n",
       "      <td>3</td>\n",
       "      <td>668</td>\n",
       "      <td>1</td>\n",
       "    </tr>\n",
       "    <tr>\n",
       "      <th>87773</th>\n",
       "      <td>128968633</td>\n",
       "      <td>2053013552351936731_appliances.environment.air...</td>\n",
       "      <td>2053013552351936731</td>\n",
       "      <td>2</td>\n",
       "      <td>16</td>\n",
       "      <td>2</td>\n",
       "    </tr>\n",
       "    <tr>\n",
       "      <th>706020</th>\n",
       "      <td>145611266</td>\n",
       "      <td>2053013552259662037_computers.components.power...</td>\n",
       "      <td>2053013552259662037</td>\n",
       "      <td>2</td>\n",
       "      <td>13</td>\n",
       "      <td>1</td>\n",
       "    </tr>\n",
       "    <tr>\n",
       "      <th>119371</th>\n",
       "      <td>200985178</td>\n",
       "      <td>2053013555631882655_electronics.smartphone</td>\n",
       "      <td>2053013555631882655</td>\n",
       "      <td>1</td>\n",
       "      <td>107</td>\n",
       "      <td>1</td>\n",
       "    </tr>\n",
       "    <tr>\n",
       "      <th>159886</th>\n",
       "      <td>221480173</td>\n",
       "      <td>2232732093077520756_construction.tools.light</td>\n",
       "      <td>2232732093077520756</td>\n",
       "      <td>2</td>\n",
       "      <td>668</td>\n",
       "      <td>1</td>\n",
       "    </tr>\n",
       "  </tbody>\n",
       "</table>\n",
       "</div>"
      ],
      "text/plain": [
       "          user_id                                           category  \\\n",
       "465153  128968633       2232732093077520756_construction.tools.light   \n",
       "87773   128968633  2053013552351936731_appliances.environment.air...   \n",
       "706020  145611266  2053013552259662037_computers.components.power...   \n",
       "119371  200985178         2053013555631882655_electronics.smartphone   \n",
       "159886  221480173       2232732093077520756_construction.tools.light   \n",
       "\n",
       "                category_id  implicit_rating  catID  category_rank  \n",
       "465153  2232732093077520756                3    668              1  \n",
       "87773   2053013552351936731                2     16              2  \n",
       "706020  2053013552259662037                2     13              1  \n",
       "119371  2053013555631882655                1    107              1  \n",
       "159886  2232732093077520756                2    668              1  "
      ]
     },
     "execution_count": 21,
     "metadata": {},
     "output_type": "execute_result"
    }
   ],
   "source": [
    "test_df = test_df.sort_values(['user_id','category_rank'],ascending=True)\n",
    "test_df.head()"
   ]
  },
  {
   "cell_type": "code",
   "execution_count": 22,
   "id": "hydraulic-whole",
   "metadata": {},
   "outputs": [
    {
     "data": {
      "text/plain": [
       "(786081, 6)"
      ]
     },
     "execution_count": 22,
     "metadata": {},
     "output_type": "execute_result"
    }
   ],
   "source": [
    "test_df.shape"
   ]
  },
  {
   "cell_type": "code",
   "execution_count": 23,
   "id": "clinical-softball",
   "metadata": {},
   "outputs": [
    {
     "name": "stdout",
     "output_type": "stream",
     "text": [
      "MAP@10: 0.05093121\n",
      "MAP@5: 0.04654937\n"
     ]
    }
   ],
   "source": [
    "#Transforming categories for both recs and actual categories to lists for each user\n",
    "predicted = MF_recs.groupby('user_id')['category'].apply(list)\n",
    "actual = test_df.groupby('user_id')['category'].apply(list)\n",
    "\n",
    "# Obtaining mapk value from MF recs vs actual test dataset comparrison\n",
    "mapk_score = metrics.mapk(actual, predicted, 10) \n",
    "print('MAP@10:','{:.8f}'.format(mapk_score))\n",
    "\n",
    "mapk_score = metrics.mapk(actual, predicted, 5) \n",
    "print('MAP@5:','{:.8f}'.format(mapk_score))"
   ]
  },
  {
   "cell_type": "code",
   "execution_count": 24,
   "id": "incredible-knowing",
   "metadata": {},
   "outputs": [
    {
     "data": {
      "text/plain": [
       "(5488600, 6)"
      ]
     },
     "execution_count": 24,
     "metadata": {},
     "output_type": "execute_result"
    }
   ],
   "source": [
    "MF_recs = pd.read_csv('s3://myaws-capstone-bucket/data/modeling/output/MF_Spotlight_Param2.csv')\n",
    "MF_recs = MF_recs.sort_values(['user_id','Category_Rank'],ascending=True)\n",
    "MF_recs.shape"
   ]
  },
  {
   "cell_type": "code",
   "execution_count": 25,
   "id": "hybrid-training",
   "metadata": {},
   "outputs": [
    {
     "data": {
      "text/html": [
       "<div>\n",
       "<style scoped>\n",
       "    .dataframe tbody tr th:only-of-type {\n",
       "        vertical-align: middle;\n",
       "    }\n",
       "\n",
       "    .dataframe tbody tr th {\n",
       "        vertical-align: top;\n",
       "    }\n",
       "\n",
       "    .dataframe thead th {\n",
       "        text-align: right;\n",
       "    }\n",
       "</style>\n",
       "<table border=\"1\" class=\"dataframe\">\n",
       "  <thead>\n",
       "    <tr style=\"text-align: right;\">\n",
       "      <th></th>\n",
       "      <th>userID</th>\n",
       "      <th>Category_Rank</th>\n",
       "      <th>catID</th>\n",
       "      <th>category</th>\n",
       "      <th>category_id</th>\n",
       "      <th>user_id</th>\n",
       "    </tr>\n",
       "  </thead>\n",
       "  <tbody>\n",
       "    <tr>\n",
       "      <th>0</th>\n",
       "      <td>0</td>\n",
       "      <td>0</td>\n",
       "      <td>30</td>\n",
       "      <td>2053013552863641845_appliances.environment.fan</td>\n",
       "      <td>2053013552863641845</td>\n",
       "      <td>128968633</td>\n",
       "    </tr>\n",
       "    <tr>\n",
       "      <th>6</th>\n",
       "      <td>0</td>\n",
       "      <td>1</td>\n",
       "      <td>563</td>\n",
       "      <td>2173216765583032544_apparel.shirt</td>\n",
       "      <td>2173216765583032544</td>\n",
       "      <td>128968633</td>\n",
       "    </tr>\n",
       "    <tr>\n",
       "      <th>1</th>\n",
       "      <td>0</td>\n",
       "      <td>2</td>\n",
       "      <td>523</td>\n",
       "      <td>2135658543242543872_apparel.shoes</td>\n",
       "      <td>2135658543242543872</td>\n",
       "      <td>128968633</td>\n",
       "    </tr>\n",
       "    <tr>\n",
       "      <th>4</th>\n",
       "      <td>0</td>\n",
       "      <td>3</td>\n",
       "      <td>285</td>\n",
       "      <td>2053013562183385881_apparel.shoes</td>\n",
       "      <td>2053013562183385881</td>\n",
       "      <td>128968633</td>\n",
       "    </tr>\n",
       "    <tr>\n",
       "      <th>2</th>\n",
       "      <td>0</td>\n",
       "      <td>4</td>\n",
       "      <td>915</td>\n",
       "      <td>2232732134987006296_electronics.audio.headphone</td>\n",
       "      <td>2232732134987006296</td>\n",
       "      <td>128968633</td>\n",
       "    </tr>\n",
       "    <tr>\n",
       "      <th>5</th>\n",
       "      <td>0</td>\n",
       "      <td>5</td>\n",
       "      <td>900</td>\n",
       "      <td>2232732130591375596_sport.ski</td>\n",
       "      <td>2232732130591375596</td>\n",
       "      <td>128968633</td>\n",
       "    </tr>\n",
       "    <tr>\n",
       "      <th>3</th>\n",
       "      <td>0</td>\n",
       "      <td>6</td>\n",
       "      <td>513</td>\n",
       "      <td>2134904980736311929_electronics.clocks</td>\n",
       "      <td>2134904980736311929</td>\n",
       "      <td>128968633</td>\n",
       "    </tr>\n",
       "    <tr>\n",
       "      <th>7</th>\n",
       "      <td>0</td>\n",
       "      <td>7</td>\n",
       "      <td>1</td>\n",
       "      <td>2053013551865397438_sport.trainer</td>\n",
       "      <td>2053013551865397438</td>\n",
       "      <td>128968633</td>\n",
       "    </tr>\n",
       "    <tr>\n",
       "      <th>8</th>\n",
       "      <td>0</td>\n",
       "      <td>8</td>\n",
       "      <td>499</td>\n",
       "      <td>2116907524379639897_apparel.shoes</td>\n",
       "      <td>2116907524379639897</td>\n",
       "      <td>128968633</td>\n",
       "    </tr>\n",
       "    <tr>\n",
       "      <th>9</th>\n",
       "      <td>0</td>\n",
       "      <td>9</td>\n",
       "      <td>536</td>\n",
       "      <td>2145039101303194425_sport.tennis</td>\n",
       "      <td>2145039101303194425</td>\n",
       "      <td>128968633</td>\n",
       "    </tr>\n",
       "    <tr>\n",
       "      <th>268880</th>\n",
       "      <td>1</td>\n",
       "      <td>0</td>\n",
       "      <td>321</td>\n",
       "      <td>2053013563550729061_sport.ski</td>\n",
       "      <td>2053013563550729061</td>\n",
       "      <td>145611266</td>\n",
       "    </tr>\n",
       "    <tr>\n",
       "      <th>268883</th>\n",
       "      <td>1</td>\n",
       "      <td>1</td>\n",
       "      <td>468</td>\n",
       "      <td>2098563448148329133_appliances.kitchen.washer</td>\n",
       "      <td>2098563448148329133</td>\n",
       "      <td>145611266</td>\n",
       "    </tr>\n",
       "    <tr>\n",
       "      <th>268881</th>\n",
       "      <td>1</td>\n",
       "      <td>2</td>\n",
       "      <td>198</td>\n",
       "      <td>2053013558861496931_apparel.shoes</td>\n",
       "      <td>2053013558861496931</td>\n",
       "      <td>145611266</td>\n",
       "    </tr>\n",
       "    <tr>\n",
       "      <th>268886</th>\n",
       "      <td>1</td>\n",
       "      <td>3</td>\n",
       "      <td>880</td>\n",
       "      <td>2232732121070305284_construction.tools.saw</td>\n",
       "      <td>2232732121070305284</td>\n",
       "      <td>145611266</td>\n",
       "    </tr>\n",
       "    <tr>\n",
       "      <th>268888</th>\n",
       "      <td>1</td>\n",
       "      <td>4</td>\n",
       "      <td>502</td>\n",
       "      <td>2116907524572577889_apparel.shoes</td>\n",
       "      <td>2116907524572577889</td>\n",
       "      <td>145611266</td>\n",
       "    </tr>\n",
       "  </tbody>\n",
       "</table>\n",
       "</div>"
      ],
      "text/plain": [
       "        userID  Category_Rank  catID  \\\n",
       "0            0              0     30   \n",
       "6            0              1    563   \n",
       "1            0              2    523   \n",
       "4            0              3    285   \n",
       "2            0              4    915   \n",
       "5            0              5    900   \n",
       "3            0              6    513   \n",
       "7            0              7      1   \n",
       "8            0              8    499   \n",
       "9            0              9    536   \n",
       "268880       1              0    321   \n",
       "268883       1              1    468   \n",
       "268881       1              2    198   \n",
       "268886       1              3    880   \n",
       "268888       1              4    502   \n",
       "\n",
       "                                               category          category_id  \\\n",
       "0        2053013552863641845_appliances.environment.fan  2053013552863641845   \n",
       "6                     2173216765583032544_apparel.shirt  2173216765583032544   \n",
       "1                     2135658543242543872_apparel.shoes  2135658543242543872   \n",
       "4                     2053013562183385881_apparel.shoes  2053013562183385881   \n",
       "2       2232732134987006296_electronics.audio.headphone  2232732134987006296   \n",
       "5                         2232732130591375596_sport.ski  2232732130591375596   \n",
       "3                2134904980736311929_electronics.clocks  2134904980736311929   \n",
       "7                     2053013551865397438_sport.trainer  2053013551865397438   \n",
       "8                     2116907524379639897_apparel.shoes  2116907524379639897   \n",
       "9                      2145039101303194425_sport.tennis  2145039101303194425   \n",
       "268880                    2053013563550729061_sport.ski  2053013563550729061   \n",
       "268883    2098563448148329133_appliances.kitchen.washer  2098563448148329133   \n",
       "268881                2053013558861496931_apparel.shoes  2053013558861496931   \n",
       "268886       2232732121070305284_construction.tools.saw  2232732121070305284   \n",
       "268888                2116907524572577889_apparel.shoes  2116907524572577889   \n",
       "\n",
       "          user_id  \n",
       "0       128968633  \n",
       "6       128968633  \n",
       "1       128968633  \n",
       "4       128968633  \n",
       "2       128968633  \n",
       "5       128968633  \n",
       "3       128968633  \n",
       "7       128968633  \n",
       "8       128968633  \n",
       "9       128968633  \n",
       "268880  145611266  \n",
       "268883  145611266  \n",
       "268881  145611266  \n",
       "268886  145611266  \n",
       "268888  145611266  "
      ]
     },
     "execution_count": 25,
     "metadata": {},
     "output_type": "execute_result"
    }
   ],
   "source": [
    "MF_recs.head(15)"
   ]
  },
  {
   "cell_type": "code",
   "execution_count": 26,
   "id": "starting-adoption",
   "metadata": {},
   "outputs": [
    {
     "data": {
      "text/html": [
       "<div>\n",
       "<style scoped>\n",
       "    .dataframe tbody tr th:only-of-type {\n",
       "        vertical-align: middle;\n",
       "    }\n",
       "\n",
       "    .dataframe tbody tr th {\n",
       "        vertical-align: top;\n",
       "    }\n",
       "\n",
       "    .dataframe thead th {\n",
       "        text-align: right;\n",
       "    }\n",
       "</style>\n",
       "<table border=\"1\" class=\"dataframe\">\n",
       "  <thead>\n",
       "    <tr style=\"text-align: right;\">\n",
       "      <th></th>\n",
       "      <th>user_id</th>\n",
       "      <th>category</th>\n",
       "      <th>category_id</th>\n",
       "      <th>implicit_rating</th>\n",
       "      <th>catID</th>\n",
       "      <th>category_rank</th>\n",
       "    </tr>\n",
       "  </thead>\n",
       "  <tbody>\n",
       "    <tr>\n",
       "      <th>465153</th>\n",
       "      <td>128968633</td>\n",
       "      <td>2232732093077520756_construction.tools.light</td>\n",
       "      <td>2232732093077520756</td>\n",
       "      <td>3</td>\n",
       "      <td>668</td>\n",
       "      <td>1</td>\n",
       "    </tr>\n",
       "    <tr>\n",
       "      <th>87773</th>\n",
       "      <td>128968633</td>\n",
       "      <td>2053013552351936731_appliances.environment.air...</td>\n",
       "      <td>2053013552351936731</td>\n",
       "      <td>2</td>\n",
       "      <td>16</td>\n",
       "      <td>2</td>\n",
       "    </tr>\n",
       "    <tr>\n",
       "      <th>706020</th>\n",
       "      <td>145611266</td>\n",
       "      <td>2053013552259662037_computers.components.power...</td>\n",
       "      <td>2053013552259662037</td>\n",
       "      <td>2</td>\n",
       "      <td>13</td>\n",
       "      <td>1</td>\n",
       "    </tr>\n",
       "    <tr>\n",
       "      <th>119371</th>\n",
       "      <td>200985178</td>\n",
       "      <td>2053013555631882655_electronics.smartphone</td>\n",
       "      <td>2053013555631882655</td>\n",
       "      <td>1</td>\n",
       "      <td>107</td>\n",
       "      <td>1</td>\n",
       "    </tr>\n",
       "    <tr>\n",
       "      <th>159886</th>\n",
       "      <td>221480173</td>\n",
       "      <td>2232732093077520756_construction.tools.light</td>\n",
       "      <td>2232732093077520756</td>\n",
       "      <td>2</td>\n",
       "      <td>668</td>\n",
       "      <td>1</td>\n",
       "    </tr>\n",
       "  </tbody>\n",
       "</table>\n",
       "</div>"
      ],
      "text/plain": [
       "          user_id                                           category  \\\n",
       "465153  128968633       2232732093077520756_construction.tools.light   \n",
       "87773   128968633  2053013552351936731_appliances.environment.air...   \n",
       "706020  145611266  2053013552259662037_computers.components.power...   \n",
       "119371  200985178         2053013555631882655_electronics.smartphone   \n",
       "159886  221480173       2232732093077520756_construction.tools.light   \n",
       "\n",
       "                category_id  implicit_rating  catID  category_rank  \n",
       "465153  2232732093077520756                3    668              1  \n",
       "87773   2053013552351936731                2     16              2  \n",
       "706020  2053013552259662037                2     13              1  \n",
       "119371  2053013555631882655                1    107              1  \n",
       "159886  2232732093077520756                2    668              1  "
      ]
     },
     "execution_count": 26,
     "metadata": {},
     "output_type": "execute_result"
    }
   ],
   "source": [
    "test_df.head()"
   ]
  },
  {
   "cell_type": "code",
   "execution_count": 27,
   "id": "joint-settle",
   "metadata": {},
   "outputs": [
    {
     "name": "stdout",
     "output_type": "stream",
     "text": [
      "MAP@10: 0.00026392\n",
      "MAP@5: 0.00018179\n"
     ]
    }
   ],
   "source": [
    "#Transforming categories for both recs and actual categories to lists for each user\n",
    "predicted = MF_recs.groupby('user_id')['category'].apply(list)\n",
    "actual = test_df.groupby('user_id')['category'].apply(list)\n",
    "\n",
    "# Obtaining mapk value from MF recs vs actual test dataset comparrison\n",
    "mapk_score = metrics.mapk(actual, predicted, 10) \n",
    "print('MAP@10:','{:.8f}'.format(mapk_score))\n",
    "\n",
    "mapk_score = metrics.mapk(actual, predicted, 5) \n",
    "print('MAP@5:','{:.8f}'.format(mapk_score))"
   ]
  },
  {
   "cell_type": "code",
   "execution_count": 28,
   "id": "japanese-uruguay",
   "metadata": {},
   "outputs": [
    {
     "data": {
      "text/plain": [
       "(5488600, 6)"
      ]
     },
     "execution_count": 28,
     "metadata": {},
     "output_type": "execute_result"
    }
   ],
   "source": [
    "MF_recs = pd.read_csv('s3://myaws-capstone-bucket/data/modeling/output/MF_Spotlight_Param3.csv')\n",
    "MF_recs = MF_recs.sort_values(['user_id','Category_Rank'],ascending=True)\n",
    "MF_recs.shape"
   ]
  },
  {
   "cell_type": "code",
   "execution_count": 29,
   "id": "executed-board",
   "metadata": {},
   "outputs": [
    {
     "name": "stdout",
     "output_type": "stream",
     "text": [
      "MAP@10: 0.34039973\n",
      "MAP@5: 0.32977143\n"
     ]
    }
   ],
   "source": [
    "#Transforming categories for both recs and actual categories to lists for each user\n",
    "predicted = MF_recs.groupby('user_id')['category'].apply(list)\n",
    "actual = test_df.groupby('user_id')['category'].apply(list)\n",
    "\n",
    "# Obtaining mapk value from MF recs vs actual test dataset comparrison\n",
    "mapk_score = metrics.mapk(actual, predicted, 10) \n",
    "print('MAP@10:','{:.8f}'.format(mapk_score))\n",
    "\n",
    "mapk_score = metrics.mapk(actual, predicted, 5) \n",
    "print('MAP@5:','{:.8f}'.format(mapk_score))"
   ]
  },
  {
   "cell_type": "markdown",
   "id": "isolated-control",
   "metadata": {},
   "source": [
    "#### Testing LSTM - RNN Model"
   ]
  },
  {
   "cell_type": "code",
   "execution_count": 32,
   "id": "comfortable-friendly",
   "metadata": {},
   "outputs": [
    {
     "data": {
      "text/html": [
       "<div>\n",
       "<style scoped>\n",
       "    .dataframe tbody tr th:only-of-type {\n",
       "        vertical-align: middle;\n",
       "    }\n",
       "\n",
       "    .dataframe tbody tr th {\n",
       "        vertical-align: top;\n",
       "    }\n",
       "\n",
       "    .dataframe thead th {\n",
       "        text-align: right;\n",
       "    }\n",
       "</style>\n",
       "<table border=\"1\" class=\"dataframe\">\n",
       "  <thead>\n",
       "    <tr style=\"text-align: right;\">\n",
       "      <th></th>\n",
       "      <th>userID</th>\n",
       "      <th>Category_Rank</th>\n",
       "      <th>catID</th>\n",
       "      <th>category</th>\n",
       "      <th>category_id</th>\n",
       "      <th>user_id</th>\n",
       "    </tr>\n",
       "  </thead>\n",
       "  <tbody>\n",
       "    <tr>\n",
       "      <th>0</th>\n",
       "      <td>1</td>\n",
       "      <td>0</td>\n",
       "      <td>669</td>\n",
       "      <td>2232732093077520756_construction.tools.light</td>\n",
       "      <td>2232732093077520756</td>\n",
       "      <td>128968633</td>\n",
       "    </tr>\n",
       "    <tr>\n",
       "      <th>1</th>\n",
       "      <td>1</td>\n",
       "      <td>6</td>\n",
       "      <td>715</td>\n",
       "      <td>2232732099754852875_appliances.personal.massager</td>\n",
       "      <td>2232732099754852875</td>\n",
       "      <td>128968633</td>\n",
       "    </tr>\n",
       "    <tr>\n",
       "      <th>2</th>\n",
       "      <td>1</td>\n",
       "      <td>9</td>\n",
       "      <td>72</td>\n",
       "      <td>2053013554155487563_computers.components.mothe...</td>\n",
       "      <td>2053013554155487563</td>\n",
       "      <td>128968633</td>\n",
       "    </tr>\n",
       "    <tr>\n",
       "      <th>3</th>\n",
       "      <td>1</td>\n",
       "      <td>2</td>\n",
       "      <td>639</td>\n",
       "      <td>2232732086928670945_electronics.camera.photo</td>\n",
       "      <td>2232732086928670945</td>\n",
       "      <td>128968633</td>\n",
       "    </tr>\n",
       "    <tr>\n",
       "      <th>4</th>\n",
       "      <td>1</td>\n",
       "      <td>1</td>\n",
       "      <td>789</td>\n",
       "      <td>2232732108613223108_sport.trainer</td>\n",
       "      <td>2232732108613223108</td>\n",
       "      <td>128968633</td>\n",
       "    </tr>\n",
       "  </tbody>\n",
       "</table>\n",
       "</div>"
      ],
      "text/plain": [
       "   userID  Category_Rank  catID  \\\n",
       "0       1              0    669   \n",
       "1       1              6    715   \n",
       "2       1              9     72   \n",
       "3       1              2    639   \n",
       "4       1              1    789   \n",
       "\n",
       "                                            category          category_id  \\\n",
       "0       2232732093077520756_construction.tools.light  2232732093077520756   \n",
       "1   2232732099754852875_appliances.personal.massager  2232732099754852875   \n",
       "2  2053013554155487563_computers.components.mothe...  2053013554155487563   \n",
       "3       2232732086928670945_electronics.camera.photo  2232732086928670945   \n",
       "4                  2232732108613223108_sport.trainer  2232732108613223108   \n",
       "\n",
       "     user_id  \n",
       "0  128968633  \n",
       "1  128968633  \n",
       "2  128968633  \n",
       "3  128968633  \n",
       "4  128968633  "
      ]
     },
     "execution_count": 32,
     "metadata": {},
     "output_type": "execute_result"
    }
   ],
   "source": [
    "LSTM_recs = pd.read_csv('s3://myaws-capstone-bucket/data/modeling/output/LSTM_param1.csv')\n",
    "LSTM_recs.head()"
   ]
  },
  {
   "cell_type": "code",
   "execution_count": 33,
   "id": "silent-prediction",
   "metadata": {},
   "outputs": [
    {
     "data": {
      "text/plain": [
       "userID           535748\n",
       "Category_Rank        10\n",
       "catID               578\n",
       "category            578\n",
       "category_id         578\n",
       "user_id          535748\n",
       "dtype: int64"
      ]
     },
     "execution_count": 33,
     "metadata": {},
     "output_type": "execute_result"
    }
   ],
   "source": [
    "LSTM_recs.nunique()"
   ]
  },
  {
   "cell_type": "code",
   "execution_count": 34,
   "id": "athletic-footwear",
   "metadata": {},
   "outputs": [
    {
     "data": {
      "text/html": [
       "<div>\n",
       "<style scoped>\n",
       "    .dataframe tbody tr th:only-of-type {\n",
       "        vertical-align: middle;\n",
       "    }\n",
       "\n",
       "    .dataframe tbody tr th {\n",
       "        vertical-align: top;\n",
       "    }\n",
       "\n",
       "    .dataframe thead th {\n",
       "        text-align: right;\n",
       "    }\n",
       "</style>\n",
       "<table border=\"1\" class=\"dataframe\">\n",
       "  <thead>\n",
       "    <tr style=\"text-align: right;\">\n",
       "      <th></th>\n",
       "      <th>userID</th>\n",
       "      <th>Category_Rank</th>\n",
       "      <th>catID</th>\n",
       "      <th>category</th>\n",
       "      <th>category_id</th>\n",
       "      <th>user_id</th>\n",
       "    </tr>\n",
       "  </thead>\n",
       "  <tbody>\n",
       "    <tr>\n",
       "      <th>0</th>\n",
       "      <td>1</td>\n",
       "      <td>0</td>\n",
       "      <td>669</td>\n",
       "      <td>2232732093077520756_construction.tools.light</td>\n",
       "      <td>2232732093077520756</td>\n",
       "      <td>128968633</td>\n",
       "    </tr>\n",
       "    <tr>\n",
       "      <th>4</th>\n",
       "      <td>1</td>\n",
       "      <td>1</td>\n",
       "      <td>789</td>\n",
       "      <td>2232732108613223108_sport.trainer</td>\n",
       "      <td>2232732108613223108</td>\n",
       "      <td>128968633</td>\n",
       "    </tr>\n",
       "    <tr>\n",
       "      <th>3</th>\n",
       "      <td>1</td>\n",
       "      <td>2</td>\n",
       "      <td>639</td>\n",
       "      <td>2232732086928670945_electronics.camera.photo</td>\n",
       "      <td>2232732086928670945</td>\n",
       "      <td>128968633</td>\n",
       "    </tr>\n",
       "    <tr>\n",
       "      <th>9</th>\n",
       "      <td>1</td>\n",
       "      <td>3</td>\n",
       "      <td>155</td>\n",
       "      <td>2053013557452210699_electronics.clocks</td>\n",
       "      <td>2053013557452210699</td>\n",
       "      <td>128968633</td>\n",
       "    </tr>\n",
       "    <tr>\n",
       "      <th>6</th>\n",
       "      <td>1</td>\n",
       "      <td>4</td>\n",
       "      <td>726</td>\n",
       "      <td>2232732101063475749_appliances.environment.vacuum</td>\n",
       "      <td>2232732101063475749</td>\n",
       "      <td>128968633</td>\n",
       "    </tr>\n",
       "  </tbody>\n",
       "</table>\n",
       "</div>"
      ],
      "text/plain": [
       "   userID  Category_Rank  catID  \\\n",
       "0       1              0    669   \n",
       "4       1              1    789   \n",
       "3       1              2    639   \n",
       "9       1              3    155   \n",
       "6       1              4    726   \n",
       "\n",
       "                                            category          category_id  \\\n",
       "0       2232732093077520756_construction.tools.light  2232732093077520756   \n",
       "4                  2232732108613223108_sport.trainer  2232732108613223108   \n",
       "3       2232732086928670945_electronics.camera.photo  2232732086928670945   \n",
       "9             2053013557452210699_electronics.clocks  2053013557452210699   \n",
       "6  2232732101063475749_appliances.environment.vacuum  2232732101063475749   \n",
       "\n",
       "     user_id  \n",
       "0  128968633  \n",
       "4  128968633  \n",
       "3  128968633  \n",
       "9  128968633  \n",
       "6  128968633  "
      ]
     },
     "execution_count": 34,
     "metadata": {},
     "output_type": "execute_result"
    }
   ],
   "source": [
    "LSTM_recs = LSTM_recs.sort_values(['user_id','Category_Rank'],ascending=True)\n",
    "LSTM_recs.head()"
   ]
  },
  {
   "cell_type": "code",
   "execution_count": 35,
   "id": "strong-pavilion",
   "metadata": {},
   "outputs": [
    {
     "data": {
      "text/plain": [
       "(5357480, 6)"
      ]
     },
     "execution_count": 35,
     "metadata": {},
     "output_type": "execute_result"
    }
   ],
   "source": [
    "LSTM_recs.shape"
   ]
  },
  {
   "cell_type": "code",
   "execution_count": 36,
   "id": "diagnostic-alpha",
   "metadata": {},
   "outputs": [
    {
     "data": {
      "text/plain": [
       "user_id    535748\n",
       "dtype: int64"
      ]
     },
     "execution_count": 36,
     "metadata": {},
     "output_type": "execute_result"
    }
   ],
   "source": [
    "# Grabbing ids to use for test_df to verify performance of LSTM model\n",
    "lstm_users = LSTM_recs[['user_id']]\n",
    "lstm_users.drop_duplicates(subset=['user_id'])\n",
    "lstm_users.nunique()"
   ]
  },
  {
   "cell_type": "code",
   "execution_count": 37,
   "id": "seven-publisher",
   "metadata": {},
   "outputs": [
    {
     "data": {
      "text/html": [
       "<div>\n",
       "<style scoped>\n",
       "    .dataframe tbody tr th:only-of-type {\n",
       "        vertical-align: middle;\n",
       "    }\n",
       "\n",
       "    .dataframe tbody tr th {\n",
       "        vertical-align: top;\n",
       "    }\n",
       "\n",
       "    .dataframe thead th {\n",
       "        text-align: right;\n",
       "    }\n",
       "</style>\n",
       "<table border=\"1\" class=\"dataframe\">\n",
       "  <thead>\n",
       "    <tr style=\"text-align: right;\">\n",
       "      <th></th>\n",
       "      <th>user_id</th>\n",
       "      <th>category</th>\n",
       "      <th>category_id</th>\n",
       "      <th>implicit_rating</th>\n",
       "      <th>catID</th>\n",
       "      <th>category_rank</th>\n",
       "    </tr>\n",
       "  </thead>\n",
       "  <tbody>\n",
       "    <tr>\n",
       "      <th>0</th>\n",
       "      <td>128968633</td>\n",
       "      <td>2232732093077520756_construction.tools.light</td>\n",
       "      <td>2232732093077520756</td>\n",
       "      <td>3</td>\n",
       "      <td>668</td>\n",
       "      <td>1</td>\n",
       "    </tr>\n",
       "    <tr>\n",
       "      <th>10</th>\n",
       "      <td>128968633</td>\n",
       "      <td>2053013552351936731_appliances.environment.air...</td>\n",
       "      <td>2053013552351936731</td>\n",
       "      <td>2</td>\n",
       "      <td>16</td>\n",
       "      <td>2</td>\n",
       "    </tr>\n",
       "    <tr>\n",
       "      <th>20</th>\n",
       "      <td>145611266</td>\n",
       "      <td>2053013552259662037_computers.components.power...</td>\n",
       "      <td>2053013552259662037</td>\n",
       "      <td>2</td>\n",
       "      <td>13</td>\n",
       "      <td>1</td>\n",
       "    </tr>\n",
       "    <tr>\n",
       "      <th>30</th>\n",
       "      <td>221480173</td>\n",
       "      <td>2232732093077520756_construction.tools.light</td>\n",
       "      <td>2232732093077520756</td>\n",
       "      <td>2</td>\n",
       "      <td>668</td>\n",
       "      <td>1</td>\n",
       "    </tr>\n",
       "    <tr>\n",
       "      <th>40</th>\n",
       "      <td>221480173</td>\n",
       "      <td>2053013553140465927_kids.toys</td>\n",
       "      <td>2053013553140465927</td>\n",
       "      <td>1</td>\n",
       "      <td>39</td>\n",
       "      <td>2</td>\n",
       "    </tr>\n",
       "  </tbody>\n",
       "</table>\n",
       "</div>"
      ],
      "text/plain": [
       "      user_id                                           category  \\\n",
       "0   128968633       2232732093077520756_construction.tools.light   \n",
       "10  128968633  2053013552351936731_appliances.environment.air...   \n",
       "20  145611266  2053013552259662037_computers.components.power...   \n",
       "30  221480173       2232732093077520756_construction.tools.light   \n",
       "40  221480173                      2053013553140465927_kids.toys   \n",
       "\n",
       "            category_id  implicit_rating  catID  category_rank  \n",
       "0   2232732093077520756                3    668              1  \n",
       "10  2053013552351936731                2     16              2  \n",
       "20  2053013552259662037                2     13              1  \n",
       "30  2232732093077520756                2    668              1  \n",
       "40  2053013553140465927                1     39              2  "
      ]
     },
     "execution_count": 37,
     "metadata": {},
     "output_type": "execute_result"
    }
   ],
   "source": [
    "actual = pd.merge(test_df,lstm_users, on=[\"user_id\"], how='inner')\n",
    "actual = actual.drop_duplicates(subset=['user_id', 'category', 'category_id', 'implicit_rating', 'catID'])\n",
    "actual = actual.sort_values(['user_id','category_rank'],ascending=True)\n",
    "actual.head()"
   ]
  },
  {
   "cell_type": "code",
   "execution_count": 38,
   "id": "imperial-beauty",
   "metadata": {},
   "outputs": [
    {
     "data": {
      "text/plain": [
       "user_id            535748\n",
       "category              915\n",
       "category_id           915\n",
       "implicit_rating         5\n",
       "catID                 915\n",
       "category_rank           6\n",
       "dtype: int64"
      ]
     },
     "execution_count": 38,
     "metadata": {},
     "output_type": "execute_result"
    }
   ],
   "source": [
    "actual.nunique()"
   ]
  },
  {
   "cell_type": "code",
   "execution_count": 39,
   "id": "deluxe-front",
   "metadata": {},
   "outputs": [
    {
     "data": {
      "text/plain": [
       "(768462, 6)"
      ]
     },
     "execution_count": 39,
     "metadata": {},
     "output_type": "execute_result"
    }
   ],
   "source": [
    "actual.shape"
   ]
  },
  {
   "cell_type": "code",
   "execution_count": 40,
   "id": "broke-corrections",
   "metadata": {},
   "outputs": [
    {
     "name": "stdout",
     "output_type": "stream",
     "text": [
      "MAP@10: 0.38102643\n",
      "MAP@5: 0.36714771\n"
     ]
    }
   ],
   "source": [
    "#Transforming categories for both recs and actual categories to lists for each user\n",
    "predicted = LSTM_recs.groupby('user_id')['category'].apply(list)\n",
    "actual = actual.groupby('user_id')['category'].apply(list)\n",
    "\n",
    "# Obtaining mapk value from LSTM recs vs actual test dataset comparrison \n",
    "mapk_score = metrics.mapk(actual, predicted, 10)\n",
    "print('MAP@10:','{:.8f}'.format(mapk_score))\n",
    "\n",
    "mapk_score = metrics.mapk(actual, predicted, 5)\n",
    "print('MAP@5:','{:.8f}'.format(mapk_score))"
   ]
  },
  {
   "cell_type": "code",
   "execution_count": 41,
   "id": "forward-strand",
   "metadata": {},
   "outputs": [
    {
     "data": {
      "text/plain": [
       "(5357479, 6)"
      ]
     },
     "execution_count": 41,
     "metadata": {},
     "output_type": "execute_result"
    }
   ],
   "source": [
    "LSTM_recs = pd.read_csv('s3://myaws-capstone-bucket/data/modeling/output/LSTM_param2.csv')\n",
    "LSTM_recs = LSTM_recs.sort_values(['user_id','Category_Rank'],ascending=True)\n",
    "LSTM_recs.shape"
   ]
  },
  {
   "cell_type": "code",
   "execution_count": 42,
   "id": "incorporate-angle",
   "metadata": {},
   "outputs": [
    {
     "data": {
      "text/plain": [
       "(768462, 6)"
      ]
     },
     "execution_count": 42,
     "metadata": {},
     "output_type": "execute_result"
    }
   ],
   "source": [
    "# Grabbing ids to use for test_df to verify performance of LSTM model\n",
    "lstm_users = LSTM_recs[['user_id']]\n",
    "lstm_users.drop_duplicates(subset=['user_id'])\n",
    "\n",
    "actual = pd.merge(test_df,lstm_users, on=[\"user_id\"], how='inner')\n",
    "actual = actual.drop_duplicates(subset=['user_id', 'category', 'category_id', 'implicit_rating', 'catID'])\n",
    "actual = actual.sort_values(['user_id','category_rank'],ascending=True)\n",
    "actual.shape"
   ]
  },
  {
   "cell_type": "code",
   "execution_count": 43,
   "id": "correct-taste",
   "metadata": {},
   "outputs": [
    {
     "name": "stdout",
     "output_type": "stream",
     "text": [
      "MAP@10: 0.36536315\n",
      "MAP@5: 0.35434608\n"
     ]
    }
   ],
   "source": [
    "#Transforming categories for both recs and actual categories to lists for each user\n",
    "predicted = LSTM_recs.groupby('user_id')['category'].apply(list)\n",
    "actual = actual.groupby('user_id')['category'].apply(list)\n",
    "\n",
    "# Obtaining mapk value from LSTM recs vs actual test dataset comparrison \n",
    "mapk_score = metrics.mapk(actual, predicted, 10)\n",
    "print('MAP@10:','{:.8f}'.format(mapk_score))\n",
    "\n",
    "mapk_score = metrics.mapk(actual, predicted, 5)\n",
    "print('MAP@5:','{:.8f}'.format(mapk_score))"
   ]
  },
  {
   "cell_type": "code",
   "execution_count": 44,
   "id": "loving-attention",
   "metadata": {},
   "outputs": [
    {
     "data": {
      "text/plain": [
       "(5357480, 6)"
      ]
     },
     "execution_count": 44,
     "metadata": {},
     "output_type": "execute_result"
    }
   ],
   "source": [
    "LSTM_recs = pd.read_csv('s3://myaws-capstone-bucket/data/modeling/output/LSTM_param3.csv')\n",
    "LSTM_recs = LSTM_recs.sort_values(['user_id','Category_Rank'],ascending=True)\n",
    "LSTM_recs.shape"
   ]
  },
  {
   "cell_type": "code",
   "execution_count": 45,
   "id": "passive-budget",
   "metadata": {},
   "outputs": [
    {
     "data": {
      "text/plain": [
       "(768462, 6)"
      ]
     },
     "execution_count": 45,
     "metadata": {},
     "output_type": "execute_result"
    }
   ],
   "source": [
    "# Grabbing ids to use for test_df to verify performance of LSTM model\n",
    "lstm_users = LSTM_recs[['user_id']]\n",
    "lstm_users.drop_duplicates(subset=['user_id'])\n",
    "\n",
    "actual = pd.merge(test_df,lstm_users, on=[\"user_id\"], how='inner')\n",
    "actual = actual.drop_duplicates(subset=['user_id', 'category', 'category_id', 'implicit_rating', 'catID'])\n",
    "actual = actual.sort_values(['user_id','category_rank'],ascending=True)\n",
    "actual.shape"
   ]
  },
  {
   "cell_type": "code",
   "execution_count": 46,
   "id": "fleet-curtis",
   "metadata": {},
   "outputs": [
    {
     "name": "stdout",
     "output_type": "stream",
     "text": [
      "MAP@10: 0.41688882\n",
      "MAP@5: 0.40584938\n"
     ]
    }
   ],
   "source": [
    "#Transforming categories for both recs and actual categories to lists for each user\n",
    "predicted = LSTM_recs.groupby('user_id')['category'].apply(list)\n",
    "actual = actual.groupby('user_id')['category'].apply(list)\n",
    "\n",
    "# Obtaining mapk value from LSTM recs vs actual test dataset comparrison \n",
    "mapk_score = metrics.mapk(actual, predicted, 10)\n",
    "print('MAP@10:','{:.8f}'.format(mapk_score))\n",
    "\n",
    "mapk_score = metrics.mapk(actual, predicted, 5)\n",
    "print('MAP@5:','{:.8f}'.format(mapk_score))"
   ]
  },
  {
   "cell_type": "markdown",
   "id": "effective-queens",
   "metadata": {},
   "source": [
    "#### Testing CNN Model"
   ]
  },
  {
   "cell_type": "code",
   "execution_count": 47,
   "id": "downtown-invalid",
   "metadata": {},
   "outputs": [
    {
     "data": {
      "text/html": [
       "<div>\n",
       "<style scoped>\n",
       "    .dataframe tbody tr th:only-of-type {\n",
       "        vertical-align: middle;\n",
       "    }\n",
       "\n",
       "    .dataframe tbody tr th {\n",
       "        vertical-align: top;\n",
       "    }\n",
       "\n",
       "    .dataframe thead th {\n",
       "        text-align: right;\n",
       "    }\n",
       "</style>\n",
       "<table border=\"1\" class=\"dataframe\">\n",
       "  <thead>\n",
       "    <tr style=\"text-align: right;\">\n",
       "      <th></th>\n",
       "      <th>userID</th>\n",
       "      <th>Category_Rank</th>\n",
       "      <th>catID</th>\n",
       "      <th>category</th>\n",
       "      <th>category_id</th>\n",
       "      <th>user_id</th>\n",
       "    </tr>\n",
       "  </thead>\n",
       "  <tbody>\n",
       "    <tr>\n",
       "      <th>0</th>\n",
       "      <td>1</td>\n",
       "      <td>0</td>\n",
       "      <td>789</td>\n",
       "      <td>2232732108613223108_sport.trainer</td>\n",
       "      <td>2232732108613223108</td>\n",
       "      <td>128968633</td>\n",
       "    </tr>\n",
       "    <tr>\n",
       "      <th>1</th>\n",
       "      <td>1</td>\n",
       "      <td>1</td>\n",
       "      <td>669</td>\n",
       "      <td>2232732093077520756_construction.tools.light</td>\n",
       "      <td>2232732093077520756</td>\n",
       "      <td>128968633</td>\n",
       "    </tr>\n",
       "    <tr>\n",
       "      <th>2</th>\n",
       "      <td>1</td>\n",
       "      <td>2</td>\n",
       "      <td>726</td>\n",
       "      <td>2232732101063475749_appliances.environment.vacuum</td>\n",
       "      <td>2232732101063475749</td>\n",
       "      <td>128968633</td>\n",
       "    </tr>\n",
       "    <tr>\n",
       "      <th>3</th>\n",
       "      <td>1</td>\n",
       "      <td>5</td>\n",
       "      <td>715</td>\n",
       "      <td>2232732099754852875_appliances.personal.massager</td>\n",
       "      <td>2232732099754852875</td>\n",
       "      <td>128968633</td>\n",
       "    </tr>\n",
       "    <tr>\n",
       "      <th>4</th>\n",
       "      <td>1</td>\n",
       "      <td>3</td>\n",
       "      <td>606</td>\n",
       "      <td>2232732079706079299_sport.bicycle</td>\n",
       "      <td>2232732079706079299</td>\n",
       "      <td>128968633</td>\n",
       "    </tr>\n",
       "  </tbody>\n",
       "</table>\n",
       "</div>"
      ],
      "text/plain": [
       "   userID  Category_Rank  catID  \\\n",
       "0       1              0    789   \n",
       "1       1              1    669   \n",
       "2       1              2    726   \n",
       "3       1              5    715   \n",
       "4       1              3    606   \n",
       "\n",
       "                                            category          category_id  \\\n",
       "0                  2232732108613223108_sport.trainer  2232732108613223108   \n",
       "1       2232732093077520756_construction.tools.light  2232732093077520756   \n",
       "2  2232732101063475749_appliances.environment.vacuum  2232732101063475749   \n",
       "3   2232732099754852875_appliances.personal.massager  2232732099754852875   \n",
       "4                  2232732079706079299_sport.bicycle  2232732079706079299   \n",
       "\n",
       "     user_id  \n",
       "0  128968633  \n",
       "1  128968633  \n",
       "2  128968633  \n",
       "3  128968633  \n",
       "4  128968633  "
      ]
     },
     "execution_count": 47,
     "metadata": {},
     "output_type": "execute_result"
    }
   ],
   "source": [
    "CNN_recs = pd.read_csv('s3://myaws-capstone-bucket/data/modeling/output/CNN_param1.csv')\n",
    "CNN_recs.head()"
   ]
  },
  {
   "cell_type": "code",
   "execution_count": 48,
   "id": "continent-strand",
   "metadata": {},
   "outputs": [
    {
     "data": {
      "text/plain": [
       "userID           535748\n",
       "Category_Rank        10\n",
       "catID               851\n",
       "category            851\n",
       "category_id         851\n",
       "user_id          535748\n",
       "dtype: int64"
      ]
     },
     "execution_count": 48,
     "metadata": {},
     "output_type": "execute_result"
    }
   ],
   "source": [
    "CNN_recs.nunique()"
   ]
  },
  {
   "cell_type": "code",
   "execution_count": 49,
   "id": "asian-endorsement",
   "metadata": {},
   "outputs": [
    {
     "data": {
      "text/html": [
       "<div>\n",
       "<style scoped>\n",
       "    .dataframe tbody tr th:only-of-type {\n",
       "        vertical-align: middle;\n",
       "    }\n",
       "\n",
       "    .dataframe tbody tr th {\n",
       "        vertical-align: top;\n",
       "    }\n",
       "\n",
       "    .dataframe thead th {\n",
       "        text-align: right;\n",
       "    }\n",
       "</style>\n",
       "<table border=\"1\" class=\"dataframe\">\n",
       "  <thead>\n",
       "    <tr style=\"text-align: right;\">\n",
       "      <th></th>\n",
       "      <th>userID</th>\n",
       "      <th>Category_Rank</th>\n",
       "      <th>catID</th>\n",
       "      <th>category</th>\n",
       "      <th>category_id</th>\n",
       "      <th>user_id</th>\n",
       "    </tr>\n",
       "  </thead>\n",
       "  <tbody>\n",
       "    <tr>\n",
       "      <th>0</th>\n",
       "      <td>1</td>\n",
       "      <td>0</td>\n",
       "      <td>789</td>\n",
       "      <td>2232732108613223108_sport.trainer</td>\n",
       "      <td>2232732108613223108</td>\n",
       "      <td>128968633</td>\n",
       "    </tr>\n",
       "    <tr>\n",
       "      <th>1</th>\n",
       "      <td>1</td>\n",
       "      <td>1</td>\n",
       "      <td>669</td>\n",
       "      <td>2232732093077520756_construction.tools.light</td>\n",
       "      <td>2232732093077520756</td>\n",
       "      <td>128968633</td>\n",
       "    </tr>\n",
       "    <tr>\n",
       "      <th>2</th>\n",
       "      <td>1</td>\n",
       "      <td>2</td>\n",
       "      <td>726</td>\n",
       "      <td>2232732101063475749_appliances.environment.vacuum</td>\n",
       "      <td>2232732101063475749</td>\n",
       "      <td>128968633</td>\n",
       "    </tr>\n",
       "    <tr>\n",
       "      <th>4</th>\n",
       "      <td>1</td>\n",
       "      <td>3</td>\n",
       "      <td>606</td>\n",
       "      <td>2232732079706079299_sport.bicycle</td>\n",
       "      <td>2232732079706079299</td>\n",
       "      <td>128968633</td>\n",
       "    </tr>\n",
       "    <tr>\n",
       "      <th>9</th>\n",
       "      <td>1</td>\n",
       "      <td>4</td>\n",
       "      <td>155</td>\n",
       "      <td>2053013557452210699_electronics.clocks</td>\n",
       "      <td>2053013557452210699</td>\n",
       "      <td>128968633</td>\n",
       "    </tr>\n",
       "  </tbody>\n",
       "</table>\n",
       "</div>"
      ],
      "text/plain": [
       "   userID  Category_Rank  catID  \\\n",
       "0       1              0    789   \n",
       "1       1              1    669   \n",
       "2       1              2    726   \n",
       "4       1              3    606   \n",
       "9       1              4    155   \n",
       "\n",
       "                                            category          category_id  \\\n",
       "0                  2232732108613223108_sport.trainer  2232732108613223108   \n",
       "1       2232732093077520756_construction.tools.light  2232732093077520756   \n",
       "2  2232732101063475749_appliances.environment.vacuum  2232732101063475749   \n",
       "4                  2232732079706079299_sport.bicycle  2232732079706079299   \n",
       "9             2053013557452210699_electronics.clocks  2053013557452210699   \n",
       "\n",
       "     user_id  \n",
       "0  128968633  \n",
       "1  128968633  \n",
       "2  128968633  \n",
       "4  128968633  \n",
       "9  128968633  "
      ]
     },
     "execution_count": 49,
     "metadata": {},
     "output_type": "execute_result"
    }
   ],
   "source": [
    "CNN_recs = CNN_recs.sort_values(['user_id','Category_Rank'],ascending=True)\n",
    "CNN_recs.head()"
   ]
  },
  {
   "cell_type": "code",
   "execution_count": 50,
   "id": "empirical-zambia",
   "metadata": {},
   "outputs": [
    {
     "data": {
      "text/plain": [
       "(5357480, 6)"
      ]
     },
     "execution_count": 50,
     "metadata": {},
     "output_type": "execute_result"
    }
   ],
   "source": [
    "CNN_recs.shape"
   ]
  },
  {
   "cell_type": "code",
   "execution_count": 51,
   "id": "distant-class",
   "metadata": {},
   "outputs": [
    {
     "data": {
      "text/plain": [
       "user_id    535748\n",
       "dtype: int64"
      ]
     },
     "execution_count": 51,
     "metadata": {},
     "output_type": "execute_result"
    }
   ],
   "source": [
    "# Grabbing ids to use for test_df to verify performance of cnn model\n",
    "cnn_users = CNN_recs[['user_id']]\n",
    "cnn_users.drop_duplicates(subset=['user_id'])\n",
    "cnn_users.nunique()"
   ]
  },
  {
   "cell_type": "code",
   "execution_count": 52,
   "id": "coral-detroit",
   "metadata": {},
   "outputs": [
    {
     "data": {
      "text/html": [
       "<div>\n",
       "<style scoped>\n",
       "    .dataframe tbody tr th:only-of-type {\n",
       "        vertical-align: middle;\n",
       "    }\n",
       "\n",
       "    .dataframe tbody tr th {\n",
       "        vertical-align: top;\n",
       "    }\n",
       "\n",
       "    .dataframe thead th {\n",
       "        text-align: right;\n",
       "    }\n",
       "</style>\n",
       "<table border=\"1\" class=\"dataframe\">\n",
       "  <thead>\n",
       "    <tr style=\"text-align: right;\">\n",
       "      <th></th>\n",
       "      <th>user_id</th>\n",
       "      <th>category</th>\n",
       "      <th>category_id</th>\n",
       "      <th>implicit_rating</th>\n",
       "      <th>catID</th>\n",
       "      <th>category_rank</th>\n",
       "    </tr>\n",
       "  </thead>\n",
       "  <tbody>\n",
       "    <tr>\n",
       "      <th>0</th>\n",
       "      <td>128968633</td>\n",
       "      <td>2232732093077520756_construction.tools.light</td>\n",
       "      <td>2232732093077520756</td>\n",
       "      <td>3</td>\n",
       "      <td>668</td>\n",
       "      <td>1</td>\n",
       "    </tr>\n",
       "    <tr>\n",
       "      <th>10</th>\n",
       "      <td>128968633</td>\n",
       "      <td>2053013552351936731_appliances.environment.air...</td>\n",
       "      <td>2053013552351936731</td>\n",
       "      <td>2</td>\n",
       "      <td>16</td>\n",
       "      <td>2</td>\n",
       "    </tr>\n",
       "    <tr>\n",
       "      <th>20</th>\n",
       "      <td>145611266</td>\n",
       "      <td>2053013552259662037_computers.components.power...</td>\n",
       "      <td>2053013552259662037</td>\n",
       "      <td>2</td>\n",
       "      <td>13</td>\n",
       "      <td>1</td>\n",
       "    </tr>\n",
       "    <tr>\n",
       "      <th>30</th>\n",
       "      <td>221480173</td>\n",
       "      <td>2232732093077520756_construction.tools.light</td>\n",
       "      <td>2232732093077520756</td>\n",
       "      <td>2</td>\n",
       "      <td>668</td>\n",
       "      <td>1</td>\n",
       "    </tr>\n",
       "    <tr>\n",
       "      <th>40</th>\n",
       "      <td>221480173</td>\n",
       "      <td>2053013553140465927_kids.toys</td>\n",
       "      <td>2053013553140465927</td>\n",
       "      <td>1</td>\n",
       "      <td>39</td>\n",
       "      <td>2</td>\n",
       "    </tr>\n",
       "  </tbody>\n",
       "</table>\n",
       "</div>"
      ],
      "text/plain": [
       "      user_id                                           category  \\\n",
       "0   128968633       2232732093077520756_construction.tools.light   \n",
       "10  128968633  2053013552351936731_appliances.environment.air...   \n",
       "20  145611266  2053013552259662037_computers.components.power...   \n",
       "30  221480173       2232732093077520756_construction.tools.light   \n",
       "40  221480173                      2053013553140465927_kids.toys   \n",
       "\n",
       "            category_id  implicit_rating  catID  category_rank  \n",
       "0   2232732093077520756                3    668              1  \n",
       "10  2053013552351936731                2     16              2  \n",
       "20  2053013552259662037                2     13              1  \n",
       "30  2232732093077520756                2    668              1  \n",
       "40  2053013553140465927                1     39              2  "
      ]
     },
     "execution_count": 52,
     "metadata": {},
     "output_type": "execute_result"
    }
   ],
   "source": [
    "actual = pd.merge(test_df,cnn_users, on=[\"user_id\"], how='inner')\n",
    "actual = actual.drop_duplicates(subset=['user_id', 'category', 'category_id', 'implicit_rating', 'catID'])\n",
    "actual = actual.sort_values(['user_id','category_rank'],ascending=True)\n",
    "actual.head()"
   ]
  },
  {
   "cell_type": "code",
   "execution_count": 53,
   "id": "racial-excerpt",
   "metadata": {},
   "outputs": [
    {
     "data": {
      "text/plain": [
       "user_id            535748\n",
       "category              915\n",
       "category_id           915\n",
       "implicit_rating         5\n",
       "catID                 915\n",
       "category_rank           6\n",
       "dtype: int64"
      ]
     },
     "execution_count": 53,
     "metadata": {},
     "output_type": "execute_result"
    }
   ],
   "source": [
    "actual.nunique()"
   ]
  },
  {
   "cell_type": "code",
   "execution_count": 54,
   "id": "incorporated-puzzle",
   "metadata": {},
   "outputs": [
    {
     "data": {
      "text/plain": [
       "(768462, 6)"
      ]
     },
     "execution_count": 54,
     "metadata": {},
     "output_type": "execute_result"
    }
   ],
   "source": [
    "actual.shape"
   ]
  },
  {
   "cell_type": "code",
   "execution_count": 55,
   "id": "specialized-disney",
   "metadata": {},
   "outputs": [
    {
     "name": "stdout",
     "output_type": "stream",
     "text": [
      "MAP@10: 0.47194730\n",
      "MAP@5: 0.46082251\n"
     ]
    }
   ],
   "source": [
    "#Transforming categories for both recs and actual categories to lists for each user\n",
    "predicted = CNN_recs.groupby('user_id')['category'].apply(list)\n",
    "actual = actual.groupby('user_id')['category'].apply(list)\n",
    "\n",
    "# Obtaining mapk value from CNN recs vs actual test dataset comparrison \n",
    "mapk_score = metrics.mapk(actual, predicted, 10) \n",
    "print('MAP@10:','{:.8f}'.format(mapk_score))\n",
    "\n",
    "mapk_score = metrics.mapk(actual, predicted, 5) \n",
    "print('MAP@5:','{:.8f}'.format(mapk_score))"
   ]
  },
  {
   "cell_type": "code",
   "execution_count": 56,
   "id": "responsible-revelation",
   "metadata": {},
   "outputs": [
    {
     "data": {
      "text/plain": [
       "(5357480, 6)"
      ]
     },
     "execution_count": 56,
     "metadata": {},
     "output_type": "execute_result"
    }
   ],
   "source": [
    "CNN_recs = pd.read_csv('s3://myaws-capstone-bucket/data/modeling/output/CNN_param2.csv')\n",
    "CNN_recs = CNN_recs.sort_values(['user_id','Category_Rank'],ascending=True)\n",
    "CNN_recs.shape"
   ]
  },
  {
   "cell_type": "code",
   "execution_count": 57,
   "id": "synthetic-senegal",
   "metadata": {},
   "outputs": [
    {
     "data": {
      "text/plain": [
       "(768462, 6)"
      ]
     },
     "execution_count": 57,
     "metadata": {},
     "output_type": "execute_result"
    }
   ],
   "source": [
    "# Grabbing ids to use for test_df to verify performance of cnn model\n",
    "cnn_users = CNN_recs[['user_id']]\n",
    "cnn_users.drop_duplicates(subset=['user_id'])\n",
    "\n",
    "actual = pd.merge(test_df,cnn_users, on=[\"user_id\"], how='inner')\n",
    "actual = actual.drop_duplicates(subset=['user_id', 'category', 'category_id', 'implicit_rating', 'catID'])\n",
    "actual = actual.sort_values(['user_id','category_rank'],ascending=True)\n",
    "actual.shape"
   ]
  },
  {
   "cell_type": "code",
   "execution_count": 58,
   "id": "front-blink",
   "metadata": {},
   "outputs": [
    {
     "name": "stdout",
     "output_type": "stream",
     "text": [
      "MAP@10: 0.45011793\n",
      "MAP@5: 0.43937514\n"
     ]
    }
   ],
   "source": [
    "#Transforming categories for both recs and actual categories to lists for each user\n",
    "predicted = CNN_recs.groupby('user_id')['category'].apply(list)\n",
    "actual = actual.groupby('user_id')['category'].apply(list)\n",
    "\n",
    "# Obtaining mapk value from CNN recs vs actual test dataset comparrison \n",
    "mapk_score = metrics.mapk(actual, predicted, 10) \n",
    "print('MAP@10:','{:.8f}'.format(mapk_score))\n",
    "\n",
    "mapk_score = metrics.mapk(actual, predicted, 5) \n",
    "print('MAP@5:','{:.8f}'.format(mapk_score))"
   ]
  },
  {
   "cell_type": "code",
   "execution_count": 59,
   "id": "interim-neighbor",
   "metadata": {},
   "outputs": [
    {
     "data": {
      "text/plain": [
       "(5357480, 6)"
      ]
     },
     "execution_count": 59,
     "metadata": {},
     "output_type": "execute_result"
    }
   ],
   "source": [
    "CNN_recs = pd.read_csv('s3://myaws-capstone-bucket/data/modeling/output/CNN_param3.csv')\n",
    "CNN_recs = CNN_recs.sort_values(['user_id','Category_Rank'],ascending=True)\n",
    "CNN_recs.shape"
   ]
  },
  {
   "cell_type": "code",
   "execution_count": 60,
   "id": "dutch-steps",
   "metadata": {},
   "outputs": [
    {
     "data": {
      "text/plain": [
       "(768462, 6)"
      ]
     },
     "execution_count": 60,
     "metadata": {},
     "output_type": "execute_result"
    }
   ],
   "source": [
    "# Grabbing ids to use for test_df to verify performance of cnn model\n",
    "cnn_users = CNN_recs[['user_id']]\n",
    "cnn_users.drop_duplicates(subset=['user_id'])\n",
    "\n",
    "actual = pd.merge(test_df,cnn_users, on=[\"user_id\"], how='inner')\n",
    "actual = actual.drop_duplicates(subset=['user_id', 'category', 'category_id', 'implicit_rating', 'catID'])\n",
    "actual = actual.sort_values(['user_id','category_rank'],ascending=True)\n",
    "actual.shape"
   ]
  },
  {
   "cell_type": "code",
   "execution_count": 61,
   "id": "forbidden-square",
   "metadata": {},
   "outputs": [
    {
     "name": "stdout",
     "output_type": "stream",
     "text": [
      "MAP@10: 0.46774429\n",
      "MAP@5: 0.45731451\n"
     ]
    }
   ],
   "source": [
    "#Transforming categories for both recs and actual categories to lists for each user\n",
    "predicted = CNN_recs.groupby('user_id')['category'].apply(list)\n",
    "actual = actual.groupby('user_id')['category'].apply(list)\n",
    "\n",
    "# Obtaining mapk value from CNN recs vs actual test dataset comparrison \n",
    "mapk_score = metrics.mapk(actual, predicted, 10) \n",
    "print('MAP@10:','{:.8f}'.format(mapk_score))\n",
    "\n",
    "mapk_score = metrics.mapk(actual, predicted, 5) \n",
    "print('MAP@5:','{:.8f}'.format(mapk_score))"
   ]
  },
  {
   "cell_type": "markdown",
   "id": "peaceful-guidance",
   "metadata": {},
   "source": [
    "#### Testing RankFM model"
   ]
  },
  {
   "cell_type": "code",
   "execution_count": 62,
   "id": "recorded-street",
   "metadata": {},
   "outputs": [
    {
     "data": {
      "text/html": [
       "<div>\n",
       "<style scoped>\n",
       "    .dataframe tbody tr th:only-of-type {\n",
       "        vertical-align: middle;\n",
       "    }\n",
       "\n",
       "    .dataframe tbody tr th {\n",
       "        vertical-align: top;\n",
       "    }\n",
       "\n",
       "    .dataframe thead th {\n",
       "        text-align: right;\n",
       "    }\n",
       "</style>\n",
       "<table border=\"1\" class=\"dataframe\">\n",
       "  <thead>\n",
       "    <tr style=\"text-align: right;\">\n",
       "      <th></th>\n",
       "      <th>user_id</th>\n",
       "      <th>predicted_Rank</th>\n",
       "      <th>catID</th>\n",
       "    </tr>\n",
       "  </thead>\n",
       "  <tbody>\n",
       "    <tr>\n",
       "      <th>0</th>\n",
       "      <td>128968633</td>\n",
       "      <td>0</td>\n",
       "      <td>668</td>\n",
       "    </tr>\n",
       "    <tr>\n",
       "      <th>1</th>\n",
       "      <td>145611266</td>\n",
       "      <td>0</td>\n",
       "      <td>668</td>\n",
       "    </tr>\n",
       "    <tr>\n",
       "      <th>2</th>\n",
       "      <td>200985178</td>\n",
       "      <td>0</td>\n",
       "      <td>107</td>\n",
       "    </tr>\n",
       "    <tr>\n",
       "      <th>3</th>\n",
       "      <td>221480173</td>\n",
       "      <td>0</td>\n",
       "      <td>107</td>\n",
       "    </tr>\n",
       "    <tr>\n",
       "      <th>4</th>\n",
       "      <td>237973968</td>\n",
       "      <td>0</td>\n",
       "      <td>668</td>\n",
       "    </tr>\n",
       "  </tbody>\n",
       "</table>\n",
       "</div>"
      ],
      "text/plain": [
       "     user_id  predicted_Rank  catID\n",
       "0  128968633               0    668\n",
       "1  145611266               0    668\n",
       "2  200985178               0    107\n",
       "3  221480173               0    107\n",
       "4  237973968               0    668"
      ]
     },
     "execution_count": 62,
     "metadata": {},
     "output_type": "execute_result"
    }
   ],
   "source": [
    "RankFM_recs = pd.read_csv('s3://myaws-capstone-bucket/data/modeling/output/rankFM_T_category.csv')\n",
    "RankFM_recs.columns = ['user_id','predicted_Rank','catID']\n",
    "RankFM_recs.head()"
   ]
  },
  {
   "cell_type": "code",
   "execution_count": 63,
   "id": "adaptive-dispatch",
   "metadata": {},
   "outputs": [
    {
     "data": {
      "text/html": [
       "<div>\n",
       "<style scoped>\n",
       "    .dataframe tbody tr th:only-of-type {\n",
       "        vertical-align: middle;\n",
       "    }\n",
       "\n",
       "    .dataframe tbody tr th {\n",
       "        vertical-align: top;\n",
       "    }\n",
       "\n",
       "    .dataframe thead th {\n",
       "        text-align: right;\n",
       "    }\n",
       "</style>\n",
       "<table border=\"1\" class=\"dataframe\">\n",
       "  <thead>\n",
       "    <tr style=\"text-align: right;\">\n",
       "      <th></th>\n",
       "      <th>user_id</th>\n",
       "      <th>predicted_Rank</th>\n",
       "      <th>catID</th>\n",
       "    </tr>\n",
       "  </thead>\n",
       "  <tbody>\n",
       "    <tr>\n",
       "      <th>0</th>\n",
       "      <td>128968633</td>\n",
       "      <td>0</td>\n",
       "      <td>668</td>\n",
       "    </tr>\n",
       "    <tr>\n",
       "      <th>473469</th>\n",
       "      <td>128968633</td>\n",
       "      <td>1</td>\n",
       "      <td>107</td>\n",
       "    </tr>\n",
       "    <tr>\n",
       "      <th>946938</th>\n",
       "      <td>128968633</td>\n",
       "      <td>2</td>\n",
       "      <td>605</td>\n",
       "    </tr>\n",
       "    <tr>\n",
       "      <th>1420407</th>\n",
       "      <td>128968633</td>\n",
       "      <td>3</td>\n",
       "      <td>714</td>\n",
       "    </tr>\n",
       "    <tr>\n",
       "      <th>1893876</th>\n",
       "      <td>128968633</td>\n",
       "      <td>4</td>\n",
       "      <td>84</td>\n",
       "    </tr>\n",
       "  </tbody>\n",
       "</table>\n",
       "</div>"
      ],
      "text/plain": [
       "           user_id  predicted_Rank  catID\n",
       "0        128968633               0    668\n",
       "473469   128968633               1    107\n",
       "946938   128968633               2    605\n",
       "1420407  128968633               3    714\n",
       "1893876  128968633               4     84"
      ]
     },
     "execution_count": 63,
     "metadata": {},
     "output_type": "execute_result"
    }
   ],
   "source": [
    "RankFM_recs = RankFM_recs.sort_values(['user_id','predicted_Rank'],ascending=True)\n",
    "RankFM_recs.head()"
   ]
  },
  {
   "cell_type": "code",
   "execution_count": 64,
   "id": "eastern-happening",
   "metadata": {},
   "outputs": [
    {
     "data": {
      "text/plain": [
       "user_id           473469\n",
       "predicted_Rank        10\n",
       "catID                474\n",
       "dtype: int64"
      ]
     },
     "execution_count": 64,
     "metadata": {},
     "output_type": "execute_result"
    }
   ],
   "source": [
    "RankFM_recs.nunique()"
   ]
  },
  {
   "cell_type": "code",
   "execution_count": 65,
   "id": "julian-alfred",
   "metadata": {},
   "outputs": [
    {
     "data": {
      "text/plain": [
       "(4734690, 3)"
      ]
     },
     "execution_count": 65,
     "metadata": {},
     "output_type": "execute_result"
    }
   ],
   "source": [
    "RankFM_recs.shape"
   ]
  },
  {
   "cell_type": "code",
   "execution_count": 66,
   "id": "persistent-bonus",
   "metadata": {},
   "outputs": [
    {
     "data": {
      "text/plain": [
       "user_id    473469\n",
       "dtype: int64"
      ]
     },
     "execution_count": 66,
     "metadata": {},
     "output_type": "execute_result"
    }
   ],
   "source": [
    "# Grabbing ids to use for test_df to verify performance of RankFM model\n",
    "RankFM_users = RankFM_recs[['user_id']]\n",
    "RankFM_users.drop_duplicates(subset=['user_id'])\n",
    "RankFM_users.nunique()"
   ]
  },
  {
   "cell_type": "code",
   "execution_count": 67,
   "id": "biological-behavior",
   "metadata": {},
   "outputs": [
    {
     "data": {
      "text/html": [
       "<div>\n",
       "<style scoped>\n",
       "    .dataframe tbody tr th:only-of-type {\n",
       "        vertical-align: middle;\n",
       "    }\n",
       "\n",
       "    .dataframe tbody tr th {\n",
       "        vertical-align: top;\n",
       "    }\n",
       "\n",
       "    .dataframe thead th {\n",
       "        text-align: right;\n",
       "    }\n",
       "</style>\n",
       "<table border=\"1\" class=\"dataframe\">\n",
       "  <thead>\n",
       "    <tr style=\"text-align: right;\">\n",
       "      <th></th>\n",
       "      <th>user_id</th>\n",
       "      <th>category</th>\n",
       "      <th>category_id</th>\n",
       "      <th>implicit_rating</th>\n",
       "      <th>catID</th>\n",
       "      <th>category_rank</th>\n",
       "    </tr>\n",
       "  </thead>\n",
       "  <tbody>\n",
       "    <tr>\n",
       "      <th>0</th>\n",
       "      <td>128968633</td>\n",
       "      <td>2232732093077520756_construction.tools.light</td>\n",
       "      <td>2232732093077520756</td>\n",
       "      <td>3</td>\n",
       "      <td>668</td>\n",
       "      <td>1</td>\n",
       "    </tr>\n",
       "    <tr>\n",
       "      <th>10</th>\n",
       "      <td>128968633</td>\n",
       "      <td>2053013552351936731_appliances.environment.air...</td>\n",
       "      <td>2053013552351936731</td>\n",
       "      <td>2</td>\n",
       "      <td>16</td>\n",
       "      <td>2</td>\n",
       "    </tr>\n",
       "    <tr>\n",
       "      <th>20</th>\n",
       "      <td>145611266</td>\n",
       "      <td>2053013552259662037_computers.components.power...</td>\n",
       "      <td>2053013552259662037</td>\n",
       "      <td>2</td>\n",
       "      <td>13</td>\n",
       "      <td>1</td>\n",
       "    </tr>\n",
       "    <tr>\n",
       "      <th>30</th>\n",
       "      <td>200985178</td>\n",
       "      <td>2053013555631882655_electronics.smartphone</td>\n",
       "      <td>2053013555631882655</td>\n",
       "      <td>1</td>\n",
       "      <td>107</td>\n",
       "      <td>1</td>\n",
       "    </tr>\n",
       "    <tr>\n",
       "      <th>40</th>\n",
       "      <td>221480173</td>\n",
       "      <td>2232732093077520756_construction.tools.light</td>\n",
       "      <td>2232732093077520756</td>\n",
       "      <td>2</td>\n",
       "      <td>668</td>\n",
       "      <td>1</td>\n",
       "    </tr>\n",
       "  </tbody>\n",
       "</table>\n",
       "</div>"
      ],
      "text/plain": [
       "      user_id                                           category  \\\n",
       "0   128968633       2232732093077520756_construction.tools.light   \n",
       "10  128968633  2053013552351936731_appliances.environment.air...   \n",
       "20  145611266  2053013552259662037_computers.components.power...   \n",
       "30  200985178         2053013555631882655_electronics.smartphone   \n",
       "40  221480173       2232732093077520756_construction.tools.light   \n",
       "\n",
       "            category_id  implicit_rating  catID  category_rank  \n",
       "0   2232732093077520756                3    668              1  \n",
       "10  2053013552351936731                2     16              2  \n",
       "20  2053013552259662037                2     13              1  \n",
       "30  2053013555631882655                1    107              1  \n",
       "40  2232732093077520756                2    668              1  "
      ]
     },
     "execution_count": 67,
     "metadata": {},
     "output_type": "execute_result"
    }
   ],
   "source": [
    "actual = pd.merge(test_df,RankFM_users, on=[\"user_id\"], how='inner')\n",
    "actual = actual.drop_duplicates(subset=['user_id', 'category', 'category_id', 'implicit_rating', 'catID'])\n",
    "actual = actual.sort_values(['user_id','category_rank'],ascending=True)\n",
    "actual.head()"
   ]
  },
  {
   "cell_type": "code",
   "execution_count": 68,
   "id": "expired-female",
   "metadata": {},
   "outputs": [
    {
     "data": {
      "text/plain": [
       "user_id            473469\n",
       "category              916\n",
       "category_id           916\n",
       "implicit_rating         5\n",
       "catID                 916\n",
       "category_rank           6\n",
       "dtype: int64"
      ]
     },
     "execution_count": 68,
     "metadata": {},
     "output_type": "execute_result"
    }
   ],
   "source": [
    "actual.nunique()"
   ]
  },
  {
   "cell_type": "code",
   "execution_count": 69,
   "id": "signal-boxing",
   "metadata": {},
   "outputs": [
    {
     "data": {
      "text/plain": [
       "(672115, 6)"
      ]
     },
     "execution_count": 69,
     "metadata": {},
     "output_type": "execute_result"
    }
   ],
   "source": [
    "actual.shape"
   ]
  },
  {
   "cell_type": "code",
   "execution_count": 70,
   "id": "damaged-march",
   "metadata": {},
   "outputs": [
    {
     "data": {
      "text/html": [
       "<div>\n",
       "<style scoped>\n",
       "    .dataframe tbody tr th:only-of-type {\n",
       "        vertical-align: middle;\n",
       "    }\n",
       "\n",
       "    .dataframe tbody tr th {\n",
       "        vertical-align: top;\n",
       "    }\n",
       "\n",
       "    .dataframe thead th {\n",
       "        text-align: right;\n",
       "    }\n",
       "</style>\n",
       "<table border=\"1\" class=\"dataframe\">\n",
       "  <thead>\n",
       "    <tr style=\"text-align: right;\">\n",
       "      <th></th>\n",
       "      <th>user_id</th>\n",
       "      <th>predicted_Rank</th>\n",
       "      <th>catID</th>\n",
       "    </tr>\n",
       "  </thead>\n",
       "  <tbody>\n",
       "    <tr>\n",
       "      <th>0</th>\n",
       "      <td>128968633</td>\n",
       "      <td>0</td>\n",
       "      <td>668</td>\n",
       "    </tr>\n",
       "    <tr>\n",
       "      <th>473469</th>\n",
       "      <td>128968633</td>\n",
       "      <td>1</td>\n",
       "      <td>107</td>\n",
       "    </tr>\n",
       "    <tr>\n",
       "      <th>946938</th>\n",
       "      <td>128968633</td>\n",
       "      <td>2</td>\n",
       "      <td>605</td>\n",
       "    </tr>\n",
       "    <tr>\n",
       "      <th>1420407</th>\n",
       "      <td>128968633</td>\n",
       "      <td>3</td>\n",
       "      <td>714</td>\n",
       "    </tr>\n",
       "    <tr>\n",
       "      <th>1893876</th>\n",
       "      <td>128968633</td>\n",
       "      <td>4</td>\n",
       "      <td>84</td>\n",
       "    </tr>\n",
       "  </tbody>\n",
       "</table>\n",
       "</div>"
      ],
      "text/plain": [
       "           user_id  predicted_Rank  catID\n",
       "0        128968633               0    668\n",
       "473469   128968633               1    107\n",
       "946938   128968633               2    605\n",
       "1420407  128968633               3    714\n",
       "1893876  128968633               4     84"
      ]
     },
     "execution_count": 70,
     "metadata": {},
     "output_type": "execute_result"
    }
   ],
   "source": [
    "RankFM_recs.head()"
   ]
  },
  {
   "cell_type": "code",
   "execution_count": 71,
   "id": "answering-third",
   "metadata": {},
   "outputs": [],
   "source": [
    "predicted = pd.merge(actual[['user_id']],RankFM_recs, on=[\"user_id\"], how='inner')"
   ]
  },
  {
   "cell_type": "code",
   "execution_count": 72,
   "id": "noble-walter",
   "metadata": {},
   "outputs": [
    {
     "data": {
      "text/html": [
       "<div>\n",
       "<style scoped>\n",
       "    .dataframe tbody tr th:only-of-type {\n",
       "        vertical-align: middle;\n",
       "    }\n",
       "\n",
       "    .dataframe tbody tr th {\n",
       "        vertical-align: top;\n",
       "    }\n",
       "\n",
       "    .dataframe thead th {\n",
       "        text-align: right;\n",
       "    }\n",
       "</style>\n",
       "<table border=\"1\" class=\"dataframe\">\n",
       "  <thead>\n",
       "    <tr style=\"text-align: right;\">\n",
       "      <th></th>\n",
       "      <th>user_id</th>\n",
       "      <th>predicted_Rank</th>\n",
       "      <th>catID</th>\n",
       "    </tr>\n",
       "  </thead>\n",
       "  <tbody>\n",
       "    <tr>\n",
       "      <th>0</th>\n",
       "      <td>128968633</td>\n",
       "      <td>0</td>\n",
       "      <td>668</td>\n",
       "    </tr>\n",
       "    <tr>\n",
       "      <th>1</th>\n",
       "      <td>128968633</td>\n",
       "      <td>1</td>\n",
       "      <td>107</td>\n",
       "    </tr>\n",
       "    <tr>\n",
       "      <th>2</th>\n",
       "      <td>128968633</td>\n",
       "      <td>2</td>\n",
       "      <td>605</td>\n",
       "    </tr>\n",
       "    <tr>\n",
       "      <th>3</th>\n",
       "      <td>128968633</td>\n",
       "      <td>3</td>\n",
       "      <td>714</td>\n",
       "    </tr>\n",
       "    <tr>\n",
       "      <th>4</th>\n",
       "      <td>128968633</td>\n",
       "      <td>4</td>\n",
       "      <td>84</td>\n",
       "    </tr>\n",
       "  </tbody>\n",
       "</table>\n",
       "</div>"
      ],
      "text/plain": [
       "     user_id  predicted_Rank  catID\n",
       "0  128968633               0    668\n",
       "1  128968633               1    107\n",
       "2  128968633               2    605\n",
       "3  128968633               3    714\n",
       "4  128968633               4     84"
      ]
     },
     "execution_count": 72,
     "metadata": {},
     "output_type": "execute_result"
    }
   ],
   "source": [
    "predicted = predicted.drop_duplicates(subset=['user_id', 'predicted_Rank', 'catID'])\n",
    "predicted = predicted.sort_values(['user_id','predicted_Rank'],ascending=True)\n",
    "predicted.head()"
   ]
  },
  {
   "cell_type": "code",
   "execution_count": 73,
   "id": "herbal-loading",
   "metadata": {},
   "outputs": [
    {
     "data": {
      "text/plain": [
       "user_id           473469\n",
       "predicted_Rank        10\n",
       "catID                474\n",
       "dtype: int64"
      ]
     },
     "execution_count": 73,
     "metadata": {},
     "output_type": "execute_result"
    }
   ],
   "source": [
    "predicted.nunique()"
   ]
  },
  {
   "cell_type": "code",
   "execution_count": 74,
   "id": "female-biodiversity",
   "metadata": {},
   "outputs": [
    {
     "data": {
      "text/plain": [
       "(4734690, 3)"
      ]
     },
     "execution_count": 74,
     "metadata": {},
     "output_type": "execute_result"
    }
   ],
   "source": [
    "predicted.shape"
   ]
  },
  {
   "cell_type": "code",
   "execution_count": 76,
   "id": "dynamic-credit",
   "metadata": {},
   "outputs": [
    {
     "name": "stdout",
     "output_type": "stream",
     "text": [
      "MAP@10: 0.08936124\n",
      "MAP@5: 0.08513299\n"
     ]
    }
   ],
   "source": [
    "#Transforming categories for both recs and actual categories to lists for each user\n",
    "predicted = predicted.groupby('user_id')['catID'].apply(list)\n",
    "actual = actual.groupby('user_id')['catID'].apply(list)\n",
    "\n",
    "# Obtaining mapk value from RankFM recs vs actual test dataset comparrison \n",
    "mapk_score = metrics.mapk(actual, predicted, 10) \n",
    "print('MAP@10:','{:.8f}'.format(mapk_score))\n",
    "\n",
    "mapk_score = metrics.mapk(actual, predicted, 5) \n",
    "print('MAP@5:','{:.8f}'.format(mapk_score))"
   ]
  },
  {
   "cell_type": "markdown",
   "id": "recovered-sculpture",
   "metadata": {},
   "source": [
    "#### Testing CF Model"
   ]
  },
  {
   "cell_type": "code",
   "execution_count": 83,
   "id": "relative-clothing",
   "metadata": {},
   "outputs": [
    {
     "data": {
      "text/html": [
       "<div>\n",
       "<style scoped>\n",
       "    .dataframe tbody tr th:only-of-type {\n",
       "        vertical-align: middle;\n",
       "    }\n",
       "\n",
       "    .dataframe tbody tr th {\n",
       "        vertical-align: top;\n",
       "    }\n",
       "\n",
       "    .dataframe thead th {\n",
       "        text-align: right;\n",
       "    }\n",
       "</style>\n",
       "<table border=\"1\" class=\"dataframe\">\n",
       "  <thead>\n",
       "    <tr style=\"text-align: right;\">\n",
       "      <th></th>\n",
       "      <th>user_id</th>\n",
       "      <th>catID</th>\n",
       "      <th>predicted_rank</th>\n",
       "      <th>predicted_rating</th>\n",
       "    </tr>\n",
       "  </thead>\n",
       "  <tbody>\n",
       "    <tr>\n",
       "      <th>0</th>\n",
       "      <td>128968633</td>\n",
       "      <td>416</td>\n",
       "      <td>0</td>\n",
       "      <td>2.944473</td>\n",
       "    </tr>\n",
       "    <tr>\n",
       "      <th>1</th>\n",
       "      <td>128968633</td>\n",
       "      <td>570</td>\n",
       "      <td>1</td>\n",
       "      <td>2.679109</td>\n",
       "    </tr>\n",
       "    <tr>\n",
       "      <th>2</th>\n",
       "      <td>128968633</td>\n",
       "      <td>668</td>\n",
       "      <td>2</td>\n",
       "      <td>2.218332</td>\n",
       "    </tr>\n",
       "    <tr>\n",
       "      <th>3</th>\n",
       "      <td>128968633</td>\n",
       "      <td>577</td>\n",
       "      <td>3</td>\n",
       "      <td>2.137392</td>\n",
       "    </tr>\n",
       "    <tr>\n",
       "      <th>4</th>\n",
       "      <td>128968633</td>\n",
       "      <td>742</td>\n",
       "      <td>4</td>\n",
       "      <td>2.098948</td>\n",
       "    </tr>\n",
       "  </tbody>\n",
       "</table>\n",
       "</div>"
      ],
      "text/plain": [
       "     user_id  catID  predicted_rank  predicted_rating\n",
       "0  128968633    416               0          2.944473\n",
       "1  128968633    570               1          2.679109\n",
       "2  128968633    668               2          2.218332\n",
       "3  128968633    577               3          2.137392\n",
       "4  128968633    742               4          2.098948"
      ]
     },
     "execution_count": 83,
     "metadata": {},
     "output_type": "execute_result"
    }
   ],
   "source": [
    "# Reading CF results\n",
    "CF_recs = pd.read_csv('s3://myaws-capstone-bucket/data/modeling/ALS/results/part-00000-4e8dadd0-ae3c-4650-a762-ccf1cf39864a-c000.csv')\n",
    "CF_recs.columns = ['user_id','catID','predicted_rank','predicted_rating']\n",
    "# Keeping only test users for model evaluation\n",
    "CF_recs = pd.merge(users_2_test,CF_recs, on=[\"user_id\"], how='inner')\n",
    "CF_recs = CF_recs.drop_duplicates(subset=['user_id','catID','predicted_rank','predicted_rating'])\n",
    "CF_recs = CF_recs.sort_values(['user_id','predicted_rank'],ascending=True)\n",
    "CF_recs.head()"
   ]
  },
  {
   "cell_type": "code",
   "execution_count": 84,
   "id": "viral-citizenship",
   "metadata": {},
   "outputs": [
    {
     "data": {
      "text/plain": [
       "user_id              473469\n",
       "catID                    20\n",
       "predicted_rank           10\n",
       "predicted_rating    1657816\n",
       "dtype: int64"
      ]
     },
     "execution_count": 84,
     "metadata": {},
     "output_type": "execute_result"
    }
   ],
   "source": [
    "CF_recs.nunique()"
   ]
  },
  {
   "cell_type": "code",
   "execution_count": 85,
   "id": "generic-essex",
   "metadata": {},
   "outputs": [
    {
     "data": {
      "text/html": [
       "<div>\n",
       "<style scoped>\n",
       "    .dataframe tbody tr th:only-of-type {\n",
       "        vertical-align: middle;\n",
       "    }\n",
       "\n",
       "    .dataframe tbody tr th {\n",
       "        vertical-align: top;\n",
       "    }\n",
       "\n",
       "    .dataframe thead th {\n",
       "        text-align: right;\n",
       "    }\n",
       "</style>\n",
       "<table border=\"1\" class=\"dataframe\">\n",
       "  <thead>\n",
       "    <tr style=\"text-align: right;\">\n",
       "      <th></th>\n",
       "      <th>user_id</th>\n",
       "      <th>category</th>\n",
       "      <th>category_id</th>\n",
       "      <th>implicit_rating</th>\n",
       "      <th>catID</th>\n",
       "      <th>category_rank</th>\n",
       "    </tr>\n",
       "  </thead>\n",
       "  <tbody>\n",
       "    <tr>\n",
       "      <th>0</th>\n",
       "      <td>128968633</td>\n",
       "      <td>2232732093077520756_construction.tools.light</td>\n",
       "      <td>2232732093077520756</td>\n",
       "      <td>3</td>\n",
       "      <td>668</td>\n",
       "      <td>1</td>\n",
       "    </tr>\n",
       "    <tr>\n",
       "      <th>10</th>\n",
       "      <td>128968633</td>\n",
       "      <td>2053013552351936731_appliances.environment.air...</td>\n",
       "      <td>2053013552351936731</td>\n",
       "      <td>2</td>\n",
       "      <td>16</td>\n",
       "      <td>2</td>\n",
       "    </tr>\n",
       "    <tr>\n",
       "      <th>20</th>\n",
       "      <td>145611266</td>\n",
       "      <td>2053013552259662037_computers.components.power...</td>\n",
       "      <td>2053013552259662037</td>\n",
       "      <td>2</td>\n",
       "      <td>13</td>\n",
       "      <td>1</td>\n",
       "    </tr>\n",
       "    <tr>\n",
       "      <th>30</th>\n",
       "      <td>200985178</td>\n",
       "      <td>2053013555631882655_electronics.smartphone</td>\n",
       "      <td>2053013555631882655</td>\n",
       "      <td>1</td>\n",
       "      <td>107</td>\n",
       "      <td>1</td>\n",
       "    </tr>\n",
       "    <tr>\n",
       "      <th>40</th>\n",
       "      <td>221480173</td>\n",
       "      <td>2232732093077520756_construction.tools.light</td>\n",
       "      <td>2232732093077520756</td>\n",
       "      <td>2</td>\n",
       "      <td>668</td>\n",
       "      <td>1</td>\n",
       "    </tr>\n",
       "  </tbody>\n",
       "</table>\n",
       "</div>"
      ],
      "text/plain": [
       "      user_id                                           category  \\\n",
       "0   128968633       2232732093077520756_construction.tools.light   \n",
       "10  128968633  2053013552351936731_appliances.environment.air...   \n",
       "20  145611266  2053013552259662037_computers.components.power...   \n",
       "30  200985178         2053013555631882655_electronics.smartphone   \n",
       "40  221480173       2232732093077520756_construction.tools.light   \n",
       "\n",
       "            category_id  implicit_rating  catID  category_rank  \n",
       "0   2232732093077520756                3    668              1  \n",
       "10  2053013552351936731                2     16              2  \n",
       "20  2053013552259662037                2     13              1  \n",
       "30  2053013555631882655                1    107              1  \n",
       "40  2232732093077520756                2    668              1  "
      ]
     },
     "execution_count": 85,
     "metadata": {},
     "output_type": "execute_result"
    }
   ],
   "source": [
    "# Keeping same amount of users on test data\n",
    "actual = pd.merge(test_df,CF_recs[['user_id']], on=[\"user_id\"], how='inner')\n",
    "actual = actual.drop_duplicates(subset=['user_id', 'category', 'category_id', 'implicit_rating', 'catID'])\n",
    "actual = actual.sort_values(['user_id','category_rank'],ascending=True)\n",
    "actual.head()"
   ]
  },
  {
   "cell_type": "code",
   "execution_count": 86,
   "id": "accepted-spirituality",
   "metadata": {},
   "outputs": [
    {
     "data": {
      "text/plain": [
       "user_id            473469\n",
       "category              916\n",
       "category_id           916\n",
       "implicit_rating         5\n",
       "catID                 916\n",
       "category_rank           6\n",
       "dtype: int64"
      ]
     },
     "execution_count": 86,
     "metadata": {},
     "output_type": "execute_result"
    }
   ],
   "source": [
    "actual.nunique()"
   ]
  },
  {
   "cell_type": "code",
   "execution_count": 87,
   "id": "weekly-visibility",
   "metadata": {},
   "outputs": [
    {
     "name": "stdout",
     "output_type": "stream",
     "text": [
      "MAP@10: 0.07047043\n",
      "MAP@5: 0.06241091\n"
     ]
    }
   ],
   "source": [
    "#Transforming categories for both recs and actual categories to lists for each user\n",
    "predicted = CF_recs.groupby('user_id')['catID'].apply(list)\n",
    "actual = actual.groupby('user_id')['catID'].apply(list)\n",
    "\n",
    "# Obtaining mapk value from RankFM recs vs actual test dataset comparrison \n",
    "mapk_score = metrics.mapk(actual, predicted, 10) \n",
    "print('MAP@10:','{:.8f}'.format(mapk_score))\n",
    "\n",
    "mapk_score = metrics.mapk(actual, predicted, 5) \n",
    "print('MAP@5:','{:.8f}'.format(mapk_score))"
   ]
  },
  {
   "cell_type": "code",
   "execution_count": null,
   "id": "dressed-aruba",
   "metadata": {},
   "outputs": [],
   "source": []
  }
 ],
 "metadata": {
  "kernelspec": {
   "display_name": "conda_python3",
   "language": "python",
   "name": "conda_python3"
  },
  "language_info": {
   "codemirror_mode": {
    "name": "ipython",
    "version": 3
   },
   "file_extension": ".py",
   "mimetype": "text/x-python",
   "name": "python",
   "nbconvert_exporter": "python",
   "pygments_lexer": "ipython3",
   "version": "3.6.13"
  }
 },
 "nbformat": 4,
 "nbformat_minor": 5
}
