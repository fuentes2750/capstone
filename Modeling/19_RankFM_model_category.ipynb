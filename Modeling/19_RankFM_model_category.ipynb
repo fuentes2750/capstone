{
 "cells": [
  {
   "cell_type": "markdown",
   "id": "plastic-encounter",
   "metadata": {},
   "source": [
    "This notebook uses the package rankfm found at: https://github.com/etlundquist/rankfm\n",
    "\n",
    "Also using as reference the following article: https://towardsdatascience.com/factorization-machines-for-item-recommendation-with-implicit-feedback-data-5655a7c749db"
   ]
  },
  {
   "cell_type": "markdown",
   "id": "western-franchise",
   "metadata": {},
   "source": [
    "This code uses the training, validation and test sets created on the notebook: Implicit_Rating_Calculation_category.ipynb to train and test the model."
   ]
  },
  {
   "cell_type": "code",
   "execution_count": 1,
   "id": "cardiovascular-diamond",
   "metadata": {},
   "outputs": [
    {
     "name": "stdout",
     "output_type": "stream",
     "text": [
      "Collecting rankfm\n",
      "  Downloading rankfm-0.2.5.tar.gz (145 kB)\n",
      "\u001b[K     |████████████████████████████████| 145 kB 6.5 MB/s eta 0:00:01\n",
      "\u001b[?25hRequirement already satisfied: numpy>=1.15 in /home/ec2-user/anaconda3/envs/python3/lib/python3.6/site-packages (from rankfm) (1.19.5)\n",
      "Requirement already satisfied: pandas>=0.24 in /home/ec2-user/anaconda3/envs/python3/lib/python3.6/site-packages (from rankfm) (1.1.5)\n",
      "Requirement already satisfied: python-dateutil>=2.7.3 in /home/ec2-user/anaconda3/envs/python3/lib/python3.6/site-packages (from pandas>=0.24->rankfm) (2.8.1)\n",
      "Requirement already satisfied: pytz>=2017.2 in /home/ec2-user/anaconda3/envs/python3/lib/python3.6/site-packages (from pandas>=0.24->rankfm) (2021.1)\n",
      "Requirement already satisfied: six>=1.5 in /home/ec2-user/anaconda3/envs/python3/lib/python3.6/site-packages (from python-dateutil>=2.7.3->pandas>=0.24->rankfm) (1.15.0)\n",
      "Building wheels for collected packages: rankfm\n",
      "  Building wheel for rankfm (setup.py) ... \u001b[?25ldone\n",
      "\u001b[?25h  Created wheel for rankfm: filename=rankfm-0.2.5-cp36-cp36m-linux_x86_64.whl size=399145 sha256=970384e1d9a80f1e1f8625c26d9e2c7d8783dd2091b9e984cd68801d0d234229\n",
      "  Stored in directory: /home/ec2-user/.cache/pip/wheels/44/3a/5e/8a30a8716f170f3920c0e433a7de48690fa5a1854027ad3a4b\n",
      "Successfully built rankfm\n",
      "Installing collected packages: rankfm\n",
      "Successfully installed rankfm-0.2.5\n"
     ]
    }
   ],
   "source": [
    "! pip install rankfm"
   ]
  },
  {
   "cell_type": "code",
   "execution_count": 2,
   "id": "failing-fiction",
   "metadata": {},
   "outputs": [],
   "source": [
    "# Loading needed libraries\n",
    "import numpy as np\n",
    "import pandas as pd\n",
    "import datetime as dt\n",
    "from datetime import date\n",
    "import gc\n",
    "\n",
    "from rankfm.rankfm import RankFM\n",
    "from rankfm.evaluation import hit_rate, reciprocal_rank, discounted_cumulative_gain, precision, recall\n",
    "\n",
    "# Loading libraries for S3 bucket connection\n",
    "import boto3\n",
    "import io\n",
    "from io import StringIO,BytesIO, TextIOWrapper\n",
    "import gzip\n",
    "\n",
    "client = boto3.client('s3') \n",
    "resource = boto3.resource('s3') "
   ]
  },
  {
   "cell_type": "markdown",
   "id": "wound-terminal",
   "metadata": {},
   "source": [
    "#### Data preparation"
   ]
  },
  {
   "cell_type": "code",
   "execution_count": 3,
   "id": "imposed-rachel",
   "metadata": {},
   "outputs": [],
   "source": [
    "# Reading Training,validation and testing dfs - Using the created implicit_cat data with timestamp\n",
    "train_df = pd.read_csv('s3://myaws-capstone-bucket/data/modeling/input/T_implicit_cat_rating_train.csv')\n",
    "test_df = pd.read_csv('s3://myaws-capstone-bucket/data/modeling/input/T_implicit_cat_rating_test.csv')"
   ]
  },
  {
   "cell_type": "code",
   "execution_count": 4,
   "id": "greater-russian",
   "metadata": {},
   "outputs": [],
   "source": [
    "# Transform product and user ids to needed format\n",
    "train_df['catID'] = train_df['catID'].astype(\"int64\")\n",
    "train_df['user_id'] = train_df['user_id'].astype(\"int64\")"
   ]
  },
  {
   "cell_type": "code",
   "execution_count": 5,
   "id": "israeli-heavy",
   "metadata": {},
   "outputs": [],
   "source": [
    "# Transform product and user ids to needed format\n",
    "test_df['catID'] = test_df['catID'].astype(\"int64\")\n",
    "test_df['user_id'] = test_df['user_id'].astype(\"int64\")"
   ]
  },
  {
   "cell_type": "markdown",
   "id": "under-athens",
   "metadata": {},
   "source": [
    "#### Model Data Analysis and Training "
   ]
  },
  {
   "cell_type": "code",
   "execution_count": 6,
   "id": "wound-creator",
   "metadata": {},
   "outputs": [],
   "source": [
    "# RankFM two columns: a user_id and a category_id \n",
    "interactions_train = train_df[['user_id', 'catID']]\n",
    "interactions_test = test_df[['user_id', 'catID']]"
   ]
  },
  {
   "cell_type": "code",
   "execution_count": 7,
   "id": "classical-blood",
   "metadata": {},
   "outputs": [],
   "source": [
    "train_users = np.sort(interactions_train.user_id.unique())\n",
    "test_users = np.sort(interactions_test.user_id.unique())\n",
    "cold_start_users = set(test_users) - set(train_users)\n",
    "\n",
    "train_items = np.sort(interactions_train.catID.unique())\n",
    "test_items = np.sort(interactions_test.catID.unique())\n",
    "cold_start_items = set(test_items) - set(train_items)"
   ]
  },
  {
   "cell_type": "code",
   "execution_count": 8,
   "id": "retired-adult",
   "metadata": {},
   "outputs": [
    {
     "name": "stdout",
     "output_type": "stream",
     "text": [
      "\n",
      "training epoch: 0\n",
      "log likelihood: -903029.9375\n",
      "\n",
      "training epoch: 1\n",
      "log likelihood: -914999.8125\n",
      "\n",
      "training epoch: 2\n",
      "log likelihood: -910992.875\n",
      "\n",
      "training epoch: 3\n",
      "log likelihood: -907428.375\n",
      "\n",
      "training epoch: 4\n",
      "log likelihood: -901442.75\n",
      "\n",
      "training epoch: 5\n",
      "log likelihood: -895959.125\n",
      "\n",
      "training epoch: 6\n",
      "log likelihood: -888654.0625\n",
      "\n",
      "training epoch: 7\n",
      "log likelihood: -882423.5625\n",
      "\n",
      "training epoch: 8\n",
      "log likelihood: -873665.0\n",
      "\n",
      "training epoch: 9\n",
      "log likelihood: -866238.6875\n",
      "\n",
      "training epoch: 10\n",
      "log likelihood: -856602.8125\n",
      "\n",
      "training epoch: 11\n",
      "log likelihood: -848097.25\n",
      "\n",
      "training epoch: 12\n",
      "log likelihood: -839488.4375\n",
      "\n",
      "training epoch: 13\n",
      "log likelihood: -831698.375\n",
      "\n",
      "training epoch: 14\n",
      "log likelihood: -824022.875\n",
      "\n",
      "training epoch: 15\n",
      "log likelihood: -815688.0\n",
      "\n",
      "training epoch: 16\n",
      "log likelihood: -808081.25\n",
      "\n",
      "training epoch: 17\n",
      "log likelihood: -799818.3125\n",
      "\n",
      "training epoch: 18\n",
      "log likelihood: -792022.0625\n",
      "\n",
      "training epoch: 19\n",
      "log likelihood: -784786.875\n"
     ]
    }
   ],
   "source": [
    "model = RankFM(factors=20, loss='warp', max_samples=20, alpha=0.01, sigma=0.1, learning_rate=0.1, learning_schedule='invscaling')\n",
    "model.fit(interactions_train, epochs=20, verbose=True)"
   ]
  },
  {
   "cell_type": "code",
   "execution_count": 9,
   "id": "banner-repository",
   "metadata": {},
   "outputs": [],
   "source": [
    "# Generating top 10 recommended products for each user\n",
    "test_recs = model.recommend(test_users, n_items=10, filter_previous=True, cold_start='drop')"
   ]
  },
  {
   "cell_type": "code",
   "execution_count": 10,
   "id": "functioning-prisoner",
   "metadata": {},
   "outputs": [
    {
     "data": {
      "text/html": [
       "<div>\n",
       "<style scoped>\n",
       "    .dataframe tbody tr th:only-of-type {\n",
       "        vertical-align: middle;\n",
       "    }\n",
       "\n",
       "    .dataframe tbody tr th {\n",
       "        vertical-align: top;\n",
       "    }\n",
       "\n",
       "    .dataframe thead th {\n",
       "        text-align: right;\n",
       "    }\n",
       "</style>\n",
       "<table border=\"1\" class=\"dataframe\">\n",
       "  <thead>\n",
       "    <tr style=\"text-align: right;\">\n",
       "      <th></th>\n",
       "      <th>index</th>\n",
       "      <th>0</th>\n",
       "      <th>1</th>\n",
       "      <th>2</th>\n",
       "      <th>3</th>\n",
       "      <th>4</th>\n",
       "      <th>5</th>\n",
       "      <th>6</th>\n",
       "      <th>7</th>\n",
       "      <th>8</th>\n",
       "      <th>9</th>\n",
       "    </tr>\n",
       "  </thead>\n",
       "  <tbody>\n",
       "    <tr>\n",
       "      <th>0</th>\n",
       "      <td>128968633</td>\n",
       "      <td>668.0</td>\n",
       "      <td>107.0</td>\n",
       "      <td>605.0</td>\n",
       "      <td>714.0</td>\n",
       "      <td>84.0</td>\n",
       "      <td>725.0</td>\n",
       "      <td>76.0</td>\n",
       "      <td>662.0</td>\n",
       "      <td>743.0</td>\n",
       "      <td>699.0</td>\n",
       "    </tr>\n",
       "    <tr>\n",
       "      <th>1</th>\n",
       "      <td>145611266</td>\n",
       "      <td>668.0</td>\n",
       "      <td>107.0</td>\n",
       "      <td>605.0</td>\n",
       "      <td>84.0</td>\n",
       "      <td>714.0</td>\n",
       "      <td>725.0</td>\n",
       "      <td>743.0</td>\n",
       "      <td>729.0</td>\n",
       "      <td>76.0</td>\n",
       "      <td>662.0</td>\n",
       "    </tr>\n",
       "    <tr>\n",
       "      <th>2</th>\n",
       "      <td>200985178</td>\n",
       "      <td>107.0</td>\n",
       "      <td>605.0</td>\n",
       "      <td>84.0</td>\n",
       "      <td>714.0</td>\n",
       "      <td>725.0</td>\n",
       "      <td>76.0</td>\n",
       "      <td>662.0</td>\n",
       "      <td>743.0</td>\n",
       "      <td>751.0</td>\n",
       "      <td>657.0</td>\n",
       "    </tr>\n",
       "    <tr>\n",
       "      <th>3</th>\n",
       "      <td>221480173</td>\n",
       "      <td>107.0</td>\n",
       "      <td>605.0</td>\n",
       "      <td>84.0</td>\n",
       "      <td>714.0</td>\n",
       "      <td>725.0</td>\n",
       "      <td>76.0</td>\n",
       "      <td>743.0</td>\n",
       "      <td>662.0</td>\n",
       "      <td>751.0</td>\n",
       "      <td>200.0</td>\n",
       "    </tr>\n",
       "    <tr>\n",
       "      <th>4</th>\n",
       "      <td>237973968</td>\n",
       "      <td>668.0</td>\n",
       "      <td>107.0</td>\n",
       "      <td>605.0</td>\n",
       "      <td>84.0</td>\n",
       "      <td>714.0</td>\n",
       "      <td>725.0</td>\n",
       "      <td>76.0</td>\n",
       "      <td>662.0</td>\n",
       "      <td>743.0</td>\n",
       "      <td>375.0</td>\n",
       "    </tr>\n",
       "  </tbody>\n",
       "</table>\n",
       "</div>"
      ],
      "text/plain": [
       "       index      0      1      2      3      4      5      6      7      8  \\\n",
       "0  128968633  668.0  107.0  605.0  714.0   84.0  725.0   76.0  662.0  743.0   \n",
       "1  145611266  668.0  107.0  605.0   84.0  714.0  725.0  743.0  729.0   76.0   \n",
       "2  200985178  107.0  605.0   84.0  714.0  725.0   76.0  662.0  743.0  751.0   \n",
       "3  221480173  107.0  605.0   84.0  714.0  725.0   76.0  743.0  662.0  751.0   \n",
       "4  237973968  668.0  107.0  605.0   84.0  714.0  725.0   76.0  662.0  743.0   \n",
       "\n",
       "       9  \n",
       "0  699.0  \n",
       "1  662.0  \n",
       "2  657.0  \n",
       "3  200.0  \n",
       "4  375.0  "
      ]
     },
     "execution_count": 10,
     "metadata": {},
     "output_type": "execute_result"
    }
   ],
   "source": [
    "test_recs = test_recs.reset_index()# Reseting the index as the index is the user_id\n",
    "test_recs.head()"
   ]
  },
  {
   "cell_type": "code",
   "execution_count": 11,
   "id": "taken-assessment",
   "metadata": {},
   "outputs": [],
   "source": [
    "# Renaming column\n",
    "test_recs.columns = ['user_id', 0, 1, 2, 3, 4, 5, 6, 7, 8, 9]"
   ]
  },
  {
   "cell_type": "code",
   "execution_count": 12,
   "id": "organic-desire",
   "metadata": {},
   "outputs": [],
   "source": [
    "# Saving results of recommendations in S3\n",
    "test_recs.to_csv('s3://myaws-capstone-bucket/data/modeling/output/rankFM_category.csv',index=False)"
   ]
  },
  {
   "cell_type": "code",
   "execution_count": 13,
   "id": "running-surgery",
   "metadata": {},
   "outputs": [
    {
     "data": {
      "text/html": [
       "<div>\n",
       "<style scoped>\n",
       "    .dataframe tbody tr th:only-of-type {\n",
       "        vertical-align: middle;\n",
       "    }\n",
       "\n",
       "    .dataframe tbody tr th {\n",
       "        vertical-align: top;\n",
       "    }\n",
       "\n",
       "    .dataframe thead th {\n",
       "        text-align: right;\n",
       "    }\n",
       "</style>\n",
       "<table border=\"1\" class=\"dataframe\">\n",
       "  <thead>\n",
       "    <tr style=\"text-align: right;\">\n",
       "      <th></th>\n",
       "      <th>user_id</th>\n",
       "      <th>predicted_Rank</th>\n",
       "      <th>predicted_recs</th>\n",
       "    </tr>\n",
       "  </thead>\n",
       "  <tbody>\n",
       "    <tr>\n",
       "      <th>0</th>\n",
       "      <td>128968633</td>\n",
       "      <td>0</td>\n",
       "      <td>668</td>\n",
       "    </tr>\n",
       "    <tr>\n",
       "      <th>1</th>\n",
       "      <td>145611266</td>\n",
       "      <td>0</td>\n",
       "      <td>668</td>\n",
       "    </tr>\n",
       "    <tr>\n",
       "      <th>2</th>\n",
       "      <td>200985178</td>\n",
       "      <td>0</td>\n",
       "      <td>107</td>\n",
       "    </tr>\n",
       "    <tr>\n",
       "      <th>3</th>\n",
       "      <td>221480173</td>\n",
       "      <td>0</td>\n",
       "      <td>107</td>\n",
       "    </tr>\n",
       "    <tr>\n",
       "      <th>4</th>\n",
       "      <td>237973968</td>\n",
       "      <td>0</td>\n",
       "      <td>668</td>\n",
       "    </tr>\n",
       "  </tbody>\n",
       "</table>\n",
       "</div>"
      ],
      "text/plain": [
       "     user_id predicted_Rank  predicted_recs\n",
       "0  128968633              0             668\n",
       "1  145611266              0             668\n",
       "2  200985178              0             107\n",
       "3  221480173              0             107\n",
       "4  237973968              0             668"
      ]
     },
     "execution_count": 13,
     "metadata": {},
     "output_type": "execute_result"
    }
   ],
   "source": [
    "# Transforming recommendations from being in columns to being in rows\n",
    "recs = test_recs.melt(id_vars=[\"user_id\"], \n",
    "        var_name=\"predicted_Rank\", \n",
    "        value_name=\"predicted_recs\")\n",
    "recs['predicted_recs'] = recs['predicted_recs'].astype(\"int64\")\n",
    "recs.head()"
   ]
  },
  {
   "cell_type": "code",
   "execution_count": 14,
   "id": "pediatric-fraction",
   "metadata": {},
   "outputs": [],
   "source": [
    "# Saving results of recommendations in S3\n",
    "recs.to_csv('s3://myaws-capstone-bucket/data/modeling/output/rankFM_T_category.csv',index=False)"
   ]
  },
  {
   "cell_type": "code",
   "execution_count": 15,
   "id": "changed-mouth",
   "metadata": {},
   "outputs": [
    {
     "data": {
      "text/plain": [
       "user_id           473469\n",
       "predicted_Rank        10\n",
       "predicted_recs       474\n",
       "dtype: int64"
      ]
     },
     "execution_count": 15,
     "metadata": {},
     "output_type": "execute_result"
    }
   ],
   "source": [
    "recs.nunique()"
   ]
  },
  {
   "cell_type": "code",
   "execution_count": null,
   "id": "instrumental-premium",
   "metadata": {},
   "outputs": [],
   "source": []
  }
 ],
 "metadata": {
  "kernelspec": {
   "display_name": "conda_python3",
   "language": "python",
   "name": "conda_python3"
  },
  "language_info": {
   "codemirror_mode": {
    "name": "ipython",
    "version": 3
   },
   "file_extension": ".py",
   "mimetype": "text/x-python",
   "name": "python",
   "nbconvert_exporter": "python",
   "pygments_lexer": "ipython3",
   "version": "3.6.13"
  }
 },
 "nbformat": 4,
 "nbformat_minor": 5
}
